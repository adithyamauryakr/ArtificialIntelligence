{
  "nbformat": 4,
  "nbformat_minor": 0,
  "metadata": {
    "colab": {
      "name": "YOLOv6.ipynb",
      "provenance": [],
      "machine_shape": "hm",
      "collapsed_sections": [],
      "include_colab_link": true
    },
    "kernelspec": {
      "name": "python3",
      "display_name": "Python 3"
    },
    "language_info": {
      "name": "python"
    },
    "accelerator": "GPU",
    "gpuClass": "standard"
  },
  "cells": [
    {
      "cell_type": "markdown",
      "metadata": {
        "id": "view-in-github",
        "colab_type": "text"
      },
      "source": [
        "<a href=\"https://colab.research.google.com/github/look4pritam/ArtificialIntelligence/blob/master/setup/YOLOv6.ipynb\" target=\"_parent\"><img src=\"https://colab.research.google.com/assets/colab-badge.svg\" alt=\"Open In Colab\"/></a>"
      ]
    },
    {
      "cell_type": "code",
      "execution_count": null,
      "metadata": {
        "id": "Z_hhO1QzZKQ3"
      },
      "outputs": [],
      "source": [
        "!git clone https://github.com/meituan/YOLOv6"
      ]
    },
    {
      "cell_type": "code",
      "source": [
        "%cd YOLOv6"
      ],
      "metadata": {
        "id": "8Aa9-sOyZY6h"
      },
      "execution_count": null,
      "outputs": []
    },
    {
      "cell_type": "code",
      "source": [
        "!pip install -r requirements.txt"
      ],
      "metadata": {
        "id": "u66BW_woZeRw"
      },
      "execution_count": null,
      "outputs": []
    },
    {
      "cell_type": "code",
      "source": [
        "!curl -L \"https://public.roboflow.com/ds/AJcokxI4cX?key=yjG0hvwofT\" > roboflow.zip; unzip roboflow.zip; rm roboflow.zip"
      ],
      "metadata": {
        "id": "vm2hk99JZgBo"
      },
      "execution_count": null,
      "outputs": []
    },
    {
      "cell_type": "code",
      "source": [
        "!python tools/train.py \\\n",
        "--batch 32 \\\n",
        "--conf configs/yolov6s.py \\\n",
        "--data data.yaml \\\n",
        "--device 0 \\\n",
        "--epochs 500"
      ],
      "metadata": {
        "id": "RoleuOw2ZmCo"
      },
      "execution_count": null,
      "outputs": []
    },
    {
      "cell_type": "code",
      "source": [
        "!python tools/train.py \\\n",
        "--batch 32 \\\n",
        "--conf configs/yolov6s_finetune.py \\\n",
        "--data data.yaml \\\n",
        "--device 0 \\\n",
        "--epochs 500"
      ],
      "metadata": {
        "id": "DZxMi_Uqtvlr"
      },
      "execution_count": null,
      "outputs": []
    },
    {
      "cell_type": "code",
      "source": [
        "!python deploy/ONNX/export_onnx.py \\\n",
        "--weights /content/YOLOv6/runs/train/exp/weights/best_ckpt.pt \\\n",
        "--img 640 \\\n",
        "--batch 1"
      ],
      "metadata": {
        "id": "TxxI8Vp1aOdp"
      },
      "execution_count": null,
      "outputs": []
    }
  ]
}