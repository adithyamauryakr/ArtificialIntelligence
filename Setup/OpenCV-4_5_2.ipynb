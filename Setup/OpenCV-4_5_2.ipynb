{
  "nbformat": 4,
  "nbformat_minor": 0,
  "metadata": {
    "kernelspec": {
      "display_name": "Python 3",
      "language": "python",
      "name": "python3"
    },
    "language_info": {
      "codemirror_mode": {
        "name": "ipython",
        "version": 3
      },
      "file_extension": ".py",
      "mimetype": "text/x-python",
      "name": "python",
      "nbconvert_exporter": "python",
      "pygments_lexer": "ipython3",
      "version": "3.6.5"
    },
    "colab": {
      "name": "OpenCV-4.5.2.ipynb",
      "private_outputs": true,
      "provenance": [],
      "collapsed_sections": []
    }
  },
  "cells": [
    {
      "cell_type": "markdown",
      "metadata": {
        "id": "Rjwh9yxEi7EV"
      },
      "source": [
        "# Import Python packages."
      ]
    },
    {
      "cell_type": "code",
      "metadata": {
        "id": "0hrjkIK3i48D"
      },
      "source": [
        "import os"
      ],
      "execution_count": null,
      "outputs": []
    },
    {
      "cell_type": "markdown",
      "metadata": {
        "id": "woowFiNxacba"
      },
      "source": [
        "# Check Ubuntu version.\n",
        "* Ubuntu 18.04.3 LTS"
      ]
    },
    {
      "cell_type": "code",
      "metadata": {
        "id": "qPYvCaVFaebA"
      },
      "source": [
        "!cat /etc/os-release"
      ],
      "execution_count": null,
      "outputs": []
    },
    {
      "cell_type": "markdown",
      "metadata": {
        "id": "NxZm3ZmdbF_M"
      },
      "source": [
        "# Update the list of packages."
      ]
    },
    {
      "cell_type": "code",
      "metadata": {
        "id": "nehBhn5-bHtw"
      },
      "source": [
        "!sudo apt-get update -y"
      ],
      "execution_count": null,
      "outputs": []
    },
    {
      "cell_type": "markdown",
      "metadata": {
        "id": "Gfn3Sb8JbQrb"
      },
      "source": [
        "# Remove the older version of libx264-dev and x264."
      ]
    },
    {
      "cell_type": "code",
      "metadata": {
        "id": "qKsijYJZbRGu"
      },
      "source": [
        "!sudo apt-get remove -y x264 libx264-dev"
      ],
      "execution_count": null,
      "outputs": []
    },
    {
      "cell_type": "markdown",
      "metadata": {
        "id": "UO7efrN4br5S"
      },
      "source": [
        "# Install packages.\n",
        "\n",
        "## build-essential\n",
        "* It is a package which contains references to other important packages which are needed for building software or compiling packages. It generally includes GCC / g++ compilers, libraries and some other utilities.\n",
        "\n",
        "## checkinstall\n",
        "* It is a program which helps to compile the code from source and creates native package for your linux distribution. After compilation, you will be able to install the package using your distribution package management system (dpkg, rpm)\n",
        "\n",
        "## cmake\n",
        "* It is cross-platform build system generator. You can build a project by using CMake to generate a build system for a native tool on your platform. It controls the software compilation process using simple platform and compiler independent configuration files.\n",
        "\n",
        "## pkg-config\n",
        "* It is a tool used during the compilation of application and libraries. It will help you to provide correct compiler options on the command line i.e. it will find installed libraries which are required for the compilation of software.\n",
        "\n",
        "## yasm\n",
        "* It is an assembler which supports x86 and AMD64 instruction sets. ELF32, ELF64, 32 and 64-bit Mach-O, RDOFF2, COFF, Win32 and Win64 are the object formats used to generate output binaries."
      ]
    },
    {
      "cell_type": "code",
      "metadata": {
        "id": "ttD2hM0IbldL"
      },
      "source": [
        "!sudo apt-get install -y build-essential checkinstall cmake pkg-config yasm"
      ],
      "execution_count": null,
      "outputs": []
    },
    {
      "cell_type": "markdown",
      "metadata": {
        "id": "Zn_0XHXWcLSE"
      },
      "source": [
        "# Install packages.\n",
        "\n",
        "## git\n",
        "* It is an open source controlling system which can handle projects to boost up the efficiency of developers.\n",
        "\n",
        "## gfortran\n",
        "* GNU Fortran is a part of GCC, the GNU Compiler Collection. It can be used to compile Fortran programs to get the desired output during execution. The GFortran will develop the Fortran compiler front end and run-time libraries for GCC."
      ]
    },
    {
      "cell_type": "code",
      "metadata": {
        "id": "LRNjffYpcPai"
      },
      "source": [
        "!sudo apt-get install -y git gfortran"
      ],
      "execution_count": null,
      "outputs": []
    },
    {
      "cell_type": "markdown",
      "metadata": {
        "id": "sTh4Mo_SdqC3"
      },
      "source": [
        "# Add the link of the repository.\n",
        "* Install the libraries which does not support Ubuntu 18.04."
      ]
    },
    {
      "cell_type": "code",
      "metadata": {
        "id": "l19UoTn0dqgN"
      },
      "source": [
        "!sudo add-apt-repository -y \"deb http://security.ubuntu.com/ubuntu xenial-security main\""
      ],
      "execution_count": null,
      "outputs": []
    },
    {
      "cell_type": "markdown",
      "metadata": {
        "id": "vXcp-CqycYJN"
      },
      "source": [
        "# Install packages.\n",
        "\n",
        "## libjpeg\n",
        "* This is a free library for handling JPEG Image Data format. It has got various utilities such as cjpeg and djpeg to convert the JPEG data into other image file formats. It also has rdjpgcom and wrjpgcom which helps to insert and extract textual comments in JPEG files.\n",
        "\n",
        "## libjasper\n",
        "* It is a project to create a reference implementation of the encoding and decoding specified in the JPEG-2000 Part-1. In other words, it helps in coding and manipulation of images. This library can handle image data in a variety of formats.\n",
        "\n",
        "## libpng\n",
        "* This library is used to handle PNG format images. It is platform independent and is written in C language. It uses zlib for compression and decompression of PNG files. The zlib compression utility is a general purpose utility that is useful for various image formats other than PNG, therefore, it can be used without having libpng."
      ]
    },
    {
      "cell_type": "code",
      "metadata": {
        "id": "Dqb926fbcYiO"
      },
      "source": [
        "!sudo apt-get install -y libjpeg8-dev libjasper-dev libpng12-dev"
      ],
      "execution_count": null,
      "outputs": []
    },
    {
      "cell_type": "markdown",
      "metadata": {
        "id": "V8uv7Z1xcqKe"
      },
      "source": [
        "# Install packages.\n",
        "## libtiff\n",
        "* It is a library for reading and writing Tagged Image File Format files. It is similar to other libraries namely libpng and libjpeg which is used to work with .tiff format."
      ]
    },
    {
      "cell_type": "code",
      "metadata": {
        "id": "hjT-uY5peITe"
      },
      "source": [
        "!sudo apt-get install -y libtiff5-dev"
      ],
      "execution_count": null,
      "outputs": []
    },
    {
      "cell_type": "markdown",
      "metadata": {
        "id": "dTKx8B7TeS7c"
      },
      "source": [
        "# Install packages.\n",
        "## libavcodec\n",
        "* This library provides encoding and decoding framework for audio, video and subtitle streams and several bitstream filters. The popular MPlayer, xine and VLC media players use it as their main, built-in decoding engine that enables playback of many audio and video formats on all supported platforms. It also contains highly optimized implementations of common building blocks such as DCT (Discrete Cosine Transform) and Color Space conversion.\n",
        "\n",
        "## libavformat-dev\n",
        "* This library provides a general framework for multiplexing and demultiplexing audio, video and subtitle streams. It also supports several input and output protocols to access media resources.\n",
        "\n",
        "## libdc1394-22-dev\n",
        "* This library allows a program to interface with camera which conforms to IEEE 1394 standard."
      ]
    },
    {
      "cell_type": "code",
      "metadata": {
        "id": "8DLKWOm-eVVK"
      },
      "source": [
        "!sudo apt-get install -y libavcodec-dev libavformat-dev libswscale-dev libdc1394-22-dev"
      ],
      "execution_count": null,
      "outputs": []
    },
    {
      "cell_type": "markdown",
      "metadata": {
        "id": "-d_GkVR-enFZ"
      },
      "source": [
        "# Install packages.\n",
        "\n",
        "## libxine2-dev\n",
        "* This library provides complete infrastructure for a media player. The format supported are MPEG 1/2, some AVI and Quicktime videos. It also supports network streams, subtitles and even MP3 or Ogg files.\n",
        "\n",
        "## libv4l-dev\n",
        "* It is a collection of libraries which adds a thin abstraction layer on top of video4linux2 devices. This makes easy for application writers to support a wide variety of devices without having to write separate code for different devices in the same class. It has got other utilities such as lib4lconvert which does the job of converting the current pixel format to BGR24, RGB24, YUV420 and YVU420."
      ]
    },
    {
      "cell_type": "code",
      "metadata": {
        "id": "qaX0vSM5ew0l"
      },
      "source": [
        "!sudo apt-get install -y libxine2-dev libv4l-dev"
      ],
      "execution_count": null,
      "outputs": []
    },
    {
      "cell_type": "markdown",
      "metadata": {
        "id": "chuq-XpwSOmA"
      },
      "source": [
        "# Install GStreamer."
      ]
    },
    {
      "cell_type": "code",
      "metadata": {
        "id": "9PNUSn4USSjL"
      },
      "source": [
        "!sudo apt-get install -y libgstreamer1.0-0 gstreamer1.0-plugins-base gstreamer1.0-plugins-good gstreamer1.0-plugins-bad gstreamer1.0-plugins-ugly gstreamer1.0-libav gstreamer1.0-doc gstreamer1.0-tools gstreamer1.0-x gstreamer1.0-alsa gstreamer1.0-gl gstreamer1.0-gtk3 gstreamer1.0-qt5 gstreamer1.0-pulseaudio"
      ],
      "execution_count": null,
      "outputs": []
    },
    {
      "cell_type": "markdown",
      "metadata": {
        "id": "qoysvLORe-U0"
      },
      "source": [
        "# Install packages.\n",
        "\n",
        "## libgstreamer1.0-dev\n",
        "* It is a streaming media framework based on graphs of filters which operate on media data. You can perform real-time sound processing to playing videos with this library. It has plugin-based architecture which means that new processing capabilities can be added simply.\n",
        "\n",
        "## libgstreamer-plugins-base1.0-dev\n",
        "* This package contains development files for GStreamer libraries from the ‘base’ set, an essential exemplary set of elements."
      ]
    },
    {
      "cell_type": "code",
      "metadata": {
        "id": "KLlyE7b4fBaF"
      },
      "source": [
        "!sudo apt-get install -y libgstreamer1.0-dev libgstreamer-plugins-base1.0-dev"
      ],
      "execution_count": null,
      "outputs": []
    },
    {
      "cell_type": "markdown",
      "metadata": {
        "id": "U1DSqbSTfNvU"
      },
      "source": [
        "# Install packages.\n",
        "\n",
        "## qt5-default\n",
        "* Qt is a cross-platform C++ application framework. It has a rich set of widgets which provides standard GUI functionality. It is classified as widget toolkit. It has the capability of developing non-GUI programs such as command-line tools and consoles for servers.\n",
        "\n",
        "## libgtk2.0-dev\n",
        "* It is a free and open source cross-platform widget toolkit for creating graphical user interfaces (GUIs). It contains set of graphical control elements and is an object oriented widget toolkit.\n",
        "\n",
        "## libtbb-dev\n",
        "* This library makes use of multi-core processor performance to do tasks in parallel manner. It represents a higher-level, task-based parallelism that abstracts platform details and threading mechanism for performance and scalability."
      ]
    },
    {
      "cell_type": "code",
      "metadata": {
        "id": "dnGnp429fPpz"
      },
      "source": [
        "!sudo apt-get install -y qt5-default libgtk2.0-dev libtbb-dev"
      ],
      "execution_count": null,
      "outputs": []
    },
    {
      "cell_type": "markdown",
      "metadata": {
        "id": "_GNz5x4dflha"
      },
      "source": [
        "# Install packages.\n",
        "\n",
        "## libatlas-base-dev\n",
        "* This library supplies optimized versions for the complete set of linear algebra kernels known as Basic Linear Algebra Subroutines (BLAS) and a subset of the linear algebra routines in the LAPACK library. ATLAS is an acronym for Automatically Tuned Linear Algebra Software."
      ]
    },
    {
      "cell_type": "code",
      "metadata": {
        "id": "wHo5Cbubfnuf"
      },
      "source": [
        "!sudo apt-get install -y libatlas-base-dev"
      ],
      "execution_count": null,
      "outputs": []
    },
    {
      "cell_type": "markdown",
      "metadata": {
        "id": "AwsDCncofwPy"
      },
      "source": [
        "# Install packages.\n",
        "\n",
        "## libfaac-dev\n",
        "* This library is AAC encoder and FAAD2 decoder. It supports several MPEG-4 object types (LC, Main, LTP, HE AAC, PS) and file formats (ADTS AAC, raw AAC, MP4).\n",
        "\n",
        "## libmp3lame-dev \n",
        "* It is MP3 encoding library which is used to for sound analysis as well as convenience tools.\n",
        "\n",
        "## libtheora-dev\n",
        "* Theora Video Compression Codec. Theora is a fully open, non-proprietary, general purpose compressed video format."
      ]
    },
    {
      "cell_type": "code",
      "metadata": {
        "id": "TxQbYI6TfyN5"
      },
      "source": [
        "!sudo apt-get install -y libfaac-dev libmp3lame-dev libtheora-dev"
      ],
      "execution_count": null,
      "outputs": []
    },
    {
      "cell_type": "markdown",
      "metadata": {
        "id": "ZQw6pT7EgBEU"
      },
      "source": [
        "# Install packages.\n",
        "\n",
        "## libvorbis-dev \n",
        "* This library contains development files for Vorbis General Audio Compression Codec. Ogg Vorbis is a fully open, non-proprietary, general purpose compressed audio format for audio and music at fixed and variable bitrates from 16 to 128 kbps/channel.\n",
        "\n",
        "## libxvidcore-dev\n",
        "* This library contains development files for MPEG-4 video codec. Xvid is an open source MPEG-4 video codec, implementing MPEG-4 Simple Profile, Advanced Simple Profile and Advanced Video Coding standards. It is written in C with assembler optimizations for quality and speed.\n"
      ]
    },
    {
      "cell_type": "code",
      "metadata": {
        "id": "N7CxIXktgDRE"
      },
      "source": [
        "!sudo apt-get install -y libvorbis-dev libxvidcore-dev"
      ],
      "execution_count": null,
      "outputs": []
    },
    {
      "cell_type": "markdown",
      "metadata": {
        "id": "HuTQLi5ngMnn"
      },
      "source": [
        "# Install packages.\n",
        "\n",
        "## libopencore-amrnb-dev \n",
        "* This library contains an implementation of the 3GPP TS 26.073 specification for the Adaptive Multi Rate (AMR) speech codec. The implementation is derived from the OpenCORE framework, part of the Google Android project.\n",
        "\n",
        "## libopencore-amrwb-dev\n",
        "* This library contains an implementation of the 3GPP TS 26.173 specification for the Adaptive Multi Rate – Wideband (AMR-WB) speech decoder. The implementation is derived from the OpenCORE framework part of the Google Android project."
      ]
    },
    {
      "cell_type": "code",
      "metadata": {
        "id": "At5WkXbvgO4f"
      },
      "source": [
        "!sudo apt-get install -y libopencore-amrnb-dev libopencore-amrwb-dev"
      ],
      "execution_count": null,
      "outputs": []
    },
    {
      "cell_type": "markdown",
      "metadata": {
        "id": "zIWfSCh4gezL"
      },
      "source": [
        "# Install packages.\n",
        "\n",
        "## x264 \n",
        "* It is a free and open-source software library and a command line utility developed by VideoLAN for encoding video streams into the MPEG-4 AVC format. It is a very high quality encoder and produces remarkable quality in bitstreams.\n",
        "\n",
        "## v4l-utils\n",
        "* It is a collection of command line video4linux utilities such as decode_tm6000 which decodes tm6000 proprietary format streams. It also has a utility which can receive and decode Radio Data System (RDS) streams.\n"
      ]
    },
    {
      "cell_type": "code",
      "metadata": {
        "id": "a7aea2cCgg4D"
      },
      "source": [
        "!sudo apt-get install -y x264 v4l-utils"
      ],
      "execution_count": null,
      "outputs": []
    },
    {
      "cell_type": "markdown",
      "metadata": {
        "id": "otKSrQutgrNg"
      },
      "source": [
        "# Install packages.\n",
        "\n",
        "## libprotobuf-dev \n",
        "* This library is responsible for serializing structured data which is similar to XML. This will help to easily write and read your structured data to and from a variety of data streams.\n",
        "\n",
        "## protobuf-compiler\n",
        "* This package contains the protocol buffer compiler that is used for translating from .proto files (containing the definitions) to the language binding for the supported languages."
      ]
    },
    {
      "cell_type": "code",
      "metadata": {
        "id": "8pcexJhfn2rw"
      },
      "source": [
        "!sudo apt-get install -y libprotobuf-dev protobuf-compiler"
      ],
      "execution_count": null,
      "outputs": []
    },
    {
      "cell_type": "markdown",
      "metadata": {
        "id": "NMAKnHvvn-fy"
      },
      "source": [
        "# Install packages.\n",
        "## libgoogle-glog-dev \n",
        "* This library provides logging APIs based on C++ style streams and helper macros.\n",
        "\n",
        "## libgflags-dev\n",
        "* This library implements command line flags processing. It gives you the ability to define flags in the source file."
      ]
    },
    {
      "cell_type": "code",
      "metadata": {
        "id": "4Jm0m15FoTr1"
      },
      "source": [
        "!sudo apt-get install -y libgoogle-glog-dev libgflags-dev"
      ],
      "execution_count": null,
      "outputs": []
    },
    {
      "cell_type": "markdown",
      "metadata": {
        "id": "ybUitxt5oaRq"
      },
      "source": [
        "# Install packages.\n",
        "\n",
        "## libgphoto2-dev \n",
        "* The gphoto2 library can be used by applications to access various digital camera models, via standard protocols such as USB Mass Storage and PTP, or vendor-specific protocols.\n",
        "\n",
        "## libeigen3-dev \n",
        "* Eigen 3 is a lightweight C++ template library for vector and matrix math, a.k.a. Linear Algebra. It is dedicated to provide optimal speed with GCC.\n",
        "\n",
        "## libhdf5-dev\n",
        "* This library contains development files for Hierarchical Data Format 5 (HDF5). HDF5 is designed to store and organize large amounts of data."
      ]
    },
    {
      "cell_type": "code",
      "metadata": {
        "id": "PcbGXwUugtcx"
      },
      "source": [
        "!sudo apt-get install -y libgphoto2-dev libeigen3-dev libhdf5-dev"
      ],
      "execution_count": null,
      "outputs": []
    },
    {
      "cell_type": "markdown",
      "metadata": {
        "id": "VM7GxIRpo4at"
      },
      "source": [
        "# Install Python3 packages.\n",
        "\n",
        "##  python3-dev\n",
        "* It contains the header files which you need to build Python 3 modules. It is a package that contains header files for the Python C API. This will install Python 3.6.7.\n",
        "\n",
        "## python3-pip\n",
        "* pip is a package management system that simplifies installation and management of software packages written in Python such as those found in the Python Package Index (PyPI). Installing this library will install pip3 i.e. pip for Python for 3.6.7."
      ]
    },
    {
      "cell_type": "code",
      "metadata": {
        "id": "rpRYXW_ipdwN"
      },
      "source": [
        "!sudo apt-get install -y python3-dev python3-pip"
      ],
      "execution_count": null,
      "outputs": []
    },
    {
      "cell_type": "markdown",
      "metadata": {
        "id": "TaulBaUVqzYA"
      },
      "source": [
        "# Install Python3 virtual environment packages."
      ]
    },
    {
      "cell_type": "code",
      "metadata": {
        "id": "CgNz1Wx7C8SO"
      },
      "source": [
        "!sudo apt-get install -y python3-dev python3-venv"
      ],
      "execution_count": null,
      "outputs": []
    },
    {
      "cell_type": "markdown",
      "metadata": {
        "id": "qX2mRUyfr6Vh"
      },
      "source": [
        "# Create virtual environment cv-4.3."
      ]
    },
    {
      "cell_type": "markdown",
      "metadata": {
        "id": "yNNtI6m2jh79"
      },
      "source": [
        "### Set the root directory."
      ]
    },
    {
      "cell_type": "code",
      "metadata": {
        "id": "gcVzuR5yBXAH"
      },
      "source": [
        "root_dir = '/'\n",
        "os.chdir(root_dir)\n",
        "\n",
        "!ls -al"
      ],
      "execution_count": null,
      "outputs": []
    },
    {
      "cell_type": "markdown",
      "metadata": {
        "id": "AmS6x--Cjo4n"
      },
      "source": [
        "### Create source directory."
      ]
    },
    {
      "cell_type": "code",
      "metadata": {
        "id": "SavBDCcUGi1T"
      },
      "source": [
        "!mkdir /src"
      ],
      "execution_count": null,
      "outputs": []
    },
    {
      "cell_type": "markdown",
      "metadata": {
        "id": "JHM4fYisjtiM"
      },
      "source": [
        "### Create python3 virtual environment."
      ]
    },
    {
      "cell_type": "code",
      "metadata": {
        "id": "lRTUZF807E_5"
      },
      "source": [
        "!python3.6 -m venv cv-4.5.2\n",
        "!ls -al"
      ],
      "execution_count": null,
      "outputs": []
    },
    {
      "cell_type": "markdown",
      "metadata": {
        "id": "Yb-ENVK0j0uR"
      },
      "source": [
        "### Verify created virtual environment."
      ]
    },
    {
      "cell_type": "code",
      "metadata": {
        "id": "fdUwmRdCDOVl"
      },
      "source": [
        "!source /cv-4.5.2/bin/activate;python --version"
      ],
      "execution_count": null,
      "outputs": []
    },
    {
      "cell_type": "markdown",
      "metadata": {
        "id": "2Y93PebxpqZ-"
      },
      "source": [
        "# Install numpy for python 3."
      ]
    },
    {
      "cell_type": "code",
      "metadata": {
        "id": "F7h9ac9YaFFI"
      },
      "source": [
        "!source /cv-4.5.2/bin/activate;pip3 install -U pip numpy"
      ],
      "execution_count": null,
      "outputs": []
    },
    {
      "cell_type": "markdown",
      "metadata": {
        "id": "CpYTJvc6kEAb"
      },
      "source": [
        "### Verify numpy installation."
      ]
    },
    {
      "cell_type": "code",
      "metadata": {
        "id": "_LrTCZTMKJMP"
      },
      "source": [
        "!ls -al /cv-4.5.2/lib/python3.6/site-packages"
      ],
      "execution_count": null,
      "outputs": []
    },
    {
      "cell_type": "markdown",
      "metadata": {
        "id": "zOPgxfF7ViD4"
      },
      "source": [
        "# Install Aravis."
      ]
    },
    {
      "cell_type": "markdown",
      "metadata": {
        "id": "zWT8BNQHWoI-"
      },
      "source": [
        "### Install the dependencies. "
      ]
    },
    {
      "cell_type": "code",
      "metadata": {
        "id": "FV1fVMm1Vmzt"
      },
      "source": [
        "!sudo apt-get install autoconf intltool libxml2-dev gobject-introspection gtk-doc-tools libgtk-3-dev libnotify-dev libgirepository1.0-dev libgtk2.0-bin"
      ],
      "execution_count": null,
      "outputs": []
    },
    {
      "cell_type": "markdown",
      "metadata": {
        "id": "iiPYpJJkW4-s"
      },
      "source": [
        "### Set the source root directory."
      ]
    },
    {
      "cell_type": "code",
      "metadata": {
        "id": "NaaFu2ldW7gh"
      },
      "source": [
        "root_dir = '/src/'\n",
        "os.chdir(root_dir)\n",
        "\n",
        "!ls -al"
      ],
      "execution_count": null,
      "outputs": []
    },
    {
      "cell_type": "markdown",
      "metadata": {
        "id": "ZcDF_w4jWweP"
      },
      "source": [
        "### Clone Aravis git repository."
      ]
    },
    {
      "cell_type": "code",
      "metadata": {
        "id": "vvwKH24ZWw03"
      },
      "source": [
        "!git clone https://github.com/AravisProject/aravis.git"
      ],
      "execution_count": null,
      "outputs": []
    },
    {
      "cell_type": "markdown",
      "metadata": {
        "id": "MLQs2fOgYahi"
      },
      "source": [
        "### Set Aravis source root directory."
      ]
    },
    {
      "cell_type": "code",
      "metadata": {
        "id": "vrevU4phYdw7"
      },
      "source": [
        "root_dir = '/src/aravis'\n",
        "os.chdir(root_dir)\n",
        "\n",
        "!ls -al"
      ],
      "execution_count": null,
      "outputs": []
    },
    {
      "cell_type": "markdown",
      "metadata": {
        "id": "dbxk38Otb74_"
      },
      "source": [
        "### Checkout Aravis-0.6 version."
      ]
    },
    {
      "cell_type": "code",
      "metadata": {
        "id": "mOx5JEkBb8O6"
      },
      "source": [
        "!git checkout aravis-0-6\n",
        "!git status\n",
        "!ls -al"
      ],
      "execution_count": null,
      "outputs": []
    },
    {
      "cell_type": "markdown",
      "metadata": {
        "id": "pGLHoBfoYlKn"
      },
      "source": [
        "### Configure Aravis."
      ]
    },
    {
      "cell_type": "code",
      "metadata": {
        "id": "tE1PketyZKtc"
      },
      "source": [
        "!source /cv-4.5.2/bin/activate;./autogen.sh --help"
      ],
      "execution_count": null,
      "outputs": []
    },
    {
      "cell_type": "code",
      "metadata": {
        "id": "gQaA4-emYlef"
      },
      "source": [
        "!source /cv-4.5.2/bin/activate; \\\n",
        "./autogen.sh --prefix=/cv-4.5.2/ --exec-prefix=/cv-4.5.2/ --enable-viewer --enable-gst-plugin --enable-introspection=yes"
      ],
      "execution_count": null,
      "outputs": []
    },
    {
      "cell_type": "markdown",
      "metadata": {
        "id": "Xn6CS00LYuoo"
      },
      "source": [
        "### Build Aravis."
      ]
    },
    {
      "cell_type": "code",
      "metadata": {
        "id": "AcpapUMUYvAk"
      },
      "source": [
        "!source /cv-4.5.2/bin/activate; \\\n",
        "make"
      ],
      "execution_count": null,
      "outputs": []
    },
    {
      "cell_type": "markdown",
      "metadata": {
        "id": "Z1kNJEN2Yz5L"
      },
      "source": [
        "### Install Aravis."
      ]
    },
    {
      "cell_type": "code",
      "metadata": {
        "id": "ODoQXU2lY0N4"
      },
      "source": [
        "!source /cv-4.5.2/bin/activate; \\\n",
        "make install"
      ],
      "execution_count": null,
      "outputs": []
    },
    {
      "cell_type": "markdown",
      "metadata": {
        "id": "XttChM_UkAQ0"
      },
      "source": [
        "### Verify Aravis GStreamer plug-in."
      ]
    },
    {
      "cell_type": "code",
      "metadata": {
        "id": "gm1NugaikAnQ"
      },
      "source": [
        "!source /cv-4.5.2/bin/activate; \\\n",
        "gst-inspect-1.0"
      ],
      "execution_count": null,
      "outputs": []
    },
    {
      "cell_type": "code",
      "metadata": {
        "id": "LPS7CoTklB6E"
      },
      "source": [
        "!source /cv-4.5.2/bin/activate; \\\n",
        "gst-inspect-1.0 --gst-plugin-path=/cv-4.5.2/lib/gstreamer-1.0 aravis"
      ],
      "execution_count": null,
      "outputs": []
    },
    {
      "cell_type": "markdown",
      "metadata": {
        "id": "hBiz_xL3kLaY"
      },
      "source": [
        "# Clone OpenCV 4.5.2 git repository. "
      ]
    },
    {
      "cell_type": "markdown",
      "metadata": {
        "id": "AdzwP3lyliG_"
      },
      "source": [
        "### Set the source root directory."
      ]
    },
    {
      "cell_type": "code",
      "metadata": {
        "id": "1HBwCD61DiE4"
      },
      "source": [
        "root_dir = '/src/'\n",
        "os.chdir(root_dir)\n",
        "\n",
        "!ls -al"
      ],
      "execution_count": null,
      "outputs": []
    },
    {
      "cell_type": "markdown",
      "metadata": {
        "id": "U7B5IRcIloYG"
      },
      "source": [
        "### Clone OpenCV repository."
      ]
    },
    {
      "cell_type": "code",
      "metadata": {
        "id": "l-LGZVZrEpQf"
      },
      "source": [
        "!git clone https://github.com/opencv/opencv.git"
      ],
      "execution_count": null,
      "outputs": []
    },
    {
      "cell_type": "markdown",
      "metadata": {
        "id": "W40WbAxTltuF"
      },
      "source": [
        "### Rename source directory."
      ]
    },
    {
      "cell_type": "code",
      "metadata": {
        "id": "AOHFmsnhlx45"
      },
      "source": [
        "!mv opencv OpenCV-4.5.2"
      ],
      "execution_count": null,
      "outputs": []
    },
    {
      "cell_type": "markdown",
      "metadata": {
        "id": "mXQRey3hl3HQ"
      },
      "source": [
        "### Set OpenCV-4.5.2 source root directory."
      ]
    },
    {
      "cell_type": "code",
      "metadata": {
        "id": "zcB2itCtEvOB"
      },
      "source": [
        "root_dir = '/src/OpenCV-4.5.2'\n",
        "os.chdir(root_dir)\n",
        "\n",
        "!ls -al"
      ],
      "execution_count": null,
      "outputs": []
    },
    {
      "cell_type": "markdown",
      "metadata": {
        "id": "tvgY9rzul907"
      },
      "source": [
        "### Checkout OpenCV-4.3.0 version."
      ]
    },
    {
      "cell_type": "code",
      "metadata": {
        "id": "iNDCBdSKDqo4"
      },
      "source": [
        "!git checkout 4.5.2\n",
        "!git status"
      ],
      "execution_count": null,
      "outputs": []
    },
    {
      "cell_type": "markdown",
      "metadata": {
        "id": "nVVLLiRomDRj"
      },
      "source": [
        "### Set source root directory."
      ]
    },
    {
      "cell_type": "code",
      "metadata": {
        "id": "dXOkKwq_FRMV"
      },
      "source": [
        "root_dir = '/src/'\n",
        "os.chdir(root_dir)\n",
        "!ls -al"
      ],
      "execution_count": null,
      "outputs": []
    },
    {
      "cell_type": "markdown",
      "metadata": {
        "id": "d-xaaL7AQQ0c"
      },
      "source": [
        "### Clone OpenCV-Contrib repository."
      ]
    },
    {
      "cell_type": "code",
      "metadata": {
        "id": "1SyK7jWTQaro"
      },
      "source": [
        "!git clone https://github.com/opencv/opencv_contrib.git"
      ],
      "execution_count": null,
      "outputs": []
    },
    {
      "cell_type": "markdown",
      "metadata": {
        "id": "a0j44ymrQxRY"
      },
      "source": [
        "### Rename source directory."
      ]
    },
    {
      "cell_type": "code",
      "metadata": {
        "id": "p6BmiLW3QyEY"
      },
      "source": [
        "!mv opencv_contrib OpenCV-Contrib-4.5.2"
      ],
      "execution_count": null,
      "outputs": []
    },
    {
      "cell_type": "markdown",
      "metadata": {
        "id": "Exw36fabREHT"
      },
      "source": [
        "### Set OpenCV-Contrib-4.5.2 source root directory."
      ]
    },
    {
      "cell_type": "code",
      "metadata": {
        "id": "Q7JFeeNlRE3j"
      },
      "source": [
        "root_dir = '/src/OpenCV-Contrib-4.5.2'\n",
        "os.chdir(root_dir)\n",
        "\n",
        "!ls -al"
      ],
      "execution_count": null,
      "outputs": []
    },
    {
      "cell_type": "markdown",
      "metadata": {
        "id": "zP-YxU4nRSVv"
      },
      "source": [
        "### Checkout 4.5.2 version."
      ]
    },
    {
      "cell_type": "code",
      "metadata": {
        "id": "LjsW436nRY5v"
      },
      "source": [
        "!git checkout 4.5.2\n",
        "!git status"
      ],
      "execution_count": null,
      "outputs": []
    },
    {
      "cell_type": "markdown",
      "metadata": {
        "id": "HAdS41g2RldY"
      },
      "source": [
        "### Set source root directory."
      ]
    },
    {
      "cell_type": "code",
      "metadata": {
        "id": "CssJMwyeRmz4"
      },
      "source": [
        "root_dir = '/src/'\n",
        "os.chdir(root_dir)\n",
        "!ls -al"
      ],
      "execution_count": null,
      "outputs": []
    },
    {
      "cell_type": "markdown",
      "metadata": {
        "id": "uavRsWrBmHfr"
      },
      "source": [
        "### Create OpenCV build directory."
      ]
    },
    {
      "cell_type": "code",
      "metadata": {
        "id": "2oSxdFgsF5QO"
      },
      "source": [
        "!mkdir OpenCV-4.5.2-Build\n",
        "!ls -al"
      ],
      "execution_count": null,
      "outputs": []
    },
    {
      "cell_type": "markdown",
      "metadata": {
        "id": "RLQNwASKmOPX"
      },
      "source": [
        "### Set OpenCV build root directory."
      ]
    },
    {
      "cell_type": "code",
      "metadata": {
        "id": "MWSPtgpYHzh3"
      },
      "source": [
        "root_dir = '/src/OpenCV-4.5.2-Build'\n",
        "os.chdir(root_dir)\n",
        "!ls -al"
      ],
      "execution_count": null,
      "outputs": []
    },
    {
      "cell_type": "code",
      "metadata": {
        "id": "smkYk01-JDsY"
      },
      "source": [
        "!pwd"
      ],
      "execution_count": null,
      "outputs": []
    },
    {
      "cell_type": "markdown",
      "metadata": {
        "id": "A00n-F2rmVY3"
      },
      "source": [
        "# Build OpenCV."
      ]
    },
    {
      "cell_type": "markdown",
      "metadata": {
        "id": "Thw9ps-EmYqK"
      },
      "source": [
        "### Configure OpenCV."
      ]
    },
    {
      "cell_type": "code",
      "metadata": {
        "id": "BrHjDJ1ZYpxU"
      },
      "source": [
        "!source /cv-4.5.2/bin/activate; \\\n",
        "cmake -D CMAKE_BUILD_TYPE=RELEASE \\\n",
        "-D BUILD_SHARED_LIBS=ON \\\n",
        "-D CMAKE_INSTALL_PREFIX=/cv-4.5.2 \\\n",
        "-D BUILD_PERF_TESTS=OFF \\\n",
        "-D BUILD_TESTS=OFF \\\n",
        "-D BUILD_EXAMPLES=OFF \\\n",
        "-D BUILD_opencv_apps=OFF \\\n",
        "-D OPENCV_EXTRA_MODULES_PATH=/src/OpenCV-Contrib-4.5.2/modules \\\n",
        "-D BUILD_opencv_mcc=ON \\\n",
        "-D BUILD_opencv_alphamat=OFF \\\n",
        "-D BUILD_opencv_aruco=OFF \\\n",
        "-D BUILD_opencv_bgsegm=OFF \\\n",
        "-D BUILD_opencv_bioinspired=OFF \\\n",
        "-D BUILD_opencv_datasets=OFF \\\n",
        "-D BUILD_opencv_dnn_objdetect=OFF \\\n",
        "-D BUILD_opencv_dnn_superres=OFF \\\n",
        "-D BUILD_opencv_dnns_easily_fooled=OFF \\\n",
        "-D BUILD_opencv_cvv=OFF \\\n",
        "-D BUILD_opencv_ccalib=OFF \\\n",
        "-D BUILD_opencv_dpm=OFF \\\n",
        "-D BUILD_opencv_face=OFF \\\n",
        "-D BUILD_opencv_freetype=OFF \\\n",
        "-D BUILD_opencv_fuzzy=OFF \\\n",
        "-D BUILD_opencv_hdf=OFF \\\n",
        "-D BUILD_opencv_hfs=OFF \\\n",
        "-D BUILD_opencv_img_hash=OFF \\\n",
        "-D BUILD_opencv_intensity_transform=OFF \\\n",
        "-D BUILD_opencv_hdf=OFF \\\n",
        "-D BUILD_opencv_quality=OFF \\\n",
        "-D BUILD_opencv_rapid=OFF \\\n",
        "-D BUILD_opencv_reg=OFF \\\n",
        "-D BUILD_opencv_rgbd=OFF \\\n",
        "-D BUILD_opencv_phase_unwrapping=OFF \\\n",
        "-D BUILD_opencv_saliency=OFF \\\n",
        "-D BUILD_opencv_sfm=OFF \\\n",
        "-D BUILD_opencv_stereo=OFF \\\n",
        "-D BUILD_opencv_structured_light=OFF \\\n",
        "-D BUILD_opencv_superres=OFF \\\n",
        "-D BUILD_opencv_surface_matching=OFF \\\n",
        "-D BUILD_opencv_text=OFF \\\n",
        "-D BUILD_opencv_tracking=OFF \\\n",
        "-D BUILD_opencv_videostab=OFF \\\n",
        "-D BUILD_opencv_wechat_qrcode=OFF \\\n",
        "-D BUILD_opencv_xfeatures2d=OFF \\\n",
        "-D BUILD_opencv_ximgproc=OFF \\\n",
        "-D BUILD_opencv_xobjdetect=OFF \\\n",
        "-D BUILD_opencv_xphoto=OFF \\\n",
        "-D INSTALL_C_EXAMPLES=OFF \\\n",
        "-D INSTALL_PYTHON_EXAMPLES=OFF \\\n",
        "-D WITH_TBB=ON \\\n",
        "-D WITH_V4L=ON \\\n",
        "-D WITH_QT=ON \\\n",
        "-D WITH_OPENGL=ON \\\n",
        "-D PYTHON_EXECUTABLE=/cv-4.5.2/python3 \\\n",
        "-D OPENCV_PYTHON3_INSTALL_PATH=/cv-4.5.2/lib/python3.6/site-packages \\\n",
        "-D OPENCV_GENERATE_PKGCONFIG=YES /src/OpenCV-4.5.2"
      ],
      "execution_count": null,
      "outputs": []
    },
    {
      "cell_type": "code",
      "metadata": {
        "id": "UapyAs_fci2k"
      },
      "source": [
        "!rm -rf *"
      ],
      "execution_count": null,
      "outputs": []
    },
    {
      "cell_type": "code",
      "metadata": {
        "id": "9xucEmy4KeAs"
      },
      "source": [
        "!ls -al"
      ],
      "execution_count": null,
      "outputs": []
    },
    {
      "cell_type": "markdown",
      "metadata": {
        "id": "Iy9h2b-dmdVB"
      },
      "source": [
        "### Build OpenCV."
      ]
    },
    {
      "cell_type": "code",
      "metadata": {
        "id": "mXrsKPdSMvyx"
      },
      "source": [
        "!source /cv-4.5.2/bin/activate;make -j4"
      ],
      "execution_count": null,
      "outputs": []
    },
    {
      "cell_type": "markdown",
      "metadata": {
        "id": "acXkS5K8mhdw"
      },
      "source": [
        "### Install OpenCV."
      ]
    },
    {
      "cell_type": "code",
      "metadata": {
        "id": "Ma6mMJ0TgHoh"
      },
      "source": [
        "!source /cv-4.5.2/bin/activate;make install"
      ],
      "execution_count": null,
      "outputs": []
    },
    {
      "cell_type": "markdown",
      "metadata": {
        "id": "nCz5BPCammLw"
      },
      "source": [
        "# Vefiry OpenCV-4.5.2 Python installation."
      ]
    },
    {
      "cell_type": "markdown",
      "metadata": {
        "id": "oeDs4uVejDrr"
      },
      "source": [
        "### List the contents."
      ]
    },
    {
      "cell_type": "code",
      "metadata": {
        "id": "tjZxfUKnjHBz"
      },
      "source": [
        "!ls -al /cv-4.5.2/\n",
        "!ls -al /cv-4.5.2/bin\n",
        "!ls -al /cv-4.5.2/lib\n",
        "!ls -al /cv-4.5.2/lib/gstreamer-1.0"
      ],
      "execution_count": null,
      "outputs": []
    },
    {
      "cell_type": "markdown",
      "metadata": {
        "id": "R-Bh9Bg3mtr4"
      },
      "source": [
        "### Generate OpenCV-4.5.2 test code."
      ]
    },
    {
      "cell_type": "code",
      "metadata": {
        "id": "QXxMuZ0Wham6"
      },
      "source": [
        "!echo 'import cv2' >> test_python.py\n",
        "!echo 'import cv2.mcc' >> test_python.py\n",
        "!echo 'print(cv2.__version__)' >> test_python.py\n",
        "!tail test_python.py"
      ],
      "execution_count": null,
      "outputs": []
    },
    {
      "cell_type": "markdown",
      "metadata": {
        "id": "4A1kYD-dnCff"
      },
      "source": [
        "### Verify OpenCV-4.5.2 Python."
      ]
    },
    {
      "cell_type": "code",
      "metadata": {
        "id": "ZmT9ryizhIjl"
      },
      "source": [
        "!source /cv-4.5.2/bin/activate;python test_python.py"
      ],
      "execution_count": null,
      "outputs": []
    },
    {
      "cell_type": "markdown",
      "metadata": {
        "id": "DDpHhBVBrljQ"
      },
      "source": [
        "# Create OpenCV-4.5.2 package."
      ]
    },
    {
      "cell_type": "markdown",
      "metadata": {
        "id": "-LkNPSS9rpad"
      },
      "source": [
        "### Set root directory."
      ]
    },
    {
      "cell_type": "code",
      "metadata": {
        "id": "pKsRpnXorsT4"
      },
      "source": [
        "root_dir = '/'\n",
        "os.chdir(root_dir)\n",
        "!ls -al"
      ],
      "execution_count": null,
      "outputs": []
    },
    {
      "cell_type": "markdown",
      "metadata": {
        "id": "UMg7D8Wkr1h5"
      },
      "source": [
        "### Create OpenCV-4.5.2 package."
      ]
    },
    {
      "cell_type": "code",
      "metadata": {
        "id": "bOybH4RtrvOB"
      },
      "source": [
        "!tar -czf cv-4.5.2.tar.gz cv-4.5.2"
      ],
      "execution_count": null,
      "outputs": []
    }
  ]
}