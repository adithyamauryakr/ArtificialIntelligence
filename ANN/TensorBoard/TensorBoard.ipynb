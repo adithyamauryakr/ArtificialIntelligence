{
  "nbformat": 4,
  "nbformat_minor": 0,
  "metadata": {
    "colab": {
      "name": "TensorBoard.ipynb",
      "private_outputs": true,
      "provenance": [],
      "collapsed_sections": []
    },
    "kernelspec": {
      "name": "python3",
      "display_name": "Python 3"
    },
    "accelerator": "GPU"
  },
  "cells": [
    {
      "cell_type": "markdown",
      "metadata": {
        "id": "aT5qgv_i_YCn"
      },
      "source": [
        "# Import TensorFlow 2.x."
      ]
    },
    {
      "cell_type": "code",
      "metadata": {
        "id": "-aJqjIVG_Wp4"
      },
      "source": [
        "try:\n",
        "  %tensorflow_version 2.x\n",
        "except Exception:\n",
        "  pass\n",
        "\n",
        "import tensorflow as tf\n",
        "import tensorflow.keras.layers as layers\n",
        "import tensorflow.keras.models as models\n",
        "\n",
        "import numpy as np\n",
        "np.random.seed(7)\n",
        "\n",
        "print(tf.__version__)"
      ],
      "execution_count": null,
      "outputs": []
    },
    {
      "cell_type": "markdown",
      "metadata": {
        "id": "9rjjAvjlBl8r"
      },
      "source": [
        "# Import TensorFlow datasets."
      ]
    },
    {
      "cell_type": "code",
      "metadata": {
        "id": "eoUj9uURBmPM"
      },
      "source": [
        "import tensorflow_datasets as tfds"
      ],
      "execution_count": null,
      "outputs": []
    },
    {
      "cell_type": "markdown",
      "metadata": {
        "id": "XZ7uEtPICVro"
      },
      "source": [
        "### Load MNIST dataset.\n",
        "* train split\n",
        "* test split"
      ]
    },
    {
      "cell_type": "code",
      "metadata": {
        "id": "S0WmnM-UB5mM"
      },
      "source": [
        "(train_dataset, test_dataset), dataset_info = tfds.load(\n",
        "    'mnist',\n",
        "    split=['train', 'test'],\n",
        "    shuffle_files=True,\n",
        "    as_supervised=True,\n",
        "    with_info=True,\n",
        ")"
      ],
      "execution_count": null,
      "outputs": []
    },
    {
      "cell_type": "markdown",
      "metadata": {
        "id": "670Av_oKCeCS"
      },
      "source": [
        "### Normalize dataset images."
      ]
    },
    {
      "cell_type": "code",
      "metadata": {
        "id": "si7q_S7CCHug"
      },
      "source": [
        "def _normalize_image(image, label):\n",
        "    image = tf.cast(image, tf.float32) / 255.\n",
        "    return (image, label)"
      ],
      "execution_count": null,
      "outputs": []
    },
    {
      "cell_type": "markdown",
      "metadata": {
        "id": "9R6Rcx0uCiUx"
      },
      "source": [
        "### Create dataset batches."
      ]
    },
    {
      "cell_type": "code",
      "metadata": {
        "id": "kU-AjHFuCipT"
      },
      "source": [
        "buffer_size = 1024\n",
        "batch_size = 32"
      ],
      "execution_count": null,
      "outputs": []
    },
    {
      "cell_type": "code",
      "metadata": {
        "id": "n3qnMGMlCxxx"
      },
      "source": [
        "train_dataset = train_dataset.shuffle(buffer_size).batch(batch_size)\n",
        "train_dataset = train_dataset.map(_normalize_image)\n",
        "\n",
        "test_dataset = test_dataset.batch(batch_size)\n",
        "test_dataset = test_dataset.map(_normalize_image)"
      ],
      "execution_count": null,
      "outputs": []
    },
    {
      "cell_type": "markdown",
      "metadata": {
        "id": "QBluDR-nC1yv"
      },
      "source": [
        "# Create the model."
      ]
    },
    {
      "cell_type": "code",
      "metadata": {
        "id": "1cD00n-2C2HY"
      },
      "source": [
        "model = models.Sequential([\n",
        "  layers.Flatten(input_shape=(28, 28, 1)),\n",
        "  layers.Dense(128,activation='relu'),\n",
        "  layers.Dense(10, activation='softmax')\n",
        "])"
      ],
      "execution_count": null,
      "outputs": []
    },
    {
      "cell_type": "markdown",
      "metadata": {
        "id": "-Qcmv0SCDFuV"
      },
      "source": [
        "### Show model summary."
      ]
    },
    {
      "cell_type": "code",
      "metadata": {
        "id": "xghvhuJ0DGDo"
      },
      "source": [
        "model.summary()"
      ],
      "execution_count": null,
      "outputs": []
    },
    {
      "cell_type": "markdown",
      "metadata": {
        "id": "w1YcMhyjDO6j"
      },
      "source": [
        "# Train the model."
      ]
    },
    {
      "cell_type": "markdown",
      "metadata": {
        "id": "MStpt0zPD1K9"
      },
      "source": [
        "### Compile the model."
      ]
    },
    {
      "cell_type": "code",
      "metadata": {
        "id": "-jbuWQk6DPOS"
      },
      "source": [
        "model.compile(loss='sparse_categorical_crossentropy',\n",
        "    optimizer=tf.keras.optimizers.Adam(0.001),\n",
        "    metrics=['accuracy'])"
      ],
      "execution_count": null,
      "outputs": []
    },
    {
      "cell_type": "markdown",
      "metadata": {
        "id": "KP3LbmiUDm8_"
      },
      "source": [
        "### Train the model."
      ]
    },
    {
      "cell_type": "code",
      "metadata": {
        "id": "BJz5YUYJEgMC"
      },
      "source": [
        "tensorboard_callback = tf.keras.callbacks.TensorBoard(log_dir=\"./logs\")"
      ],
      "execution_count": null,
      "outputs": []
    },
    {
      "cell_type": "code",
      "metadata": {
        "id": "GOalzD5xEvrM"
      },
      "source": [
        "epochs = 10"
      ],
      "execution_count": null,
      "outputs": []
    },
    {
      "cell_type": "code",
      "metadata": {
        "id": "2INEUdKODnP0"
      },
      "source": [
        "model.fit(\n",
        "    train_dataset, \n",
        "    epochs=epochs, \n",
        "    validation_data=test_dataset,\n",
        "    callbacks=[tensorboard_callback])"
      ],
      "execution_count": null,
      "outputs": []
    },
    {
      "cell_type": "markdown",
      "metadata": {
        "id": "FnlUTpPtD8kO"
      },
      "source": [
        "# Evaluate the model."
      ]
    },
    {
      "cell_type": "markdown",
      "metadata": {
        "id": "tg8SidaVFaGJ"
      },
      "source": [
        "### Evaluate the model accuracy."
      ]
    },
    {
      "cell_type": "code",
      "metadata": {
        "id": "wt7wcFh-D90c"
      },
      "source": [
        "history = model.evaluate(test_dataset)\n",
        "print('model accuray on test dataset -' , history[1])"
      ],
      "execution_count": null,
      "outputs": []
    },
    {
      "cell_type": "markdown",
      "metadata": {
        "id": "Qy4CxLj5FG62"
      },
      "source": [
        "### Visualize the training graphs."
      ]
    },
    {
      "cell_type": "code",
      "metadata": {
        "id": "F7LpBL-RFHYL"
      },
      "source": [
        "%reload_ext tensorboard\n",
        "%tensorboard --logdir logs"
      ],
      "execution_count": null,
      "outputs": []
    }
  ]
}