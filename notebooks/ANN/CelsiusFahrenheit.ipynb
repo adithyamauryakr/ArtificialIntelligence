{
  "nbformat": 4,
  "nbformat_minor": 0,
  "metadata": {
    "colab": {
      "name": "CelsiusFahrenheit.ipynb",
      "private_outputs": true,
      "provenance": [],
      "collapsed_sections": []
    },
    "kernelspec": {
      "display_name": "Python 3",
      "name": "python3"
    },
    "accelerator": "GPU"
  },
  "cells": [
    {
      "cell_type": "markdown",
      "metadata": {
        "id": "AtWSVIVcV4j6"
      },
      "source": [
        "# Celcius to Farenheit equation"
      ]
    },
    {
      "cell_type": "markdown",
      "metadata": {
        "id": "F8YVA_634OFk"
      },
      "source": [
        "$$ f = c \\times 1.8 + 32 $$"
      ]
    },
    {
      "cell_type": "markdown",
      "metadata": {
        "id": "Nl3Ho_drWD-t"
      },
      "source": [
        "# Import TensorFlow 2.x."
      ]
    },
    {
      "cell_type": "code",
      "metadata": {
        "id": "-ZMgCvSRFqxE"
      },
      "source": [
        "try:\n",
        "  %tensorflow_version 2.x\n",
        "except Exception:\n",
        "  pass\n",
        "\n",
        "import tensorflow as tf\n",
        "import tensorflow.keras.layers as layers\n",
        "import tensorflow.keras.models as models\n",
        "\n",
        "import numpy as np\n",
        "np.random.seed(7)\n",
        "\n",
        "import matplotlib.pyplot as plot\n",
        "\n",
        "print(tf.__version__)"
      ],
      "execution_count": null,
      "outputs": []
    },
    {
      "cell_type": "markdown",
      "metadata": {
        "id": "BS2p8F70WISp"
      },
      "source": [
        "# Compute Farenheit using Celcius."
      ]
    },
    {
      "cell_type": "code",
      "metadata": {
        "id": "uHuT5KfSU6Gy"
      },
      "source": [
        "def celsius_to_fahrenheit(celsius_value):\n",
        "  fahrenheit_value = celsius_value * 1.8 + 32\n",
        "  return(fahrenheit_value)"
      ],
      "execution_count": null,
      "outputs": []
    },
    {
      "cell_type": "markdown",
      "metadata": {
        "id": "0nmpmaxSWQlb"
      },
      "source": [
        "# Generate dataset for converting Celcius to Farenheit."
      ]
    },
    {
      "cell_type": "code",
      "metadata": {
        "id": "tQlqUK-BWSn0"
      },
      "source": [
        "def generate_dataset(number_of_samples=100):\n",
        "\n",
        "  celsius_values = []\n",
        "  fahrenheit_values = []\n",
        "\n",
        "  value_range = number_of_samples\n",
        "\n",
        "  for sample in range(number_of_samples):    \n",
        "    celsius_value = np.random.randint(-1*value_range, +1*value_range)\n",
        "    fahrenheit_value = celsius_to_fahrenheit(celsius_value)\n",
        "\n",
        "    celsius_values.append(celsius_value)\n",
        "    fahrenheit_values.append(fahrenheit_value)\n",
        "\n",
        "  return(celsius_values, fahrenheit_values)"
      ],
      "execution_count": null,
      "outputs": []
    },
    {
      "cell_type": "code",
      "metadata": {
        "id": "gg4pn6aI1vms"
      },
      "source": [
        "celsius_values, fahrenheit_values = generate_dataset(number_of_samples=100)\n",
        "for index, celsius_value in enumerate(celsius_values):\n",
        "  print(\"{} degrees Celsius = {} degrees Fahrenheit\".format(celsius_value, fahrenheit_values[index]))"
      ],
      "execution_count": null,
      "outputs": []
    },
    {
      "cell_type": "markdown",
      "metadata": {
        "id": "o7nHcURZWgR0"
      },
      "source": [
        "# Create artificial neural network model."
      ]
    },
    {
      "cell_type": "code",
      "metadata": {
        "id": "pRllo2HLfXiu"
      },
      "source": [
        "model = models.Sequential(name='model')\n",
        "model.add(layers.Dense(units=1, input_shape=[1], name='dense_layer'))\n",
        "model.summary()"
      ],
      "execution_count": null,
      "outputs": []
    },
    {
      "cell_type": "markdown",
      "metadata": {
        "id": "N_AcNn6ZWvdq"
      },
      "source": [
        "# Create the optimizer."
      ]
    },
    {
      "cell_type": "code",
      "metadata": {
        "id": "_vkNG0zxRLgj"
      },
      "source": [
        "from tensorflow.keras.optimizers import Adam\n",
        "\n",
        "learning_rate = 0.2\n",
        "optimizer = Adam(learning_rate=learning_rate)"
      ],
      "execution_count": null,
      "outputs": []
    },
    {
      "cell_type": "markdown",
      "metadata": {
        "id": "A8-yJCSyW5YC"
      },
      "source": [
        "# Train the model."
      ]
    },
    {
      "cell_type": "code",
      "metadata": {
        "id": "m8YQN1H41L-Y"
      },
      "source": [
        "model.compile(loss='mean_squared_error', optimizer=optimizer)"
      ],
      "execution_count": null,
      "outputs": []
    },
    {
      "cell_type": "code",
      "metadata": {
        "id": "oygrqQUQXSkK"
      },
      "source": [
        "tensorboard_callback = tf.keras.callbacks.TensorBoard(log_dir=\"./logs\")"
      ],
      "execution_count": null,
      "outputs": []
    },
    {
      "cell_type": "code",
      "metadata": {
        "id": "GoYNprorSLr2"
      },
      "source": [
        "epochs = 500"
      ],
      "execution_count": null,
      "outputs": []
    },
    {
      "cell_type": "code",
      "metadata": {
        "id": "lpRrl7WK10Pq"
      },
      "source": [
        "history = model.fit(celsius_values, \n",
        "                    fahrenheit_values, \n",
        "                    epochs=epochs, \n",
        "                    callbacks=[tensorboard_callback],\n",
        "                    verbose=True)"
      ],
      "execution_count": null,
      "outputs": []
    },
    {
      "cell_type": "markdown",
      "metadata": {
        "id": "oRYYeXMTW9V5"
      },
      "source": [
        "# Predict fahrenheit value using celsius value."
      ]
    },
    {
      "cell_type": "code",
      "metadata": {
        "id": "oxNzL4lS2Gui"
      },
      "source": [
        "celsius_value = 100.0\n",
        "fahrenheit_value = model.predict([celsius_value])\n",
        "fahrenheit_value = fahrenheit_value[0][0]\n",
        "print(\"{} degrees Celsius = {} degrees Fahrenheit\".format(celsius_value, fahrenheit_value))"
      ],
      "execution_count": null,
      "outputs": []
    },
    {
      "cell_type": "markdown",
      "metadata": {
        "id": "2crsTW1GXHX_"
      },
      "source": [
        "# Print the model weights."
      ]
    },
    {
      "cell_type": "code",
      "metadata": {
        "id": "kmIkVdkbnZJI"
      },
      "source": [
        "print(\"Layer variables: {}\".format(model.get_layer(index=-1).get_weights()))"
      ],
      "execution_count": null,
      "outputs": []
    },
    {
      "cell_type": "markdown",
      "metadata": {
        "id": "GCwod_RsYEkx"
      },
      "source": [
        "# Visualize the training graphs."
      ]
    },
    {
      "cell_type": "code",
      "metadata": {
        "id": "ZGpFdfEbYH9T"
      },
      "source": [
        "%reload_ext tensorboard\n",
        "%tensorboard --logdir logs"
      ],
      "execution_count": null,
      "outputs": []
    }
  ]
}