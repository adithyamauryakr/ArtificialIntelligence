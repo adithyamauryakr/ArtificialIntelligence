{
  "nbformat": 4,
  "nbformat_minor": 0,
  "metadata": {
    "colab": {
      "name": "CNN-RNN.ipynb",
      "provenance": [],
      "collapsed_sections": [],
      "include_colab_link": true
    },
    "kernelspec": {
      "name": "python3",
      "display_name": "Python 3"
    },
    "accelerator": "GPU",
    "gpuClass": "standard"
  },
  "cells": [
    {
      "cell_type": "markdown",
      "metadata": {
        "id": "view-in-github",
        "colab_type": "text"
      },
      "source": [
        "<a href=\"https://colab.research.google.com/github/look4pritam/ArtificialIntelligence/blob/master/notebooks/SentimentAnalysis/CNN-RNN.ipynb\" target=\"_parent\"><img src=\"https://colab.research.google.com/assets/colab-badge.svg\" alt=\"Open In Colab\"/></a>"
      ]
    },
    {
      "cell_type": "markdown",
      "metadata": {
        "id": "hr2SibbfIeP1"
      },
      "source": [
        "# Sentiment analysis\n",
        "In this assignment, we will learn to create neural network model for [sentiment analysis](https://en.wikipedia.org/wiki/Sentiment_analysis) using [convolutional neural network](https://en.wikipedia.org/wiki/Convolutional_neural_network) and [recurrent neural network](https://en.wikipedia.org/wiki/Recurrent_neural_network) approach. "
      ]
    },
    {
      "cell_type": "markdown",
      "metadata": {
        "id": "FsED_4KnV2fD"
      },
      "source": [
        "### Import required python modules."
      ]
    },
    {
      "cell_type": "code",
      "metadata": {
        "id": "CThMTWltflv0"
      },
      "source": [
        "import numpy as np\n",
        "np.random.seed(7)\n",
        "\n",
        "from keras.datasets import imdb"
      ],
      "execution_count": 2,
      "outputs": []
    },
    {
      "cell_type": "markdown",
      "metadata": {
        "id": "zipJYNk0KA3T"
      },
      "source": [
        "### Load the IMDb dataset.\n",
        "\n",
        "Keras has a built-in [IMDb movie reviews dataset](https://keras.io/datasets). We will use this dataset.\n",
        "- Set vocabulary size = 5000.\n",
        "- Set embedding size = 32.\n",
        "- Load IMDb dataset.\n",
        "\n",
        "### Hints\n",
        "- [IMDb movie reviews dataset](https://keras.io/datasets)"
      ]
    },
    {
      "cell_type": "code",
      "metadata": {
        "id": "VBXmCMrtfp4F",
        "colab": {
          "base_uri": "https://localhost:8080/"
        },
        "outputId": "f0102e2e-d42e-4779-e5ce-2a80b64eca8b"
      },
      "source": [
        "vocabulary_size = 5000\n",
        "embedding_size=32\n",
        "\n",
        "(X_train, y_train), (X_test, y_test) = imdb.load_data(num_words=vocabulary_size)\n",
        "print('Loaded IMDB dataset with {} training samples and {} test samples.'.format(len(X_train), len(X_test)))"
      ],
      "execution_count": 3,
      "outputs": [
        {
          "output_type": "stream",
          "name": "stdout",
          "text": [
            "Downloading data from https://storage.googleapis.com/tensorflow/tf-keras-datasets/imdb.npz\n",
            "17465344/17464789 [==============================] - 0s 0us/step\n",
            "17473536/17464789 [==============================] - 0s 0us/step\n",
            "Loaded IMDB dataset with 25000 training samples and 25000 test samples.\n"
          ]
        }
      ]
    },
    {
      "cell_type": "code",
      "metadata": {
        "id": "t_lrYTF_fz_J",
        "colab": {
          "base_uri": "https://localhost:8080/"
        },
        "outputId": "95816572-196b-44c9-afb0-56b65f9a95f2"
      },
      "source": [
        "sample_index = np.random.randint(0, X_train.shape[0])\n",
        "\n",
        "print('Review ', X_train[sample_index])\n",
        "print('Label ', y_train[sample_index])"
      ],
      "execution_count": 4,
      "outputs": [
        {
          "output_type": "stream",
          "name": "stdout",
          "text": [
            "Review  [1, 4002, 24, 6, 78, 96, 8, 380, 12, 13, 197, 14, 16, 204, 21, 95, 13, 1957, 12, 16, 6, 2, 7, 4, 2, 1034, 7, 711, 1991, 13, 115, 219, 711, 1991, 366, 13, 16, 1119, 13, 219, 14, 22, 54, 13, 16, 790, 4, 598, 2, 2, 228, 80, 79, 1571, 11, 129, 419, 24, 8, 760, 4, 598, 756, 613, 34, 4, 2, 14, 9, 4, 249, 1664, 302, 207, 126, 110, 33, 4, 172, 58, 14, 22, 1287, 6, 3942, 2, 7, 503, 102, 906, 4414, 193, 6, 2, 5, 140, 8, 1445, 276, 4, 2, 11, 129, 2, 5, 25, 28, 2, 671, 13, 377, 319, 14, 22, 23, 20, 2, 2, 34, 3584, 50, 9, 31, 136, 121, 12, 16, 40, 711, 1991, 11, 2, 11, 711, 1991, 29, 2, 4, 250, 5, 2, 56, 4, 1430, 21, 11, 14, 22, 29, 2, 180, 4, 1430, 5, 2, 4, 250, 37, 16, 1454, 82, 187, 15, 291, 16, 160, 1991, 2, 4887, 2, 132, 2, 63, 385, 39, 2579, 1991, 50, 9, 6, 176, 7, 4286, 2, 139, 5, 2, 648, 531, 14, 22, 80, 563, 25, 1104, 12, 9, 40, 13, 301, 43, 160, 711, 1991, 2, 1150, 3245, 18, 567, 1101, 2, 791, 5, 49, 629, 139]\n",
            "Label  0\n"
          ]
        }
      ]
    },
    {
      "cell_type": "code",
      "metadata": {
        "id": "1cTwM0Y6f2uu",
        "colab": {
          "base_uri": "https://localhost:8080/"
        },
        "outputId": "bcbf2c49-1060-4eee-fea4-af6ed1e72fbd"
      },
      "source": [
        "word_to_identifier = imdb.get_word_index()\n",
        "identifier_to_word = {i: word for word, i in word_to_identifier.items()}\n",
        "\n",
        "print('Review with words' , [identifier_to_word.get(i, ' ') for i in X_train[sample_index]])\n",
        "print('Label ' , y_train[sample_index])"
      ],
      "execution_count": 5,
      "outputs": [
        {
          "output_type": "stream",
          "name": "stdout",
          "text": [
            "Downloading data from https://storage.googleapis.com/tensorflow/tf-keras-datasets/imdb_word_index.json\n",
            "1646592/1641221 [==============================] - 0s 0us/step\n",
            "1654784/1641221 [==============================] - 0s 0us/step\n",
            "Review with words ['the', 'staff', 'his', 'is', 'do', 'too', 'in', 'sex', 'that', 'was', 'between', 'as', 'with', \"i've\", 'not', 'them', 'was', 'unfunny', 'that', 'with', 'is', 'and', 'br', 'of', 'and', 'further', 'br', 'easily', 'gags', 'was', 'best', 'least', 'easily', 'gags', 'friends', 'was', 'with', 'italian', 'was', 'least', 'as', 'you', 'no', 'was', 'with', 'among', 'of', 'complete', 'and', 'and', 'making', 'into', 'also', 'seconds', 'this', 'man', 'yes', 'his', 'in', 'add', 'of', 'complete', 'stand', 'annoying', 'who', 'of', 'and', 'as', 'it', 'of', 'sure', 'teenage', 'instead', 'always', 'your', 'life', 'they', 'of', 'every', 'my', 'as', 'you', 'comedies', 'is', 'pretend', 'and', 'br', 'child', 'characters', 'meet', 'celebrity', 'long', 'is', 'and', 'to', 'through', 'in', 'happening', 'maybe', 'of', 'and', 'this', 'man', 'and', 'to', 'have', 'one', 'and', 'important', 'was', 'start', 'wife', 'as', 'you', 'are', 'on', 'and', 'and', 'who', 'size', 'more', 'it', 'by', 'scenes', 'know', 'that', 'with', 'just', 'easily', 'gags', 'this', 'and', 'this', 'easily', 'gags', 'all', 'and', 'of', 'fun', 'to', 'and', 'she', 'of', 'names', 'not', 'this', 'as', 'you', 'all', 'and', 'things', 'of', 'names', 'to', 'and', 'of', 'fun', 'like', 'with', 'puts', 'other', 'however', 'for', 'someone', 'with', 'funny', 'gags', 'and', 'masterpieces', 'and', 'say', 'and', 'really', 'moments', 'or', 'junk', 'gags', 'more', 'it', 'is', 'quite', 'br', 'diane', 'and', 'something', 'to', 'and', 'level', 'hour', 'as', 'you', 'into', 'cannot', 'have', 'value', 'that', 'it', 'just', 'was', 'takes', 'out', 'funny', 'easily', 'gags', 'and', 'hair', '16', 'but', 'stop', 'laughing', 'and', 'follow', 'to', 'good', 'hero', 'something']\n",
            "Label  0\n"
          ]
        }
      ]
    },
    {
      "cell_type": "code",
      "metadata": {
        "id": "sadHcSgCgATe",
        "colab": {
          "base_uri": "https://localhost:8080/"
        },
        "outputId": "891412d4-0d54-43b2-c042-8107e77406de"
      },
      "source": [
        "print('Maximum review length: {}'.format(len(max((X_train + X_test), key=len))))\n",
        "print('Minimum review length: {}'.format(len(min((X_test + X_test), key=len))))"
      ],
      "execution_count": 6,
      "outputs": [
        {
          "output_type": "stream",
          "name": "stdout",
          "text": [
            "Maximum review length: 2697\n",
            "Minimum review length: 14\n"
          ]
        }
      ]
    },
    {
      "cell_type": "markdown",
      "metadata": {
        "id": "TlpY9soxLQIS"
      },
      "source": [
        "### Pad sequences\n",
        "\n",
        "In order to feed this data into our neural network model, all input documents must have the same length. We will limit the maximum review length to max_words is equal to 500 by truncating longer reviews and padding shorter reviews with a null value (0). We can accomplish this using the [pad_sequences(...)](https://keras.io/preprocessing/sequence/) function in Keras. \n",
        "\n",
        "\n",
        "### Hints\n",
        "- [pad_sequences()](https://keras.io/preprocessing/sequence/)"
      ]
    },
    {
      "cell_type": "code",
      "metadata": {
        "id": "b_536DgLgILM"
      },
      "source": [
        "from keras.preprocessing import sequence\n",
        "\n",
        "max_words = 500\n",
        "\n",
        "X_train = sequence.pad_sequences(X_train, maxlen=max_words)\n",
        "X_test = sequence.pad_sequences(X_test, maxlen=max_words)"
      ],
      "execution_count": 7,
      "outputs": []
    },
    {
      "cell_type": "code",
      "metadata": {
        "id": "AmkbSHgzaabt"
      },
      "source": [
        "validation_size = 1000\n",
        "\n",
        "X_val, y_val = X_train[:validation_size], y_train[:validation_size]\n",
        "X_train, y_train = X_train[validation_size:], y_train[validation_size:]"
      ],
      "execution_count": 8,
      "outputs": []
    },
    {
      "cell_type": "markdown",
      "metadata": {
        "id": "e6ktTKxCZeL8"
      },
      "source": [
        "### Use Adam optimizer.\n",
        "\n",
        "*   Import Adam optimizer from keras optimizers. See [link](https://keras.io/optimizers/) for details.\n",
        "*   Create an object of Adam optimizer with learning rate  value 0.001."
      ]
    },
    {
      "cell_type": "code",
      "metadata": {
        "id": "F7XymosWZguY"
      },
      "source": [
        "from tensorflow import keras\n",
        "from tensorflow.keras.optimizers import Adam\n",
        "\n",
        "learning_rate = 0.001\n",
        "optimizer = Adam(learning_rate=learning_rate)"
      ],
      "execution_count": 9,
      "outputs": []
    },
    {
      "cell_type": "markdown",
      "metadata": {
        "id": "nx5AxzuBjCZz"
      },
      "source": [
        "### Import required python modules."
      ]
    },
    {
      "cell_type": "code",
      "source": [
        "from matplotlib import pyplot\n",
        "\n",
        "def show_graph(history):  \n",
        "    pyplot.plot(history.history['accuracy'])\n",
        "    pyplot.plot(history.history['val_accuracy'])\n",
        "    pyplot.title('Model accuracy')\n",
        "    pyplot.ylabel('Accuracy')\n",
        "    pyplot.xlabel('Epoch')\n",
        "    pyplot.legend(['Train', 'Validation'], loc='upper left')\n",
        "    pyplot.show()\n",
        "\n",
        "    pyplot.plot(history.history['loss'])\n",
        "    pyplot.plot(history.history['val_loss'])\n",
        "    pyplot.title('Model loss')\n",
        "    pyplot.ylabel('Loss')\n",
        "    pyplot.xlabel('Epoch')\n",
        "    pyplot.legend(['Train', 'Validation'], loc='upper left')\n",
        "    pyplot.show()"
      ],
      "metadata": {
        "id": "dzSjTc3-APVm"
      },
      "execution_count": 10,
      "outputs": []
    },
    {
      "cell_type": "code",
      "metadata": {
        "id": "dtv2oqaOjC7j"
      },
      "source": [
        "from keras import Sequential\n",
        "from keras.models import Sequential\n",
        "from keras.layers import Dropout, Activation\n",
        "from keras.layers import Embedding\n",
        "from keras.layers import GRU\n",
        "from keras.layers import Conv1D, MaxPooling1D\n",
        "from keras.layers import Dense"
      ],
      "execution_count": 11,
      "outputs": []
    },
    {
      "cell_type": "markdown",
      "metadata": {
        "id": "ICNpdx9vLysM"
      },
      "source": [
        "### Create a simple recurrent neural network model using Keras.\n",
        "\n",
        "1. Create a sequential model. See [link](https://keras.io/models/sequential/) for details.\n",
        "\n",
        "2. Add an embedding layer to the model. See [link](https://keras.io/layers/embeddings) for more details.\n",
        "Set input_dim = vocabulary_size, output_dim = embedding_size and input_length = max_words.\n",
        "\n",
        "3. Add a dropout layer to the model. See [link](https://keras.io/layers/core/) for details. Set rate = 0.25 for the layer.\n",
        "\n",
        "4. Add a convolutional 1D layer to the model. See [link](https://keras.io/layers/convolutional/) for more details.\n",
        "Set filters = 64, kernel size = 5, padding = same, activation = relu for the layer.\n",
        "\n",
        "5. Add a max pooling 1D layer to the model. See [link](https://keras.io/layers/pooling/) for details. Set pool size = 2 for the layer.\n",
        "\n",
        "6. Add a GRU layer to the model. See [link](https://keras.io/layers/recurrent/) for more details.\n",
        "Set units = 128 for the layer.\n",
        "\n",
        "7. Add a dense layer to the model. Set units = 1, activation = sigmoid for the layer."
      ]
    },
    {
      "cell_type": "code",
      "metadata": {
        "id": "r74B6D44gMJW"
      },
      "source": [
        "cnn_rnn_model = Sequential()\n",
        "cnn_rnn_model.add(Embedding(vocabulary_size, embedding_size, input_length=max_words))\n",
        "cnn_rnn_model.add(Dropout(0.25))\n",
        "\n",
        "cnn_rnn_model.add(Conv1D(filters=64, kernel_size=5, padding='same', activation='relu'))\n",
        "cnn_rnn_model.add(MaxPooling1D(pool_size=2))\n",
        "\n",
        "cnn_rnn_model.add(GRU(units=128))\n",
        "cnn_rnn_model.add(Dense(units=1, activation='sigmoid'))"
      ],
      "execution_count": 12,
      "outputs": []
    },
    {
      "cell_type": "markdown",
      "metadata": {
        "id": "l6pD0MmqjMk6"
      },
      "source": [
        "### Compile the simple recurrent neural network model.\n",
        "\n",
        "1. See [link](https://keras.io/models/model/) for details.\n",
        "2. Set loss = binary_crossentropy.\n",
        "3. Set optimizer=optimizer (created Adam optimizer).\n",
        "4. Set metrics = accuracy.\n",
        "5. Print model summary for visualization."
      ]
    },
    {
      "cell_type": "code",
      "metadata": {
        "id": "Ns9NtCDBjM-m",
        "colab": {
          "base_uri": "https://localhost:8080/"
        },
        "outputId": "af543c03-9b60-4b49-a308-a92d293f08ca"
      },
      "source": [
        "cnn_rnn_model.compile(loss='binary_crossentropy', optimizer='adam', metrics=['accuracy'])\n",
        "print(cnn_rnn_model.summary())"
      ],
      "execution_count": 13,
      "outputs": [
        {
          "output_type": "stream",
          "name": "stdout",
          "text": [
            "Model: \"sequential\"\n",
            "_________________________________________________________________\n",
            " Layer (type)                Output Shape              Param #   \n",
            "=================================================================\n",
            " embedding (Embedding)       (None, 500, 32)           160000    \n",
            "                                                                 \n",
            " dropout (Dropout)           (None, 500, 32)           0         \n",
            "                                                                 \n",
            " conv1d (Conv1D)             (None, 500, 64)           10304     \n",
            "                                                                 \n",
            " max_pooling1d (MaxPooling1D  (None, 250, 64)          0         \n",
            " )                                                               \n",
            "                                                                 \n",
            " gru (GRU)                   (None, 128)               74496     \n",
            "                                                                 \n",
            " dense (Dense)               (None, 1)                 129       \n",
            "                                                                 \n",
            "=================================================================\n",
            "Total params: 244,929\n",
            "Trainable params: 244,929\n",
            "Non-trainable params: 0\n",
            "_________________________________________________________________\n",
            "None\n"
          ]
        }
      ]
    },
    {
      "cell_type": "markdown",
      "metadata": {
        "id": "C_1wG_3djWTE"
      },
      "source": [
        "### Train the simple recurrent neural network model.\n",
        "\n",
        "1. Set number of epochs between 1-2.\n",
        "2. Set batch size as multiple of 32 i.e. either 32 or 64.\n",
        "3.  Call function fit(...) on the model. \n",
        "4.  See [link](https://keras.io/models/model/) for details.\n",
        "5. Pass X_train and y_train for training the model\n",
        "6. Pass X_val and y_val as validation data."
      ]
    },
    {
      "cell_type": "code",
      "metadata": {
        "id": "CV9WFROMjbQJ"
      },
      "source": [
        "batch_size = 32\n",
        "num_epochs = 2"
      ],
      "execution_count": 14,
      "outputs": []
    },
    {
      "cell_type": "code",
      "metadata": {
        "id": "iHtUA3IZOibj",
        "colab": {
          "base_uri": "https://localhost:8080/",
          "height": 642
        },
        "outputId": "23e39efd-26d7-4936-9b49-e7b2c5f00bd8"
      },
      "source": [
        "history = cnn_rnn_model.fit(X_train, y_train, validation_data=(X_val, y_val), batch_size=batch_size, epochs=num_epochs)\n",
        "show_graph(history)"
      ],
      "execution_count": 15,
      "outputs": [
        {
          "output_type": "stream",
          "name": "stdout",
          "text": [
            "Epoch 1/2\n",
            "750/750 [==============================] - 27s 15ms/step - loss: 0.4738 - accuracy: 0.7643 - val_loss: 0.3984 - val_accuracy: 0.8160\n",
            "Epoch 2/2\n",
            "750/750 [==============================] - 10s 14ms/step - loss: 0.3160 - accuracy: 0.8670 - val_loss: 0.2601 - val_accuracy: 0.8900\n"
          ]
        },
        {
          "output_type": "display_data",
          "data": {
            "text/plain": [
              "<Figure size 432x288 with 1 Axes>"
            ],
            "image/png": "[encoded data removed]"
          },
          "metadata": {
            "needs_background": "light"
          }
        },
        {
          "output_type": "display_data",
          "data": {
            "text/plain": [
              "<Figure size 432x288 with 1 Axes>"
            ],
            "image/png": "[encoded data removed]"
          },
          "metadata": {
            "needs_background": "light"
          }
        }
      ]
    },
    {
      "cell_type": "markdown",
      "metadata": {
        "id": "6KXHXdzwjxVw"
      },
      "source": [
        "### Print the model accuracy."
      ]
    },
    {
      "cell_type": "code",
      "metadata": {
        "id": "N_0fA5LsOPBa",
        "colab": {
          "base_uri": "https://localhost:8080/"
        },
        "outputId": "def4784c-cea2-4282-8423-5b7aac24b65d"
      },
      "source": [
        "scores = cnn_rnn_model.evaluate(X_test, y_test, verbose=0)\n",
        "print('Test accuracy:', scores[1]*100.0)"
      ],
      "execution_count": 24,
      "outputs": [
        {
          "output_type": "stream",
          "name": "stdout",
          "text": [
            "Test accuracy: 88.89200091362\n"
          ]
        }
      ]
    },
    {
      "cell_type": "markdown",
      "metadata": {
        "id": "6-zxIo_cj3no"
      },
      "source": [
        "**Expected Output**:\n",
        "\n",
        "<table>\n",
        "    <tr>\n",
        "        <td>\n",
        "            Test accuracy\n",
        "        </td>\n",
        "        <td>\n",
        "           between 75.0 and 95.0\n",
        "        </td>\n",
        "    </tr>\n",
        "</table>"
      ]
    }
  ]
}