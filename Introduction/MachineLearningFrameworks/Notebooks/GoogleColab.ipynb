{
  "nbformat": 4,
  "nbformat_minor": 0,
  "metadata": {
    "colab": {
      "provenance": [],
      "authorship_tag": "ABX9TyNCVQmLahku+SRbLAxIJ4QX",
      "include_colab_link": true
    },
    "kernelspec": {
      "name": "python3",
      "display_name": "Python 3"
    },
    "language_info": {
      "name": "python"
    },
    "accelerator": "GPU",
    "gpuClass": "standard"
  },
  "cells": [
    {
      "cell_type": "markdown",
      "metadata": {
        "id": "view-in-github",
        "colab_type": "text"
      },
      "source": [
        "<a href=\"https://colab.research.google.com/github/look4pritam/ArtificialIntelligence/blob/master/Introduction/Notebooks/GoogleColab.ipynb\" target=\"_parent\"><img src=\"https://colab.research.google.com/assets/colab-badge.svg\" alt=\"Open In Colab\"/></a>"
      ]
    },
    {
      "cell_type": "markdown",
      "source": [
        "# Introduction to Google Colab."
      ],
      "metadata": {
        "id": "N78AlYrbq-3n"
      }
    },
    {
      "cell_type": "markdown",
      "source": [
        "### Runtime type\n",
        "\n",
        "- None - Central Processing Unit\n",
        "- GPU - Graphics Processing Unit\n",
        "- TPU - Tensor Processing Unit"
      ],
      "metadata": {
        "id": "2NuQSgDurW89"
      }
    },
    {
      "cell_type": "markdown",
      "source": [
        "### Change runtime type\n",
        "\n",
        "- Goto (Runtime) - (Change runtime type).\n",
        "- Select appropiate runtime type as shown above."
      ],
      "metadata": {
        "id": "6yBap3Cur6_O"
      }
    },
    {
      "cell_type": "markdown",
      "source": [
        "### Mount Google drive."
      ],
      "metadata": {
        "id": "kKrREbpVrE5Q"
      }
    },
    {
      "cell_type": "code",
      "execution_count": null,
      "metadata": {
        "id": "CL_jZAKqqc26"
      },
      "outputs": [],
      "source": [
        "from google.colab import drive\n",
        "\n",
        "drive.mount(‘/content/gdrive’)"
      ]
    }
  ]
}