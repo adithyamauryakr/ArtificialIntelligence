{
  "nbformat": 4,
  "nbformat_minor": 0,
  "metadata": {
    "colab": {
      "provenance": [],
      "authorship_tag": "ABX9TyOG1Znsha/6DvVIsxhKSHRY",
      "include_colab_link": true
    },
    "kernelspec": {
      "name": "python3",
      "display_name": "Python 3"
    },
    "language_info": {
      "name": "python"
    },
    "gpuClass": "standard"
  },
  "cells": [
    {
      "cell_type": "markdown",
      "metadata": {
        "id": "view-in-github",
        "colab_type": "text"
      },
      "source": [
        "<a href=\"https://colab.research.google.com/github/look4pritam/ArtificialIntelligence/blob/master/Introduction/Notebooks/Python.ipynb\" target=\"_parent\"><img src=\"https://colab.research.google.com/assets/colab-badge.svg\" alt=\"Open In Colab\"/></a>"
      ]
    },
    {
      "cell_type": "markdown",
      "source": [
        "# Introduction to Python.\n",
        "\n",
        "- High level language\n",
        "- General purpose programming language\n",
        "- Code readability \n",
        "- Use of indentation\n",
        "- Dynamically typed\n",
        "- Garbage collected\n",
        "- Structured programming\n",
        "- Object oriented programming\n",
        "- Functional programming\n",
        "- Multiple platforms - Windows, Linux, 32 bit, 64 bit, ARM"
      ],
      "metadata": {
        "id": "N78AlYrbq-3n"
      }
    },
    {
      "cell_type": "markdown",
      "source": [
        "## Reserved words"
      ],
      "metadata": {
        "id": "wBZ4Kbqo-nKo"
      }
    },
    {
      "cell_type": "code",
      "source": [
        "and\n",
        "assert\n",
        "break\n",
        "class\n",
        "continue\n",
        "def \n",
        "del\n",
        "elif\n",
        "else\n",
        "except\n",
        "exec\n",
        "finally\n",
        "for\n",
        "from\n",
        "global\n",
        "if\n",
        "import\n",
        "in\n",
        "is\n",
        "lambda\n",
        "not\n",
        "or\n",
        "pass\n",
        "print\n",
        "raise\n",
        "return\n",
        "try\n",
        "while"
      ],
      "metadata": {
        "id": "r0muo5iR-pvh"
      },
      "execution_count": null,
      "outputs": []
    },
    {
      "cell_type": "markdown",
      "source": [
        "## Statements\n",
        "\n",
        "- Single expression\n",
        "- Assignment\n",
        "- Function call\n",
        "- Function definition\n",
        "- Condition"
      ],
      "metadata": {
        "id": "2NuQSgDurW89"
      }
    },
    {
      "cell_type": "markdown",
      "source": [
        "## Expressions\n",
        "\n",
        "- Numbers\n",
        "- Strings\n",
        "- Boolean values\n",
        "- Lists \n",
        "- Dictionaries"
      ],
      "metadata": {
        "id": "6yBap3Cur6_O"
      }
    },
    {
      "cell_type": "markdown",
      "source": [
        "## Numbers\n",
        "- Integers\n",
        "- Floating point\n",
        "- Complex numbers"
      ],
      "metadata": {
        "id": "kKrREbpVrE5Q"
      }
    },
    {
      "cell_type": "code",
      "execution_count": 1,
      "metadata": {
        "colab": {
          "base_uri": "https://localhost:8080/"
        },
        "id": "CL_jZAKqqc26",
        "outputId": "78dc34de-a524-4c90-fc57-b5a886f07d6d"
      },
      "outputs": [
        {
          "output_type": "execute_result",
          "data": {
            "text/plain": [
              "1"
            ]
          },
          "metadata": {},
          "execution_count": 1
        }
      ],
      "source": [
        "1"
      ]
    },
    {
      "cell_type": "code",
      "source": [
        "-5"
      ],
      "metadata": {
        "colab": {
          "base_uri": "https://localhost:8080/"
        },
        "id": "9-iImI1iwLFX",
        "outputId": "dff7b96b-a9ee-4ad3-eeae-64eaa55bb7b5"
      },
      "execution_count": 2,
      "outputs": [
        {
          "output_type": "execute_result",
          "data": {
            "text/plain": [
              "-5"
            ]
          },
          "metadata": {},
          "execution_count": 2
        }
      ]
    },
    {
      "cell_type": "code",
      "source": [
        "2.0"
      ],
      "metadata": {
        "colab": {
          "base_uri": "https://localhost:8080/"
        },
        "id": "OrBl4JWJwJiM",
        "outputId": "2c4bdf7e-a9b7-4bce-f8c9-53a9d70e9da5"
      },
      "execution_count": 3,
      "outputs": [
        {
          "output_type": "execute_result",
          "data": {
            "text/plain": [
              "2.0"
            ]
          },
          "metadata": {},
          "execution_count": 3
        }
      ]
    },
    {
      "cell_type": "markdown",
      "source": [
        "## Complex numbers"
      ],
      "metadata": {
        "id": "ksViYopAxPiq"
      }
    },
    {
      "cell_type": "code",
      "source": [
        "import cmath\n",
        "\n",
        "x = 5\n",
        "y = 3\n",
        "\n",
        "z = complex(x,y)\n",
        "\n",
        "print(z.real, z.imag)"
      ],
      "metadata": {
        "colab": {
          "base_uri": "https://localhost:8080/"
        },
        "id": "_xeig_s0weDY",
        "outputId": "ad59da8e-4549-4b73-e465-9ac7d4dabc1d"
      },
      "execution_count": 4,
      "outputs": [
        {
          "output_type": "stream",
          "name": "stdout",
          "text": [
            "5.0 3.0\n"
          ]
        }
      ]
    },
    {
      "cell_type": "markdown",
      "source": [
        "## Strings"
      ],
      "metadata": {
        "id": "tAWeI58fxGuh"
      }
    },
    {
      "cell_type": "code",
      "source": [
        "'apple'"
      ],
      "metadata": {
        "colab": {
          "base_uri": "https://localhost:8080/",
          "height": 35
        },
        "id": "UByRg2q2xIf0",
        "outputId": "f5e5b312-8582-498a-fd63-b8f46bc9b99e"
      },
      "execution_count": 5,
      "outputs": [
        {
          "output_type": "execute_result",
          "data": {
            "text/plain": [
              "'apple'"
            ],
            "application/vnd.google.colaboratory.intrinsic+json": {
              "type": "string"
            }
          },
          "metadata": {},
          "execution_count": 5
        }
      ]
    },
    {
      "cell_type": "code",
      "source": [
        "\"apple\""
      ],
      "metadata": {
        "colab": {
          "base_uri": "https://localhost:8080/",
          "height": 35
        },
        "id": "6ijvSY3oxKvg",
        "outputId": "df8874ad-15b5-493d-e159-5a505548600e"
      },
      "execution_count": 6,
      "outputs": [
        {
          "output_type": "execute_result",
          "data": {
            "text/plain": [
              "'apple'"
            ],
            "application/vnd.google.colaboratory.intrinsic+json": {
              "type": "string"
            }
          },
          "metadata": {},
          "execution_count": 6
        }
      ]
    },
    {
      "cell_type": "markdown",
      "source": [
        "## Boolean values"
      ],
      "metadata": {
        "id": "2EaX0Tc3xVHd"
      }
    },
    {
      "cell_type": "code",
      "source": [
        "True"
      ],
      "metadata": {
        "colab": {
          "base_uri": "https://localhost:8080/"
        },
        "id": "YlzqVFl2xZEW",
        "outputId": "10221d34-1444-4fc6-c0d6-57af1f7de540"
      },
      "execution_count": 7,
      "outputs": [
        {
          "output_type": "execute_result",
          "data": {
            "text/plain": [
              "True"
            ]
          },
          "metadata": {},
          "execution_count": 7
        }
      ]
    },
    {
      "cell_type": "code",
      "source": [
        "False"
      ],
      "metadata": {
        "colab": {
          "base_uri": "https://localhost:8080/"
        },
        "id": "iQXCTrD4xZZA",
        "outputId": "57558225-785a-460d-c16c-78f43cc5f98c"
      },
      "execution_count": 8,
      "outputs": [
        {
          "output_type": "execute_result",
          "data": {
            "text/plain": [
              "False"
            ]
          },
          "metadata": {},
          "execution_count": 8
        }
      ]
    },
    {
      "cell_type": "markdown",
      "source": [
        "## Lists"
      ],
      "metadata": {
        "id": "ZPCxEf6txfxL"
      }
    },
    {
      "cell_type": "code",
      "source": [
        "[1, 2, 3]"
      ],
      "metadata": {
        "colab": {
          "base_uri": "https://localhost:8080/"
        },
        "id": "jCKYX_XaxgZ3",
        "outputId": "323aba05-4cdf-462f-b8ed-9e5ec877bf71"
      },
      "execution_count": 9,
      "outputs": [
        {
          "output_type": "execute_result",
          "data": {
            "text/plain": [
              "[1, 2, 3]"
            ]
          },
          "metadata": {},
          "execution_count": 9
        }
      ]
    },
    {
      "cell_type": "markdown",
      "source": [
        "## Tuples"
      ],
      "metadata": {
        "id": "GFzkZpKgxtL2"
      }
    },
    {
      "cell_type": "code",
      "source": [
        "(1, 2, 3)"
      ],
      "metadata": {
        "colab": {
          "base_uri": "https://localhost:8080/"
        },
        "id": "F5r7D7I5xthn",
        "outputId": "8721ae53-e545-4e29-e135-bd6d20387606"
      },
      "execution_count": 10,
      "outputs": [
        {
          "output_type": "execute_result",
          "data": {
            "text/plain": [
              "(1, 2, 3)"
            ]
          },
          "metadata": {},
          "execution_count": 10
        }
      ]
    },
    {
      "cell_type": "markdown",
      "source": [
        "## Dictionaries"
      ],
      "metadata": {
        "id": "qwgD7f3kxmNI"
      }
    },
    {
      "cell_type": "code",
      "source": [
        "{ 'apple': 'a fruit', \n",
        "  'rose': 'a flower', \n",
        "  'monkey': 'a mammal'\n",
        "  }"
      ],
      "metadata": {
        "colab": {
          "base_uri": "https://localhost:8080/"
        },
        "id": "3GPLdRpBxmtk",
        "outputId": "f65a4c69-2d50-4787-e6d1-7e8bd3b18aa5"
      },
      "execution_count": 11,
      "outputs": [
        {
          "output_type": "execute_result",
          "data": {
            "text/plain": [
              "{'apple': 'a fruit', 'rose': 'a flower', 'monkey': 'a mammal'}"
            ]
          },
          "metadata": {},
          "execution_count": 11
        }
      ]
    },
    {
      "cell_type": "code",
      "source": [
        "{ 'apple': 'a fruit', \n",
        "  'rose': 'a flower', \n",
        "  'monkey': 'a mammal'\n",
        "  }['apple']"
      ],
      "metadata": {
        "colab": {
          "base_uri": "https://localhost:8080/",
          "height": 35
        },
        "id": "yartApVvyGvj",
        "outputId": "2329a4cc-715a-4a2e-b588-0b737620cfd7"
      },
      "execution_count": 12,
      "outputs": [
        {
          "output_type": "execute_result",
          "data": {
            "text/plain": [
              "'a fruit'"
            ],
            "application/vnd.google.colaboratory.intrinsic+json": {
              "type": "string"
            }
          },
          "metadata": {},
          "execution_count": 12
        }
      ]
    },
    {
      "cell_type": "markdown",
      "source": [
        "## Print"
      ],
      "metadata": {
        "id": "e2Fm4XRGyvZ9"
      }
    },
    {
      "cell_type": "code",
      "source": [
        "print('I love Python.')"
      ],
      "metadata": {
        "colab": {
          "base_uri": "https://localhost:8080/"
        },
        "id": "Kvu4LpMtyw_p",
        "outputId": "0fa52b79-847f-4e71-96e8-13c335581c19"
      },
      "execution_count": 13,
      "outputs": [
        {
          "output_type": "stream",
          "name": "stdout",
          "text": [
            "I love Python.\n"
          ]
        }
      ]
    },
    {
      "cell_type": "markdown",
      "source": [
        "## Function call"
      ],
      "metadata": {
        "id": "YRWl9K1ByQOd"
      }
    },
    {
      "cell_type": "code",
      "source": [
        "import math\n",
        "\n",
        "print(math.sin(math.pi/2))"
      ],
      "metadata": {
        "colab": {
          "base_uri": "https://localhost:8080/"
        },
        "id": "kmSYn2oIySXa",
        "outputId": "871165f8-675d-4677-c389-4e0b7ff2c0f6"
      },
      "execution_count": 14,
      "outputs": [
        {
          "output_type": "stream",
          "name": "stdout",
          "text": [
            "1.0\n"
          ]
        }
      ]
    },
    {
      "cell_type": "markdown",
      "source": [
        "## Special values"
      ],
      "metadata": {
        "id": "2-bJrQdqy5bp"
      }
    },
    {
      "cell_type": "code",
      "source": [
        "None"
      ],
      "metadata": {
        "id": "kCcA4onry7hV"
      },
      "execution_count": 15,
      "outputs": []
    },
    {
      "cell_type": "markdown",
      "source": [
        "## Define a function."
      ],
      "metadata": {
        "id": "22Mq_R4dy9xb"
      }
    },
    {
      "cell_type": "code",
      "source": [
        "def add_numbers(a, b):\n",
        "    return(a + b)"
      ],
      "metadata": {
        "id": "SeQcXOeCy-KV"
      },
      "execution_count": 16,
      "outputs": []
    },
    {
      "cell_type": "code",
      "source": [
        "print(add_numbers(10, 15))"
      ],
      "metadata": {
        "colab": {
          "base_uri": "https://localhost:8080/"
        },
        "id": "z24I_gWIzISP",
        "outputId": "7fb96ded-3700-4310-ae2b-a7629dc08a2e"
      },
      "execution_count": 17,
      "outputs": [
        {
          "output_type": "stream",
          "name": "stdout",
          "text": [
            "25\n"
          ]
        }
      ]
    },
    {
      "cell_type": "markdown",
      "source": [
        "## Default arguments"
      ],
      "metadata": {
        "id": "xnef7C_jzl7c"
      }
    },
    {
      "cell_type": "code",
      "source": [
        "def do_something(a, b, c):\n",
        "    return (a, b, c)"
      ],
      "metadata": {
        "id": "wEf-jUI1znV5"
      },
      "execution_count": 18,
      "outputs": []
    },
    {
      "cell_type": "code",
      "source": [
        "do_something(1, 2, 3)"
      ],
      "metadata": {
        "colab": {
          "base_uri": "https://localhost:8080/"
        },
        "id": "C5OlHW-azqqF",
        "outputId": "cbd1cdfe-712f-40d2-c8f3-1368b634a94a"
      },
      "execution_count": 19,
      "outputs": [
        {
          "output_type": "execute_result",
          "data": {
            "text/plain": [
              "(1, 2, 3)"
            ]
          },
          "metadata": {},
          "execution_count": 19
        }
      ]
    },
    {
      "cell_type": "code",
      "source": [
        "def do_something_else(a=1, b=2, c=3):\n",
        "    return (a, b, c)"
      ],
      "metadata": {
        "id": "RIuI0OOPzuE9"
      },
      "execution_count": 20,
      "outputs": []
    },
    {
      "cell_type": "code",
      "source": [
        "do_something_else()"
      ],
      "metadata": {
        "colab": {
          "base_uri": "https://localhost:8080/"
        },
        "id": "1-KsECQHzuY0",
        "outputId": "e3ffe037-ce95-4b5b-e5f9-30366f55ba33"
      },
      "execution_count": 21,
      "outputs": [
        {
          "output_type": "execute_result",
          "data": {
            "text/plain": [
              "(1, 2, 3)"
            ]
          },
          "metadata": {},
          "execution_count": 21
        }
      ]
    },
    {
      "cell_type": "markdown",
      "source": [
        "## Equality"
      ],
      "metadata": {
        "id": "YNQrth8IzR2t"
      }
    },
    {
      "cell_type": "code",
      "source": [
        "1 == 1"
      ],
      "metadata": {
        "colab": {
          "base_uri": "https://localhost:8080/"
        },
        "id": "9NCXURXQzS-V",
        "outputId": "72a6045e-fce0-40e0-d199-c03cf6e0b067"
      },
      "execution_count": 22,
      "outputs": [
        {
          "output_type": "execute_result",
          "data": {
            "text/plain": [
              "True"
            ]
          },
          "metadata": {},
          "execution_count": 22
        }
      ]
    },
    {
      "cell_type": "code",
      "source": [
        "1 in [1, 2, 3]"
      ],
      "metadata": {
        "colab": {
          "base_uri": "https://localhost:8080/"
        },
        "id": "8W0upokTzVoq",
        "outputId": "4c6f678a-8e9b-4f55-9e02-aef344c13e1b"
      },
      "execution_count": 23,
      "outputs": [
        {
          "output_type": "execute_result",
          "data": {
            "text/plain": [
              "True"
            ]
          },
          "metadata": {},
          "execution_count": 23
        }
      ]
    },
    {
      "cell_type": "code",
      "source": [
        "1 in (1, 2, 3)"
      ],
      "metadata": {
        "colab": {
          "base_uri": "https://localhost:8080/"
        },
        "id": "Bbb-IBq10vZR",
        "outputId": "1da6af5a-121b-400b-d858-43abd537dd7c"
      },
      "execution_count": 24,
      "outputs": [
        {
          "output_type": "execute_result",
          "data": {
            "text/plain": [
              "True"
            ]
          },
          "metadata": {},
          "execution_count": 24
        }
      ]
    },
    {
      "cell_type": "markdown",
      "source": [
        "## if condition"
      ],
      "metadata": {
        "id": "GXbuUc9H82mR"
      }
    },
    {
      "cell_type": "code",
      "source": [
        "if (1 in [1, 2, 3]):\n",
        "    print('yes')\n",
        "else:\n",
        "    print('no')"
      ],
      "metadata": {
        "colab": {
          "base_uri": "https://localhost:8080/"
        },
        "id": "joRsJysm85Oy",
        "outputId": "5be5822f-83f3-46a8-c2dc-9b8884148c03"
      },
      "execution_count": 25,
      "outputs": [
        {
          "output_type": "stream",
          "name": "stdout",
          "text": [
            "yes\n"
          ]
        }
      ]
    },
    {
      "cell_type": "code",
      "source": [
        "if (2 > 1) and (2 < 3):\n",
        "  print('2')"
      ],
      "metadata": {
        "colab": {
          "base_uri": "https://localhost:8080/"
        },
        "id": "j8pkYaFR-ASq",
        "outputId": "21e12112-a1bd-45e3-f415-2e5106994445"
      },
      "execution_count": 26,
      "outputs": [
        {
          "output_type": "stream",
          "name": "stdout",
          "text": [
            "2\n"
          ]
        }
      ]
    },
    {
      "cell_type": "code",
      "source": [
        "if (2 > 1) or (2 > 3):\n",
        "  print('2')"
      ],
      "metadata": {
        "colab": {
          "base_uri": "https://localhost:8080/"
        },
        "id": "5Qe3tQ5e-IdA",
        "outputId": "27bd9412-5aa3-4654-df23-60f2563ffc4e"
      },
      "execution_count": 27,
      "outputs": [
        {
          "output_type": "stream",
          "name": "stdout",
          "text": [
            "2\n"
          ]
        }
      ]
    },
    {
      "cell_type": "markdown",
      "source": [
        "## For loop"
      ],
      "metadata": {
        "id": "yM9qSiJ302-A"
      }
    },
    {
      "cell_type": "code",
      "source": [
        "for index in range(10):\n",
        "    print(index)"
      ],
      "metadata": {
        "colab": {
          "base_uri": "https://localhost:8080/"
        },
        "id": "iCPTPbm10470",
        "outputId": "2a66f40e-4ca3-4306-9bda-13f6e842a078"
      },
      "execution_count": 28,
      "outputs": [
        {
          "output_type": "stream",
          "name": "stdout",
          "text": [
            "0\n",
            "1\n",
            "2\n",
            "3\n",
            "4\n",
            "5\n",
            "6\n",
            "7\n",
            "8\n",
            "9\n"
          ]
        }
      ]
    },
    {
      "cell_type": "code",
      "source": [
        "array = [1, 2, 3]\n",
        "\n",
        "for element in array:\n",
        "    print(element)"
      ],
      "metadata": {
        "colab": {
          "base_uri": "https://localhost:8080/"
        },
        "id": "1YWV1Dq71AN7",
        "outputId": "286405d8-c9cb-4d20-a560-e2afd0cfa1bd"
      },
      "execution_count": 29,
      "outputs": [
        {
          "output_type": "stream",
          "name": "stdout",
          "text": [
            "1\n",
            "2\n",
            "3\n"
          ]
        }
      ]
    },
    {
      "cell_type": "markdown",
      "source": [
        "## while loop"
      ],
      "metadata": {
        "id": "XYubvhQK9eGp"
      }
    },
    {
      "cell_type": "code",
      "source": [
        "size = 10\n",
        "index = 0\n",
        "while( index < size):\n",
        "  print(index)\n",
        "  index = index + 1"
      ],
      "metadata": {
        "colab": {
          "base_uri": "https://localhost:8080/"
        },
        "id": "PDs6ePdq9gqC",
        "outputId": "f815fed8-0102-4838-a5fe-57b1e595efe0"
      },
      "execution_count": 30,
      "outputs": [
        {
          "output_type": "stream",
          "name": "stdout",
          "text": [
            "0\n",
            "1\n",
            "2\n",
            "3\n",
            "4\n",
            "5\n",
            "6\n",
            "7\n",
            "8\n",
            "9\n"
          ]
        }
      ]
    }
  ]
}