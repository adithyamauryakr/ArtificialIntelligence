{
  "nbformat": 4,
  "nbformat_minor": 0,
  "metadata": {
    "colab": {
      "provenance": [],
      "authorship_tag": "ABX9TyMr9GamLdgU8l2RMCV7Zvck",
      "include_colab_link": true
    },
    "kernelspec": {
      "name": "python3",
      "display_name": "Python 3"
    },
    "language_info": {
      "name": "python"
    },
    "gpuClass": "standard"
  },
  "cells": [
    {
      "cell_type": "markdown",
      "metadata": {
        "id": "view-in-github",
        "colab_type": "text"
      },
      "source": [
        "<a href=\"https://colab.research.google.com/github/look4pritam/ArtificialIntelligence/blob/master/Introduction/Notebooks/Python.ipynb\" target=\"_parent\"><img src=\"https://colab.research.google.com/assets/colab-badge.svg\" alt=\"Open In Colab\"/></a>"
      ]
    },
    {
      "cell_type": "markdown",
      "source": [
        "# Introduction to Python.\n",
        "\n",
        "- High level language\n",
        "- General purpose programming language\n",
        "- Code readability \n",
        "- Use of indentation\n",
        "- Dynamically typed\n",
        "- Garbage collected\n",
        "- Structured programming\n",
        "- Object oriented programming\n",
        "- Functional programming\n",
        "- Multiple platforms - Windows, Linux, 32 bit, 64 bit, ARM"
      ],
      "metadata": {
        "id": "N78AlYrbq-3n"
      }
    },
    {
      "cell_type": "markdown",
      "source": [
        "## Statements\n",
        "\n",
        "- Single expression\n",
        "- Assignment\n",
        "- Function call\n",
        "- Function definition\n",
        "- Condition"
      ],
      "metadata": {
        "id": "2NuQSgDurW89"
      }
    },
    {
      "cell_type": "markdown",
      "source": [
        "## Expressions\n",
        "\n",
        "- Numbers\n",
        "- Strings\n",
        "- Boolean values\n",
        "- Lists \n",
        "- Dictionaries"
      ],
      "metadata": {
        "id": "6yBap3Cur6_O"
      }
    },
    {
      "cell_type": "markdown",
      "source": [
        "## Numbers\n",
        "- Integers\n",
        "- Floating point\n",
        "- Complex numbers"
      ],
      "metadata": {
        "id": "kKrREbpVrE5Q"
      }
    },
    {
      "cell_type": "code",
      "execution_count": 28,
      "metadata": {
        "colab": {
          "base_uri": "https://localhost:8080/"
        },
        "id": "CL_jZAKqqc26",
        "outputId": "9799f995-969e-42fc-fb5a-59c806797c32"
      },
      "outputs": [
        {
          "output_type": "execute_result",
          "data": {
            "text/plain": [
              "1"
            ]
          },
          "metadata": {},
          "execution_count": 28
        }
      ],
      "source": [
        "1"
      ]
    },
    {
      "cell_type": "code",
      "source": [
        "-5"
      ],
      "metadata": {
        "colab": {
          "base_uri": "https://localhost:8080/"
        },
        "id": "9-iImI1iwLFX",
        "outputId": "0d456224-edb7-4637-c292-adc3d89c99ca"
      },
      "execution_count": 29,
      "outputs": [
        {
          "output_type": "execute_result",
          "data": {
            "text/plain": [
              "-5"
            ]
          },
          "metadata": {},
          "execution_count": 29
        }
      ]
    },
    {
      "cell_type": "code",
      "source": [
        "2.0"
      ],
      "metadata": {
        "colab": {
          "base_uri": "https://localhost:8080/"
        },
        "id": "OrBl4JWJwJiM",
        "outputId": "dc02ae32-c2dc-43e2-b1cc-c5d9eef34968"
      },
      "execution_count": 30,
      "outputs": [
        {
          "output_type": "execute_result",
          "data": {
            "text/plain": [
              "2.0"
            ]
          },
          "metadata": {},
          "execution_count": 30
        }
      ]
    },
    {
      "cell_type": "markdown",
      "source": [
        "## Complex numbers"
      ],
      "metadata": {
        "id": "ksViYopAxPiq"
      }
    },
    {
      "cell_type": "code",
      "source": [
        "import cmath\n",
        "\n",
        "x = 5\n",
        "y = 3\n",
        "\n",
        "z = complex(x,y)\n",
        "\n",
        "print(z.real, z.imag)"
      ],
      "metadata": {
        "colab": {
          "base_uri": "https://localhost:8080/"
        },
        "id": "_xeig_s0weDY",
        "outputId": "63151df2-ecbf-4dda-c3b7-3799e7e1bf4e"
      },
      "execution_count": 31,
      "outputs": [
        {
          "output_type": "stream",
          "name": "stdout",
          "text": [
            "5.0 3.0\n"
          ]
        }
      ]
    },
    {
      "cell_type": "markdown",
      "source": [
        "## Strings"
      ],
      "metadata": {
        "id": "tAWeI58fxGuh"
      }
    },
    {
      "cell_type": "code",
      "source": [
        "'apple'"
      ],
      "metadata": {
        "colab": {
          "base_uri": "https://localhost:8080/",
          "height": 35
        },
        "id": "UByRg2q2xIf0",
        "outputId": "8355c826-14f7-44ad-b932-93cafe041cf6"
      },
      "execution_count": 32,
      "outputs": [
        {
          "output_type": "execute_result",
          "data": {
            "text/plain": [
              "'apple'"
            ],
            "application/vnd.google.colaboratory.intrinsic+json": {
              "type": "string"
            }
          },
          "metadata": {},
          "execution_count": 32
        }
      ]
    },
    {
      "cell_type": "code",
      "source": [
        "\"apple\""
      ],
      "metadata": {
        "colab": {
          "base_uri": "https://localhost:8080/",
          "height": 35
        },
        "id": "6ijvSY3oxKvg",
        "outputId": "7901402c-f96f-4681-fa08-0fc1128f98ba"
      },
      "execution_count": 33,
      "outputs": [
        {
          "output_type": "execute_result",
          "data": {
            "text/plain": [
              "'apple'"
            ],
            "application/vnd.google.colaboratory.intrinsic+json": {
              "type": "string"
            }
          },
          "metadata": {},
          "execution_count": 33
        }
      ]
    },
    {
      "cell_type": "markdown",
      "source": [
        "## Boolean values"
      ],
      "metadata": {
        "id": "2EaX0Tc3xVHd"
      }
    },
    {
      "cell_type": "code",
      "source": [
        "True"
      ],
      "metadata": {
        "colab": {
          "base_uri": "https://localhost:8080/"
        },
        "id": "YlzqVFl2xZEW",
        "outputId": "a148e4a5-74bd-49c1-be47-a52aaad9acf8"
      },
      "execution_count": 34,
      "outputs": [
        {
          "output_type": "execute_result",
          "data": {
            "text/plain": [
              "True"
            ]
          },
          "metadata": {},
          "execution_count": 34
        }
      ]
    },
    {
      "cell_type": "code",
      "source": [
        "False"
      ],
      "metadata": {
        "colab": {
          "base_uri": "https://localhost:8080/"
        },
        "id": "iQXCTrD4xZZA",
        "outputId": "2843ec03-a3a0-4c7c-cab5-64d4a6e470e7"
      },
      "execution_count": 35,
      "outputs": [
        {
          "output_type": "execute_result",
          "data": {
            "text/plain": [
              "False"
            ]
          },
          "metadata": {},
          "execution_count": 35
        }
      ]
    },
    {
      "cell_type": "markdown",
      "source": [
        "## Lists"
      ],
      "metadata": {
        "id": "ZPCxEf6txfxL"
      }
    },
    {
      "cell_type": "code",
      "source": [
        "[1, 2, 3]"
      ],
      "metadata": {
        "colab": {
          "base_uri": "https://localhost:8080/"
        },
        "id": "jCKYX_XaxgZ3",
        "outputId": "db59d322-f927-4369-95cb-6d8248881a2e"
      },
      "execution_count": 36,
      "outputs": [
        {
          "output_type": "execute_result",
          "data": {
            "text/plain": [
              "[1, 2, 3]"
            ]
          },
          "metadata": {},
          "execution_count": 36
        }
      ]
    },
    {
      "cell_type": "markdown",
      "source": [
        "## Tuples"
      ],
      "metadata": {
        "id": "GFzkZpKgxtL2"
      }
    },
    {
      "cell_type": "code",
      "source": [
        "(1, 2, 3)"
      ],
      "metadata": {
        "colab": {
          "base_uri": "https://localhost:8080/"
        },
        "id": "F5r7D7I5xthn",
        "outputId": "43ae05f6-ca4d-4988-db02-e96fe1176360"
      },
      "execution_count": 37,
      "outputs": [
        {
          "output_type": "execute_result",
          "data": {
            "text/plain": [
              "(1, 2, 3)"
            ]
          },
          "metadata": {},
          "execution_count": 37
        }
      ]
    },
    {
      "cell_type": "markdown",
      "source": [
        "## Dictionaries"
      ],
      "metadata": {
        "id": "qwgD7f3kxmNI"
      }
    },
    {
      "cell_type": "code",
      "source": [
        "{ 'apple': 'a fruit', \n",
        "  'rose': 'a flower', \n",
        "  'monkey': 'a mammal'\n",
        "  }"
      ],
      "metadata": {
        "colab": {
          "base_uri": "https://localhost:8080/"
        },
        "id": "3GPLdRpBxmtk",
        "outputId": "3216fa25-0f02-4a5f-a22e-8315f146e9c6"
      },
      "execution_count": 38,
      "outputs": [
        {
          "output_type": "execute_result",
          "data": {
            "text/plain": [
              "{'apple': 'a fruit', 'rose': 'a flower', 'monkey': 'a mammal'}"
            ]
          },
          "metadata": {},
          "execution_count": 38
        }
      ]
    },
    {
      "cell_type": "code",
      "source": [
        "{ 'apple': 'a fruit', \n",
        "  'rose': 'a flower', \n",
        "  'monkey': 'a mammal'\n",
        "  }['apple']"
      ],
      "metadata": {
        "colab": {
          "base_uri": "https://localhost:8080/",
          "height": 35
        },
        "id": "yartApVvyGvj",
        "outputId": "c0ccb207-145d-4132-a2ff-f06f2863d44a"
      },
      "execution_count": 39,
      "outputs": [
        {
          "output_type": "execute_result",
          "data": {
            "text/plain": [
              "'a fruit'"
            ],
            "application/vnd.google.colaboratory.intrinsic+json": {
              "type": "string"
            }
          },
          "metadata": {},
          "execution_count": 39
        }
      ]
    },
    {
      "cell_type": "markdown",
      "source": [
        "## Print"
      ],
      "metadata": {
        "id": "e2Fm4XRGyvZ9"
      }
    },
    {
      "cell_type": "code",
      "source": [
        "print('I love Python.')"
      ],
      "metadata": {
        "colab": {
          "base_uri": "https://localhost:8080/"
        },
        "id": "Kvu4LpMtyw_p",
        "outputId": "70862d40-6984-4637-f306-2222c309d7a8"
      },
      "execution_count": 40,
      "outputs": [
        {
          "output_type": "stream",
          "name": "stdout",
          "text": [
            "I love Python.\n"
          ]
        }
      ]
    },
    {
      "cell_type": "markdown",
      "source": [
        "## Function call"
      ],
      "metadata": {
        "id": "YRWl9K1ByQOd"
      }
    },
    {
      "cell_type": "code",
      "source": [
        "import math\n",
        "\n",
        "print(math.sin(math.pi/2))"
      ],
      "metadata": {
        "colab": {
          "base_uri": "https://localhost:8080/"
        },
        "id": "kmSYn2oIySXa",
        "outputId": "5a252aec-9688-4575-8f12-3ce7c5c15a3a"
      },
      "execution_count": 41,
      "outputs": [
        {
          "output_type": "stream",
          "name": "stdout",
          "text": [
            "1.0\n"
          ]
        }
      ]
    },
    {
      "cell_type": "markdown",
      "source": [
        "## Special values"
      ],
      "metadata": {
        "id": "2-bJrQdqy5bp"
      }
    },
    {
      "cell_type": "code",
      "source": [
        "None"
      ],
      "metadata": {
        "id": "kCcA4onry7hV"
      },
      "execution_count": 42,
      "outputs": []
    },
    {
      "cell_type": "markdown",
      "source": [
        "## Define a function."
      ],
      "metadata": {
        "id": "22Mq_R4dy9xb"
      }
    },
    {
      "cell_type": "code",
      "source": [
        "def add_numbers(a, b):\n",
        "    return(a + b)"
      ],
      "metadata": {
        "id": "SeQcXOeCy-KV"
      },
      "execution_count": 43,
      "outputs": []
    },
    {
      "cell_type": "code",
      "source": [
        "print(add_numbers(10, 15))"
      ],
      "metadata": {
        "colab": {
          "base_uri": "https://localhost:8080/"
        },
        "id": "z24I_gWIzISP",
        "outputId": "bb64e9eb-3503-48e4-d9fb-9128efbaded4"
      },
      "execution_count": 44,
      "outputs": [
        {
          "output_type": "stream",
          "name": "stdout",
          "text": [
            "25\n"
          ]
        }
      ]
    },
    {
      "cell_type": "markdown",
      "source": [
        "## Default arguments"
      ],
      "metadata": {
        "id": "xnef7C_jzl7c"
      }
    },
    {
      "cell_type": "code",
      "source": [
        "def do_something(a, b, c):\n",
        "    return (a, b, c)"
      ],
      "metadata": {
        "id": "wEf-jUI1znV5"
      },
      "execution_count": 45,
      "outputs": []
    },
    {
      "cell_type": "code",
      "source": [
        "do_something(1, 2, 3)"
      ],
      "metadata": {
        "colab": {
          "base_uri": "https://localhost:8080/"
        },
        "id": "C5OlHW-azqqF",
        "outputId": "518647a6-1ba4-4bb3-fa88-4e4322f51ec4"
      },
      "execution_count": 46,
      "outputs": [
        {
          "output_type": "execute_result",
          "data": {
            "text/plain": [
              "(1, 2, 3)"
            ]
          },
          "metadata": {},
          "execution_count": 46
        }
      ]
    },
    {
      "cell_type": "code",
      "source": [
        "def do_something_else(a=1, b=2, c=3):\n",
        "    return (a, b, c)"
      ],
      "metadata": {
        "id": "RIuI0OOPzuE9"
      },
      "execution_count": 47,
      "outputs": []
    },
    {
      "cell_type": "code",
      "source": [
        "do_something_else()"
      ],
      "metadata": {
        "colab": {
          "base_uri": "https://localhost:8080/"
        },
        "id": "1-KsECQHzuY0",
        "outputId": "c00aaca1-4597-43a3-cdfd-6421b5c89f76"
      },
      "execution_count": 48,
      "outputs": [
        {
          "output_type": "execute_result",
          "data": {
            "text/plain": [
              "(1, 2, 3)"
            ]
          },
          "metadata": {},
          "execution_count": 48
        }
      ]
    },
    {
      "cell_type": "markdown",
      "source": [
        "## Equality"
      ],
      "metadata": {
        "id": "YNQrth8IzR2t"
      }
    },
    {
      "cell_type": "code",
      "source": [
        "1 == 1"
      ],
      "metadata": {
        "colab": {
          "base_uri": "https://localhost:8080/"
        },
        "id": "9NCXURXQzS-V",
        "outputId": "d75b7316-de45-4be6-8748-be5e446490c9"
      },
      "execution_count": 49,
      "outputs": [
        {
          "output_type": "execute_result",
          "data": {
            "text/plain": [
              "True"
            ]
          },
          "metadata": {},
          "execution_count": 49
        }
      ]
    },
    {
      "cell_type": "code",
      "source": [
        "1 in [1, 2, 3]"
      ],
      "metadata": {
        "colab": {
          "base_uri": "https://localhost:8080/"
        },
        "id": "8W0upokTzVoq",
        "outputId": "1776ecaf-d8fa-4a93-edaf-75f3fa758844"
      },
      "execution_count": 50,
      "outputs": [
        {
          "output_type": "execute_result",
          "data": {
            "text/plain": [
              "True"
            ]
          },
          "metadata": {},
          "execution_count": 50
        }
      ]
    },
    {
      "cell_type": "code",
      "source": [
        "1 in (1, 2, 3)"
      ],
      "metadata": {
        "colab": {
          "base_uri": "https://localhost:8080/"
        },
        "id": "Bbb-IBq10vZR",
        "outputId": "4a6163af-a91f-442e-c26f-40a7464f6ef6"
      },
      "execution_count": 51,
      "outputs": [
        {
          "output_type": "execute_result",
          "data": {
            "text/plain": [
              "True"
            ]
          },
          "metadata": {},
          "execution_count": 51
        }
      ]
    },
    {
      "cell_type": "markdown",
      "source": [
        "## if condition"
      ],
      "metadata": {
        "id": "GXbuUc9H82mR"
      }
    },
    {
      "cell_type": "code",
      "source": [
        "if (1 in [1, 2, 3]):\n",
        "    print('yes')\n",
        "else:\n",
        "    print('no')"
      ],
      "metadata": {
        "colab": {
          "base_uri": "https://localhost:8080/"
        },
        "id": "joRsJysm85Oy",
        "outputId": "4f42b0a9-0eb4-489d-f9f6-b34f3fbb1159"
      },
      "execution_count": 52,
      "outputs": [
        {
          "output_type": "stream",
          "name": "stdout",
          "text": [
            "yes\n"
          ]
        }
      ]
    },
    {
      "cell_type": "markdown",
      "source": [
        "## For loop"
      ],
      "metadata": {
        "id": "yM9qSiJ302-A"
      }
    },
    {
      "cell_type": "code",
      "source": [
        "for index in range(10):\n",
        "    print(index)"
      ],
      "metadata": {
        "colab": {
          "base_uri": "https://localhost:8080/"
        },
        "id": "iCPTPbm10470",
        "outputId": "553adc15-e7e2-45e5-d6a7-68c0526225bd"
      },
      "execution_count": 53,
      "outputs": [
        {
          "output_type": "stream",
          "name": "stdout",
          "text": [
            "0\n",
            "1\n",
            "2\n",
            "3\n",
            "4\n",
            "5\n",
            "6\n",
            "7\n",
            "8\n",
            "9\n"
          ]
        }
      ]
    },
    {
      "cell_type": "code",
      "source": [
        "array = [1, 2, 3]\n",
        "\n",
        "for element in array:\n",
        "    print(element)"
      ],
      "metadata": {
        "colab": {
          "base_uri": "https://localhost:8080/"
        },
        "id": "1YWV1Dq71AN7",
        "outputId": "34acde16-186b-4f4c-8b65-6f429cb5275d"
      },
      "execution_count": 54,
      "outputs": [
        {
          "output_type": "stream",
          "name": "stdout",
          "text": [
            "1\n",
            "2\n",
            "3\n"
          ]
        }
      ]
    },
    {
      "cell_type": "markdown",
      "source": [
        "## while loop"
      ],
      "metadata": {
        "id": "XYubvhQK9eGp"
      }
    },
    {
      "cell_type": "code",
      "source": [
        "size = 10\n",
        "index = 0\n",
        "while( index < size):\n",
        "  print(index)\n",
        "  index = index + 1"
      ],
      "metadata": {
        "colab": {
          "base_uri": "https://localhost:8080/"
        },
        "id": "PDs6ePdq9gqC",
        "outputId": "5aa5e0fd-8f23-408b-f1e4-7aa12dd92e39"
      },
      "execution_count": 55,
      "outputs": [
        {
          "output_type": "stream",
          "name": "stdout",
          "text": [
            "0\n",
            "1\n",
            "2\n",
            "3\n",
            "4\n",
            "5\n",
            "6\n",
            "7\n",
            "8\n",
            "9\n"
          ]
        }
      ]
    }
  ]
}