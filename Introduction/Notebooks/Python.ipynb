{
  "nbformat": 4,
  "nbformat_minor": 0,
  "metadata": {
    "colab": {
      "provenance": [],
      "authorship_tag": "ABX9TyPTAFy3+y+3jrUKf19oihdr",
      "include_colab_link": true
    },
    "kernelspec": {
      "name": "python3",
      "display_name": "Python 3"
    },
    "language_info": {
      "name": "python"
    },
    "gpuClass": "standard"
  },
  "cells": [
    {
      "cell_type": "markdown",
      "metadata": {
        "id": "view-in-github",
        "colab_type": "text"
      },
      "source": [
        "<a href=\"https://colab.research.google.com/github/look4pritam/ArtificialIntelligence/blob/master/Introduction/Notebooks/Python.ipynb\" target=\"_parent\"><img src=\"https://colab.research.google.com/assets/colab-badge.svg\" alt=\"Open In Colab\"/></a>"
      ]
    },
    {
      "cell_type": "markdown",
      "source": [
        "# Introduction to Python."
      ],
      "metadata": {
        "id": "N78AlYrbq-3n"
      }
    },
    {
      "cell_type": "markdown",
      "source": [
        "## Statements\n",
        "\n",
        "- A single expression\n",
        "- An assignment\n",
        "- A function call\n",
        "- A function definition"
      ],
      "metadata": {
        "id": "2NuQSgDurW89"
      }
    },
    {
      "cell_type": "markdown",
      "source": [
        "## Expressions\n",
        "\n",
        "- Numbers\n",
        "- Strings\n",
        "- Boolean values\n",
        "- Lists \n",
        "- Dictionaries"
      ],
      "metadata": {
        "id": "6yBap3Cur6_O"
      }
    },
    {
      "cell_type": "markdown",
      "source": [
        "## Numbers\n",
        "- Integers\n",
        "- Floating point\n",
        "- Complex numbers"
      ],
      "metadata": {
        "id": "kKrREbpVrE5Q"
      }
    },
    {
      "cell_type": "code",
      "execution_count": 1,
      "metadata": {
        "colab": {
          "base_uri": "https://localhost:8080/"
        },
        "id": "CL_jZAKqqc26",
        "outputId": "ee1f84cb-9ab0-4ef6-91a7-a977ac668654"
      },
      "outputs": [
        {
          "output_type": "execute_result",
          "data": {
            "text/plain": [
              "1"
            ]
          },
          "metadata": {},
          "execution_count": 1
        }
      ],
      "source": [
        "1"
      ]
    },
    {
      "cell_type": "code",
      "source": [
        "-5"
      ],
      "metadata": {
        "colab": {
          "base_uri": "https://localhost:8080/"
        },
        "id": "9-iImI1iwLFX",
        "outputId": "b9728706-7e1b-4f92-90de-6d1cde3dacbb"
      },
      "execution_count": 2,
      "outputs": [
        {
          "output_type": "execute_result",
          "data": {
            "text/plain": [
              "-5"
            ]
          },
          "metadata": {},
          "execution_count": 2
        }
      ]
    },
    {
      "cell_type": "code",
      "source": [
        "2.0"
      ],
      "metadata": {
        "colab": {
          "base_uri": "https://localhost:8080/"
        },
        "id": "OrBl4JWJwJiM",
        "outputId": "749e0c98-e563-413c-9e67-f923fc0a97a6"
      },
      "execution_count": 3,
      "outputs": [
        {
          "output_type": "execute_result",
          "data": {
            "text/plain": [
              "2.0"
            ]
          },
          "metadata": {},
          "execution_count": 3
        }
      ]
    },
    {
      "cell_type": "markdown",
      "source": [
        "## Complex numbers"
      ],
      "metadata": {
        "id": "ksViYopAxPiq"
      }
    },
    {
      "cell_type": "code",
      "source": [
        "import cmath\n",
        "\n",
        "x = 5\n",
        "y = 3\n",
        "\n",
        "z = complex(x,y)\n",
        "\n",
        "print(z.real, z.imag)"
      ],
      "metadata": {
        "colab": {
          "base_uri": "https://localhost:8080/"
        },
        "id": "_xeig_s0weDY",
        "outputId": "0c7254e5-8af6-46c4-86f5-98be5c690bb4"
      },
      "execution_count": 4,
      "outputs": [
        {
          "output_type": "stream",
          "name": "stdout",
          "text": [
            "5.0 3.0\n"
          ]
        }
      ]
    },
    {
      "cell_type": "markdown",
      "source": [
        "## Strings"
      ],
      "metadata": {
        "id": "tAWeI58fxGuh"
      }
    },
    {
      "cell_type": "code",
      "source": [
        "'apple'"
      ],
      "metadata": {
        "colab": {
          "base_uri": "https://localhost:8080/",
          "height": 35
        },
        "id": "UByRg2q2xIf0",
        "outputId": "9aa8c2ef-1e02-4253-9f26-63833397dc87"
      },
      "execution_count": 5,
      "outputs": [
        {
          "output_type": "execute_result",
          "data": {
            "text/plain": [
              "'apple'"
            ],
            "application/vnd.google.colaboratory.intrinsic+json": {
              "type": "string"
            }
          },
          "metadata": {},
          "execution_count": 5
        }
      ]
    },
    {
      "cell_type": "code",
      "source": [
        "\"apple\""
      ],
      "metadata": {
        "colab": {
          "base_uri": "https://localhost:8080/",
          "height": 35
        },
        "id": "6ijvSY3oxKvg",
        "outputId": "38a58287-5aa1-46ae-9eb0-4941786328e1"
      },
      "execution_count": 6,
      "outputs": [
        {
          "output_type": "execute_result",
          "data": {
            "text/plain": [
              "'apple'"
            ],
            "application/vnd.google.colaboratory.intrinsic+json": {
              "type": "string"
            }
          },
          "metadata": {},
          "execution_count": 6
        }
      ]
    },
    {
      "cell_type": "markdown",
      "source": [
        "## Boolean values"
      ],
      "metadata": {
        "id": "2EaX0Tc3xVHd"
      }
    },
    {
      "cell_type": "code",
      "source": [
        "True"
      ],
      "metadata": {
        "colab": {
          "base_uri": "https://localhost:8080/"
        },
        "id": "YlzqVFl2xZEW",
        "outputId": "3736cfa4-7594-4af8-9032-65ae0536ab55"
      },
      "execution_count": 7,
      "outputs": [
        {
          "output_type": "execute_result",
          "data": {
            "text/plain": [
              "True"
            ]
          },
          "metadata": {},
          "execution_count": 7
        }
      ]
    },
    {
      "cell_type": "code",
      "source": [
        "False"
      ],
      "metadata": {
        "colab": {
          "base_uri": "https://localhost:8080/"
        },
        "id": "iQXCTrD4xZZA",
        "outputId": "be627317-f859-4f86-d014-848bdd7c0b7a"
      },
      "execution_count": 8,
      "outputs": [
        {
          "output_type": "execute_result",
          "data": {
            "text/plain": [
              "False"
            ]
          },
          "metadata": {},
          "execution_count": 8
        }
      ]
    },
    {
      "cell_type": "markdown",
      "source": [
        "## Lists"
      ],
      "metadata": {
        "id": "ZPCxEf6txfxL"
      }
    },
    {
      "cell_type": "code",
      "source": [
        "[1, 2, 3]"
      ],
      "metadata": {
        "colab": {
          "base_uri": "https://localhost:8080/"
        },
        "id": "jCKYX_XaxgZ3",
        "outputId": "7c3f295c-a26c-4d80-e2a6-b30cd0f70106"
      },
      "execution_count": 9,
      "outputs": [
        {
          "output_type": "execute_result",
          "data": {
            "text/plain": [
              "[1, 2, 3]"
            ]
          },
          "metadata": {},
          "execution_count": 9
        }
      ]
    },
    {
      "cell_type": "markdown",
      "source": [
        "## Tuples"
      ],
      "metadata": {
        "id": "GFzkZpKgxtL2"
      }
    },
    {
      "cell_type": "code",
      "source": [
        "(1, 2, 3)"
      ],
      "metadata": {
        "colab": {
          "base_uri": "https://localhost:8080/"
        },
        "id": "F5r7D7I5xthn",
        "outputId": "bb1330f0-2450-4d94-fa6f-f902b934083e"
      },
      "execution_count": 10,
      "outputs": [
        {
          "output_type": "execute_result",
          "data": {
            "text/plain": [
              "(1, 2, 3)"
            ]
          },
          "metadata": {},
          "execution_count": 10
        }
      ]
    },
    {
      "cell_type": "markdown",
      "source": [
        "## Dictionaries"
      ],
      "metadata": {
        "id": "qwgD7f3kxmNI"
      }
    },
    {
      "cell_type": "code",
      "source": [
        "{ 'apple': 'a fruit', \n",
        "  'rose': 'a flower', \n",
        "  'monkey': 'a mammal'\n",
        "  }"
      ],
      "metadata": {
        "colab": {
          "base_uri": "https://localhost:8080/"
        },
        "id": "3GPLdRpBxmtk",
        "outputId": "17dc1f5a-e785-405d-e13f-5a6dd15e62dd"
      },
      "execution_count": 11,
      "outputs": [
        {
          "output_type": "execute_result",
          "data": {
            "text/plain": [
              "{'apple': 'a fruit', 'rose': 'a flower', 'monkey': 'a mammal'}"
            ]
          },
          "metadata": {},
          "execution_count": 11
        }
      ]
    },
    {
      "cell_type": "code",
      "source": [
        "{ 'apple': 'a fruit', \n",
        "  'rose': 'a flower', \n",
        "  'monkey': 'a mammal'\n",
        "  }['apple']"
      ],
      "metadata": {
        "colab": {
          "base_uri": "https://localhost:8080/",
          "height": 35
        },
        "id": "yartApVvyGvj",
        "outputId": "29b37d17-4837-40ae-c66f-c775e9d51c19"
      },
      "execution_count": 12,
      "outputs": [
        {
          "output_type": "execute_result",
          "data": {
            "text/plain": [
              "'a fruit'"
            ],
            "application/vnd.google.colaboratory.intrinsic+json": {
              "type": "string"
            }
          },
          "metadata": {},
          "execution_count": 12
        }
      ]
    },
    {
      "cell_type": "markdown",
      "source": [
        "## Print"
      ],
      "metadata": {
        "id": "e2Fm4XRGyvZ9"
      }
    },
    {
      "cell_type": "code",
      "source": [
        "print('I love Python.')"
      ],
      "metadata": {
        "colab": {
          "base_uri": "https://localhost:8080/"
        },
        "id": "Kvu4LpMtyw_p",
        "outputId": "d344815f-98e1-4c74-a141-3693564720ff"
      },
      "execution_count": 13,
      "outputs": [
        {
          "output_type": "stream",
          "name": "stdout",
          "text": [
            "I love Python.\n"
          ]
        }
      ]
    },
    {
      "cell_type": "markdown",
      "source": [
        "## Function call"
      ],
      "metadata": {
        "id": "YRWl9K1ByQOd"
      }
    },
    {
      "cell_type": "code",
      "source": [
        "import math\n",
        "\n",
        "print(math.sin(math.pi/2))"
      ],
      "metadata": {
        "colab": {
          "base_uri": "https://localhost:8080/"
        },
        "id": "kmSYn2oIySXa",
        "outputId": "a2bd3922-d9bf-4caf-cac8-bb56b1ed3c4f"
      },
      "execution_count": 14,
      "outputs": [
        {
          "output_type": "stream",
          "name": "stdout",
          "text": [
            "1.0\n"
          ]
        }
      ]
    },
    {
      "cell_type": "markdown",
      "source": [
        "## Special values"
      ],
      "metadata": {
        "id": "2-bJrQdqy5bp"
      }
    },
    {
      "cell_type": "code",
      "source": [
        "None"
      ],
      "metadata": {
        "id": "kCcA4onry7hV"
      },
      "execution_count": 15,
      "outputs": []
    },
    {
      "cell_type": "markdown",
      "source": [
        "## Define a function."
      ],
      "metadata": {
        "id": "22Mq_R4dy9xb"
      }
    },
    {
      "cell_type": "code",
      "source": [
        "def add_numbers(a, b):\n",
        "    return(a + b)"
      ],
      "metadata": {
        "id": "SeQcXOeCy-KV"
      },
      "execution_count": 16,
      "outputs": []
    },
    {
      "cell_type": "code",
      "source": [
        "print(add_numbers(10, 15))"
      ],
      "metadata": {
        "colab": {
          "base_uri": "https://localhost:8080/"
        },
        "id": "z24I_gWIzISP",
        "outputId": "745af038-5413-44db-b595-c069bb30f396"
      },
      "execution_count": 17,
      "outputs": [
        {
          "output_type": "stream",
          "name": "stdout",
          "text": [
            "25\n"
          ]
        }
      ]
    },
    {
      "cell_type": "markdown",
      "source": [
        "## Default arguments"
      ],
      "metadata": {
        "id": "xnef7C_jzl7c"
      }
    },
    {
      "cell_type": "code",
      "source": [
        "def do_something(a, b, c):\n",
        "    return (a, b, c)"
      ],
      "metadata": {
        "id": "wEf-jUI1znV5"
      },
      "execution_count": 18,
      "outputs": []
    },
    {
      "cell_type": "code",
      "source": [
        "do_something(1, 2, 3)"
      ],
      "metadata": {
        "colab": {
          "base_uri": "https://localhost:8080/"
        },
        "id": "C5OlHW-azqqF",
        "outputId": "cddd6dc6-05c4-4d2f-b08a-718f61224817"
      },
      "execution_count": 19,
      "outputs": [
        {
          "output_type": "execute_result",
          "data": {
            "text/plain": [
              "(1, 2, 3)"
            ]
          },
          "metadata": {},
          "execution_count": 19
        }
      ]
    },
    {
      "cell_type": "code",
      "source": [
        "def do_something_else(a=1, b=2, c=3):\n",
        "    return (a, b, c)"
      ],
      "metadata": {
        "id": "RIuI0OOPzuE9"
      },
      "execution_count": 20,
      "outputs": []
    },
    {
      "cell_type": "code",
      "source": [
        "do_something_else()"
      ],
      "metadata": {
        "colab": {
          "base_uri": "https://localhost:8080/"
        },
        "id": "1-KsECQHzuY0",
        "outputId": "fa197d43-e868-4263-957b-d754992ecf8a"
      },
      "execution_count": 21,
      "outputs": [
        {
          "output_type": "execute_result",
          "data": {
            "text/plain": [
              "(1, 2, 3)"
            ]
          },
          "metadata": {},
          "execution_count": 21
        }
      ]
    },
    {
      "cell_type": "markdown",
      "source": [
        "## Equality"
      ],
      "metadata": {
        "id": "YNQrth8IzR2t"
      }
    },
    {
      "cell_type": "code",
      "source": [
        "1 == 1"
      ],
      "metadata": {
        "colab": {
          "base_uri": "https://localhost:8080/"
        },
        "id": "9NCXURXQzS-V",
        "outputId": "7e8480ab-18f3-487c-a0fd-a909cb64b556"
      },
      "execution_count": 22,
      "outputs": [
        {
          "output_type": "execute_result",
          "data": {
            "text/plain": [
              "True"
            ]
          },
          "metadata": {},
          "execution_count": 22
        }
      ]
    },
    {
      "cell_type": "code",
      "source": [
        "1 in [1, 2, 3]"
      ],
      "metadata": {
        "colab": {
          "base_uri": "https://localhost:8080/"
        },
        "id": "8W0upokTzVoq",
        "outputId": "a00139b8-3121-4407-8702-5d269593d4ef"
      },
      "execution_count": 23,
      "outputs": [
        {
          "output_type": "execute_result",
          "data": {
            "text/plain": [
              "True"
            ]
          },
          "metadata": {},
          "execution_count": 23
        }
      ]
    },
    {
      "cell_type": "code",
      "source": [
        "1 in (1, 2, 3)"
      ],
      "metadata": {
        "colab": {
          "base_uri": "https://localhost:8080/"
        },
        "id": "Bbb-IBq10vZR",
        "outputId": "6e02a0d3-5cd9-499b-cf3c-1f82fd271547"
      },
      "execution_count": 24,
      "outputs": [
        {
          "output_type": "execute_result",
          "data": {
            "text/plain": [
              "True"
            ]
          },
          "metadata": {},
          "execution_count": 24
        }
      ]
    },
    {
      "cell_type": "markdown",
      "source": [
        "## For loop"
      ],
      "metadata": {
        "id": "yM9qSiJ302-A"
      }
    },
    {
      "cell_type": "code",
      "source": [
        "for index in range(10):\n",
        "    print(index)"
      ],
      "metadata": {
        "colab": {
          "base_uri": "https://localhost:8080/"
        },
        "id": "iCPTPbm10470",
        "outputId": "139ac802-e327-4ba9-f843-9414f83fcd2d"
      },
      "execution_count": 25,
      "outputs": [
        {
          "output_type": "stream",
          "name": "stdout",
          "text": [
            "0\n",
            "1\n",
            "2\n",
            "3\n",
            "4\n",
            "5\n",
            "6\n",
            "7\n",
            "8\n",
            "9\n"
          ]
        }
      ]
    },
    {
      "cell_type": "code",
      "source": [
        "array = [1, 2, 3]\n",
        "\n",
        "for element in array:\n",
        "    print(element)"
      ],
      "metadata": {
        "colab": {
          "base_uri": "https://localhost:8080/"
        },
        "id": "1YWV1Dq71AN7",
        "outputId": "ac7d0965-f833-4392-a411-670856d855c1"
      },
      "execution_count": 26,
      "outputs": [
        {
          "output_type": "stream",
          "name": "stdout",
          "text": [
            "1\n",
            "2\n",
            "3\n"
          ]
        }
      ]
    }
  ]
}