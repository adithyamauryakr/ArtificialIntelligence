{
  "nbformat": 4,
  "nbformat_minor": 0,
  "metadata": {
    "colab": {
      "provenance": [],
      "authorship_tag": "ABX9TyMHbkMfcghd2i+BFMQhdhS8",
      "include_colab_link": true
    },
    "kernelspec": {
      "name": "python3",
      "display_name": "Python 3"
    },
    "language_info": {
      "name": "python"
    },
    "gpuClass": "standard"
  },
  "cells": [
    {
      "cell_type": "markdown",
      "metadata": {
        "id": "view-in-github",
        "colab_type": "text"
      },
      "source": [
        "<a href=\"https://colab.research.google.com/github/look4pritam/ArtificialIntelligence/blob/master/MachineLearning/SupportVectorMachine/Notebooks/HandwrittenDigits.ipynb\" target=\"_parent\"><img src=\"https://colab.research.google.com/assets/colab-badge.svg\" alt=\"Open In Colab\"/></a>"
      ]
    },
    {
      "cell_type": "markdown",
      "source": [
        "# Support Vector Machine\n",
        "\n",
        "In this example, we will learn to classify using [Support Vector Machine](https://en.wikipedia.org/wiki/Support_vector_machine).\n",
        "\n",
        "We will use a dataset of handwritten digits using pen for classification.\n",
        "\n",
        "See [link](http://archive.ics.uci.edu/ml/datasets/Pen-Based+Recognition+of+Handwritten+Digits) for more details."
      ],
      "metadata": {
        "id": "tb2329nxFBVT"
      }
    },
    {
      "cell_type": "markdown",
      "source": [
        "# Set the root directory for processing."
      ],
      "metadata": {
        "id": "q7_3hVePGFgf"
      }
    },
    {
      "cell_type": "code",
      "execution_count": 1,
      "metadata": {
        "colab": {
          "base_uri": "https://localhost:8080/"
        },
        "id": "1lHGpocQE42g",
        "outputId": "077366cb-289b-48c3-c27e-7a7c1bfa99de"
      },
      "outputs": [
        {
          "output_type": "stream",
          "name": "stdout",
          "text": [
            "total 16\n",
            "drwxr-xr-x 1 root root 4096 Feb 17 19:30 .\n",
            "drwxr-xr-x 1 root root 4096 Feb 20 14:28 ..\n",
            "drwxr-xr-x 4 root root 4096 Feb 17 19:29 .config\n",
            "drwxr-xr-x 1 root root 4096 Feb 17 19:30 sample_data\n"
          ]
        }
      ],
      "source": [
        "import os\n",
        "\n",
        "root_dir = '/content/'\n",
        "os.chdir(root_dir)\n",
        "\n",
        "!ls -al   "
      ]
    },
    {
      "cell_type": "markdown",
      "source": [
        "# Import required python modules."
      ],
      "metadata": {
        "id": "PaOoTfzKGQI1"
      }
    },
    {
      "cell_type": "code",
      "source": [
        "from sklearn import datasets"
      ],
      "metadata": {
        "id": "iAZjduooGbQC"
      },
      "execution_count": 2,
      "outputs": []
    },
    {
      "cell_type": "markdown",
      "source": [
        "# Load the dataset."
      ],
      "metadata": {
        "id": "tYWcCLfHGjpm"
      }
    },
    {
      "cell_type": "code",
      "source": [
        "digits_dataset = datasets.load_digits() "
      ],
      "metadata": {
        "id": "B9dAsIZRGiMB"
      },
      "execution_count": 3,
      "outputs": []
    },
    {
      "cell_type": "code",
      "source": [
        "X = digits_dataset.data[:-1]\n",
        "y = digits_dataset.target[:-1]"
      ],
      "metadata": {
        "id": "fuPsnHnIG-xE"
      },
      "execution_count": 4,
      "outputs": []
    },
    {
      "cell_type": "markdown",
      "source": [
        "# Import required python modules."
      ],
      "metadata": {
        "id": "w0-gpYAlHSA6"
      }
    },
    {
      "cell_type": "code",
      "source": [
        "from sklearn import svm "
      ],
      "metadata": {
        "id": "gU3lF6WAHVLR"
      },
      "execution_count": 5,
      "outputs": []
    },
    {
      "cell_type": "markdown",
      "source": [
        "# Create Support Vector Machine."
      ],
      "metadata": {
        "id": "mTgWkdFLHX3u"
      }
    },
    {
      "cell_type": "code",
      "source": [
        "model = svm.SVC(gamma=0.001, C=100.)\n",
        "model.fit(X,y)"
      ],
      "metadata": {
        "colab": {
          "base_uri": "https://localhost:8080/"
        },
        "id": "4sNgPJuJHiOb",
        "outputId": "04272601-44c0-499b-94e0-6a787d77fd9a"
      },
      "execution_count": 6,
      "outputs": [
        {
          "output_type": "execute_result",
          "data": {
            "text/plain": [
              "SVC(C=100.0, gamma=0.001)"
            ]
          },
          "metadata": {},
          "execution_count": 6
        }
      ]
    },
    {
      "cell_type": "markdown",
      "source": [
        "# Evaluate the trained model."
      ],
      "metadata": {
        "id": "YmYv2tW6Hg-Y"
      }
    },
    {
      "cell_type": "markdown",
      "source": [
        "### Import Python packages."
      ],
      "metadata": {
        "id": "JZKEN62jMFmq"
      }
    },
    {
      "cell_type": "code",
      "source": [
        "import matplotlib.pyplot as plt"
      ],
      "metadata": {
        "id": "S__7eVcUMI3J"
      },
      "execution_count": 7,
      "outputs": []
    },
    {
      "cell_type": "markdown",
      "source": [
        "### Evaluate for number 1."
      ],
      "metadata": {
        "id": "_e3FRNp8L7C5"
      }
    },
    {
      "cell_type": "code",
      "source": [
        "sample_number = [\n",
        "  [ 0.,  0.,  0.,  0.,  16.,  0.,  0.,  0. ],\n",
        "  [ 0.,  0.,  0.,  0.,  16.,  0.,  0.,  0. ],\n",
        "  [ 0.,  0.,  0.,  0.,  16.,  0.,  0.,  0. ],\n",
        "  [ 0.,  0.,  0.,  0.,  16.,  0.,  0.,  0. ],\n",
        "  [ 0.,  0.,  0.,  0.,  16.,  0.,  0.,  0. ],\n",
        "  [ 0.,  0.,  0.,  0.,  16.,  0.,  0.,  0. ],\n",
        "  [ 0.,  0.,  0.,  0.,  16.,  0.,  0.,  0. ],\n",
        "  [ 0.,  0.,  0.,  0.,  16.,  0.,  0.,  0. ],\n",
        "]"
      ],
      "metadata": {
        "id": "StxKmLQPL5w_"
      },
      "execution_count": 8,
      "outputs": []
    },
    {
      "cell_type": "code",
      "source": [
        "plt.figure(1, figsize=(3, 3))\n",
        "plt.imshow(sample_number, cmap=plt.cm.gray_r, interpolation='nearest')\n",
        "plt.show() "
      ],
      "metadata": {
        "colab": {
          "base_uri": "https://localhost:8080/",
          "height": 211
        },
        "id": "7HVxpfKrMAxQ",
        "outputId": "a4e877ac-af00-4957-f4bd-0dcffa0404d7"
      },
      "execution_count": 9,
      "outputs": [
        {
          "output_type": "display_data",
          "data": {
            "text/plain": [
              "<Figure size 216x216 with 1 Axes>"
            ],
            "image/png": "[encoded data removed]"
          },
          "metadata": {
            "needs_background": "light"
          }
        }
      ]
    },
    {
      "cell_type": "code",
      "source": [
        "result = model.predict([[item for sublist in sample_number for item in sublist]]) \n",
        "print(result)"
      ],
      "metadata": {
        "colab": {
          "base_uri": "https://localhost:8080/"
        },
        "id": "-QosjFWpMfdk",
        "outputId": "673a935c-6c37-43e4-8773-fbc32014c8a2"
      },
      "execution_count": 10,
      "outputs": [
        {
          "output_type": "stream",
          "name": "stdout",
          "text": [
            "[1]\n"
          ]
        }
      ]
    },
    {
      "cell_type": "markdown",
      "source": [
        "### Evaluate for number 4."
      ],
      "metadata": {
        "id": "FGY1LmHxN0ME"
      }
    },
    {
      "cell_type": "code",
      "source": [
        "sample_number = [\n",
        "  [0.,   0.,  0.,  0.,   16.,   0.,   0.,   0.,],\n",
        "  [0.,   0.,  0.,  16.,   16.,   0.,   0.,   0.,],\n",
        "  [0.,   0.,  16.,  0.,   16.,   0.,   0.,   0.,],\n",
        "  [0.,   0.,  16.,  0.,   16.,   0.,   0.,   0.,],\n",
        "  [0.,   16.,  16.,  16.,  16.,   0.,   0.,   0.,],\n",
        "  [0.,   0.,  0.,   0.,   16.,   0.,   0.,   0.,],\n",
        "  [0.,   0.,  0.,   0.,   16.,   0.,   0.,   0.,],\n",
        "  [0.,   0.,  0.,   0.,   16.,   0.,   0.,   0.,],\n",
        "]"
      ],
      "metadata": {
        "id": "jKFY1Ym3N0MO"
      },
      "execution_count": 11,
      "outputs": []
    },
    {
      "cell_type": "code",
      "source": [
        "plt.figure(1, figsize=(3, 3))\n",
        "plt.imshow(sample_number, cmap=plt.cm.gray_r, interpolation='nearest')\n",
        "plt.show() "
      ],
      "metadata": {
        "colab": {
          "base_uri": "https://localhost:8080/",
          "height": 211
        },
        "outputId": "bf4acff8-4dd8-4132-f8d0-8a5e4e32cd34",
        "id": "-Jjys483N0MO"
      },
      "execution_count": 12,
      "outputs": [
        {
          "output_type": "display_data",
          "data": {
            "text/plain": [
              "<Figure size 216x216 with 1 Axes>"
            ],
            "image/png": "[encoded data removed]"
          },
          "metadata": {
            "needs_background": "light"
          }
        }
      ]
    },
    {
      "cell_type": "code",
      "source": [
        "result = model.predict([[item for sublist in sample_number for item in sublist]]) \n",
        "print(result)"
      ],
      "metadata": {
        "colab": {
          "base_uri": "https://localhost:8080/"
        },
        "outputId": "fd08a699-120d-442d-a874-eff4af45f491",
        "id": "J56yBkPYN0MP"
      },
      "execution_count": 13,
      "outputs": [
        {
          "output_type": "stream",
          "name": "stdout",
          "text": [
            "[4]\n"
          ]
        }
      ]
    }
  ]
}