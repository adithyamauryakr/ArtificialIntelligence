{
  "nbformat": 4,
  "nbformat_minor": 0,
  "metadata": {
    "colab": {
      "provenance": [],
      "include_colab_link": true
    },
    "kernelspec": {
      "name": "python3",
      "display_name": "Python 3"
    },
    "gpuClass": "standard"
  },
  "cells": [
    {
      "cell_type": "markdown",
      "metadata": {
        "id": "view-in-github",
        "colab_type": "text"
      },
      "source": [
        "<a href=\"https://colab.research.google.com/github/look4pritam/ArtificialIntelligence/blob/master/MachineLearning/K-MeansClustering/Assignments/KMeansClusteringElbow.ipynb\" target=\"_parent\"><img src=\"https://colab.research.google.com/assets/colab-badge.svg\" alt=\"Open In Colab\"/></a>"
      ]
    },
    {
      "cell_type": "markdown",
      "metadata": {
        "id": "uSuu_iqwtwQG"
      },
      "source": [
        "# K Means Clustering Algorithm - Elbow Method\n",
        "In this example, we will apply [K means clustering algorithm](https://en.wikipedia.org/wiki/K-means_clustering) to a random dataset.\n",
        "\n",
        "We will make use of the elbow method to find the number of clusters for the given dataset."
      ]
    },
    {
      "cell_type": "markdown",
      "source": [
        "# Set the root directory for processing."
      ],
      "metadata": {
        "id": "8LxEybslUDJ1"
      }
    },
    {
      "cell_type": "code",
      "source": [
        "import os\n",
        "\n",
        "root_dir = '/content/'\n",
        "os.chdir(root_dir)\n",
        "\n",
        "!ls -al"
      ],
      "metadata": {
        "id": "-ZT0daxrUEoq"
      },
      "execution_count": null,
      "outputs": []
    },
    {
      "cell_type": "markdown",
      "metadata": {
        "id": "q1DCajnJzQeX"
      },
      "source": [
        "# Import required python modules."
      ]
    },
    {
      "cell_type": "code",
      "source": [
        "import numpy as np\n",
        "np.random.seed(7)"
      ],
      "metadata": {
        "id": "DzooOfOrUL1p"
      },
      "execution_count": null,
      "outputs": []
    },
    {
      "cell_type": "code",
      "source": [
        "from sklearn import datasets"
      ],
      "metadata": {
        "id": "UT4pOXweUOnk"
      },
      "execution_count": null,
      "outputs": []
    },
    {
      "cell_type": "code",
      "source": [
        "from matplotlib import pyplot\n",
        "%matplotlib inline"
      ],
      "metadata": {
        "id": "AXEF_8rCUQ85"
      },
      "execution_count": null,
      "outputs": []
    },
    {
      "cell_type": "code",
      "metadata": {
        "id": "7JAMCSYweH6E"
      },
      "source": [
        "from sklearn.cluster import KMeans"
      ],
      "execution_count": null,
      "outputs": []
    },
    {
      "cell_type": "markdown",
      "metadata": {
        "id": "rpc1qaUfet71"
      },
      "source": [
        "# Define helper functions for processing datasets."
      ]
    },
    {
      "cell_type": "code",
      "source": [
        "def random_dataset_two(number_of_samples=2500):\n",
        "\n",
        "  number_of_features=2\n",
        "  centers = [(-5, -5), (5, -5), (0, 0), (-5, 5), (5, 5)]\n",
        "  random_state = 7\n",
        "\n",
        "  X, y = datasets.make_blobs(n_samples=number_of_samples, n_features=number_of_features, centers=centers, random_state=random_state)\n",
        "\n",
        "  return(X, y, number_of_samples)"
      ],
      "metadata": {
        "id": "jyxmJGxrUa3S"
      },
      "execution_count": null,
      "outputs": []
    },
    {
      "cell_type": "code",
      "source": [
        "def show_dataset(points_dataset, cluster_centers=None):\n",
        "  pyplot.scatter(points_dataset[:, 0], points_dataset[:, 1], c='black', s=7)\n",
        "  if(cluster_centers is not None):\n",
        "    pyplot.scatter(cluster_centers[:, 0], cluster_centers[:, 1], marker='*', s=200, c='g')"
      ],
      "metadata": {
        "id": "jx_WlP3-UdVx"
      },
      "execution_count": null,
      "outputs": []
    },
    {
      "cell_type": "code",
      "source": [
        "def show_clustered_dataset(points_dataset, cluster_ids, cluster_centers, number_of_clusters):\n",
        "  colors = ['r', 'g', 'b', 'y', 'c', 'm']\n",
        "  figure, axes = pyplot.subplots()\n",
        "  for i in range(number_of_clusters):\n",
        "        points = np.array([points_dataset[j] for j in range(len(points_dataset)) if cluster_ids[j] == i])\n",
        "        axes.scatter(points[:, 0], points[:, 1], s=7, c=colors[i])\n",
        "\n",
        "  axes.scatter(cluster_centers[:, 0], cluster_centers[:, 1], marker='*', s=200, c='#050505')"
      ],
      "metadata": {
        "id": "bxUBxssiUgCF"
      },
      "execution_count": null,
      "outputs": []
    },
    {
      "cell_type": "markdown",
      "source": [
        "# Create a random dataset for processing."
      ],
      "metadata": {
        "id": "wise8LEfVmXo"
      }
    },
    {
      "cell_type": "code",
      "source": [
        "points_dataset, true_y, number_of_samples = random_dataset_two()\n",
        "print (\"Number of samples are = \" + str(number_of_samples))\n",
        "\n",
        "show_dataset(points_dataset)"
      ],
      "metadata": {
        "id": "GmViGBmUVmsp"
      },
      "execution_count": null,
      "outputs": []
    },
    {
      "cell_type": "markdown",
      "metadata": {
        "id": "C04kxRuoe5N2"
      },
      "source": [
        "# Compute number of clusters using the elbow method.\n",
        "- Set minimum number of clusters = 1\n",
        "- Set maximum number of clusters = 16\n",
        "- Apply K means algorithm using number of clusters within range of minimum and maximum number of clusters.\n",
        "- Append sum of squared distances of samples to their closest cluster center to wcss array.\n",
        "\n",
        "### Hints\n",
        "- [K means clustering algorithm](https://scikit-learn.org/stable/modules/generated/sklearn.cluster.KMeans.html)"
      ]
    },
    {
      "cell_type": "code",
      "metadata": {
        "id": "jWG6zoR_0MDY"
      },
      "source": [
        "wcss = []\n",
        "\n",
        "minimum_clusters = 1\n",
        "maximum_clusters = 16\n",
        "ragne_of_clusters = range(minimum_clusters, maximum_clusters)\n",
        "\n",
        "for current_clusters in ragne_of_clusters:\n",
        "    kmeans_object = WRITE_CODE\n",
        "    kmeans_object.fit(points_dataset)\n",
        "    wcss.append(kmeans_object.inertia_)"
      ],
      "execution_count": null,
      "outputs": []
    },
    {
      "cell_type": "markdown",
      "metadata": {
        "id": "syrl5lhQi7k2"
      },
      "source": [
        "# Draw the graph for visualization."
      ]
    },
    {
      "cell_type": "code",
      "metadata": {
        "id": "xaIV8PFqhJ7i"
      },
      "source": [
        "pyplot.plot(ragne_of_clusters, wcss)\n",
        "pyplot.title('The elbow method')\n",
        "pyplot.xlabel('Number of clusters')\n",
        "pyplot.ylabel('Within cluster sum of squares')\n",
        "pyplot.show()"
      ],
      "execution_count": null,
      "outputs": []
    },
    {
      "cell_type": "markdown",
      "metadata": {
        "id": "6UAknZprjBYx"
      },
      "source": [
        "# Verify number of clusters computed from the elbow method.\n",
        "- Apply K means algorithm with number of clusters computed from the elbow method.\n",
        "- Collect cluster centers and ids computed using K means algorithm.\n",
        "- Visualize the clustered dataset for verification.\n",
        "\n",
        "### Hints\n",
        "- [K means algorithm](https://scikit-learn.org/stable/modules/generated/sklearn.cluster.KMeans.html)"
      ]
    },
    {
      "cell_type": "code",
      "metadata": {
        "id": "0F8tymBoXR0V"
      },
      "source": [
        "number_of_clusters = 5\n",
        "kmeans_object = WRITE_CODE\n",
        "kmeans_object.fit(points_dataset)\n",
        "\n",
        "cluster_centers = kmeans_object.cluster_centers_\n",
        "cluster_ids = kmeans_object.labels_\n",
        "\n",
        "show_clustered_dataset(points_dataset, cluster_ids, cluster_centers, number_of_clusters)"
      ],
      "execution_count": null,
      "outputs": []
    }
  ]
}