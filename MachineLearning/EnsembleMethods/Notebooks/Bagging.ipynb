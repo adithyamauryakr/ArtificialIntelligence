{
  "nbformat": 4,
  "nbformat_minor": 0,
  "metadata": {
    "colab": {
      "provenance": [],
      "authorship_tag": "ABX9TyOpi7KErEE/rH3JlvU6/pfl",
      "include_colab_link": true
    },
    "kernelspec": {
      "name": "python3",
      "display_name": "Python 3"
    },
    "language_info": {
      "name": "python"
    },
    "gpuClass": "standard"
  },
  "cells": [
    {
      "cell_type": "markdown",
      "metadata": {
        "id": "view-in-github",
        "colab_type": "text"
      },
      "source": [
        "<a href=\"https://colab.research.google.com/github/look4pritam/ArtificialIntelligence/blob/master/MachineLearning/EnsembleMethods/Notebooks/Bagging.ipynb\" target=\"_parent\"><img src=\"https://colab.research.google.com/assets/colab-badge.svg\" alt=\"Open In Colab\"/></a>"
      ]
    },
    {
      "cell_type": "markdown",
      "source": [
        "# Bagging\n",
        "\n",
        "In this example, we will use bagging for classification. "
      ],
      "metadata": {
        "id": "tb2329nxFBVT"
      }
    },
    {
      "cell_type": "markdown",
      "source": [
        "# Set the root directory for processing."
      ],
      "metadata": {
        "id": "q7_3hVePGFgf"
      }
    },
    {
      "cell_type": "code",
      "execution_count": 1,
      "metadata": {
        "colab": {
          "base_uri": "https://localhost:8080/"
        },
        "id": "1lHGpocQE42g",
        "outputId": "3a2ea3bb-2240-4564-9c10-9ccb07496b92"
      },
      "outputs": [
        {
          "output_type": "stream",
          "name": "stdout",
          "text": [
            "total 16\n",
            "drwxr-xr-x 1 root root 4096 Feb  7 14:37 .\n",
            "drwxr-xr-x 1 root root 4096 Feb  9 07:11 ..\n",
            "drwxr-xr-x 4 root root 4096 Feb  7 14:36 .config\n",
            "drwxr-xr-x 1 root root 4096 Feb  7 14:38 sample_data\n"
          ]
        }
      ],
      "source": [
        "import os\n",
        "\n",
        "root_dir = '/content/'\n",
        "os.chdir(root_dir)\n",
        "\n",
        "!ls -al   "
      ]
    },
    {
      "cell_type": "markdown",
      "source": [
        "# Create a synthetic dataset."
      ],
      "metadata": {
        "id": "tYWcCLfHGjpm"
      }
    },
    {
      "cell_type": "markdown",
      "source": [
        "### Import required python modules."
      ],
      "metadata": {
        "id": "PaOoTfzKGQI1"
      }
    },
    {
      "cell_type": "code",
      "source": [
        "from sklearn.datasets import make_classification"
      ],
      "metadata": {
        "id": "iAZjduooGbQC"
      },
      "execution_count": 2,
      "outputs": []
    },
    {
      "cell_type": "markdown",
      "source": [
        "### create a synthetic dataset for binary classification problem with 1,000 examples and 20 input features."
      ],
      "metadata": {
        "id": "I7doN_1v7gXI"
      }
    },
    {
      "cell_type": "code",
      "source": [
        "seed = 7"
      ],
      "metadata": {
        "id": "puhc9TcC76W_"
      },
      "execution_count": 3,
      "outputs": []
    },
    {
      "cell_type": "code",
      "source": [
        "X, y = make_classification(n_samples=1000, n_features=20, n_informative=15, n_redundant=5, random_state=seed)\n",
        "print(X.shape, y.shape)"
      ],
      "metadata": {
        "id": "zSvCSfWTsuvM",
        "colab": {
          "base_uri": "https://localhost:8080/"
        },
        "outputId": "2880e585-cad5-4749-f6a2-fbcf7eac105c"
      },
      "execution_count": 4,
      "outputs": [
        {
          "output_type": "stream",
          "name": "stdout",
          "text": [
            "(1000, 20) (1000,)\n"
          ]
        }
      ]
    },
    {
      "cell_type": "markdown",
      "source": [
        "### Import required python modules."
      ],
      "metadata": {
        "id": "HDp3awf5wpKc"
      }
    },
    {
      "cell_type": "code",
      "source": [
        "from sklearn.model_selection import train_test_split"
      ],
      "metadata": {
        "id": "YshAOhstwzsK"
      },
      "execution_count": 5,
      "outputs": []
    },
    {
      "cell_type": "code",
      "source": [
        "test_size = 0.25"
      ],
      "metadata": {
        "id": "B1u4q3nMw4Kf"
      },
      "execution_count": 6,
      "outputs": []
    },
    {
      "cell_type": "code",
      "source": [
        "X_train, X_test, y_train, y_test = train_test_split(X, y, test_size = test_size, random_state = seed)\n",
        "\n",
        "print(X_train.shape)\n",
        "print(X_test.shape)\n",
        "print(y_train.shape)\n",
        "print(y_test.shape)"
      ],
      "metadata": {
        "colab": {
          "base_uri": "https://localhost:8080/"
        },
        "id": "SIZsl-s-wpiU",
        "outputId": "66771905-485f-486f-bc6f-d477d0b59de4"
      },
      "execution_count": 7,
      "outputs": [
        {
          "output_type": "stream",
          "name": "stdout",
          "text": [
            "(750, 20)\n",
            "(250, 20)\n",
            "(750,)\n",
            "(250,)\n"
          ]
        }
      ]
    },
    {
      "cell_type": "markdown",
      "source": [
        "# Create logistic regression model."
      ],
      "metadata": {
        "id": "m7ho3E0gzrXB"
      }
    },
    {
      "cell_type": "markdown",
      "source": [
        "### Import required python modules.\n",
        "\n",
        "See [link](https://scikit-learn.org/stable/modules/generated/sklearn.linear_model.LogisticRegression.html) for more details. "
      ],
      "metadata": {
        "id": "w0-gpYAlHSA6"
      }
    },
    {
      "cell_type": "code",
      "source": [
        "from sklearn.linear_model import LogisticRegression"
      ],
      "metadata": {
        "id": "gU3lF6WAHVLR"
      },
      "execution_count": 8,
      "outputs": []
    },
    {
      "cell_type": "markdown",
      "source": [
        "### Create logistic regression model."
      ],
      "metadata": {
        "id": "mTgWkdFLHX3u"
      }
    },
    {
      "cell_type": "code",
      "source": [
        "model = LogisticRegression(max_iter=500, random_state=16)\n",
        "model.fit(X_train, y_train)"
      ],
      "metadata": {
        "colab": {
          "base_uri": "https://localhost:8080/"
        },
        "id": "4sNgPJuJHiOb",
        "outputId": "815f1ef7-bafa-41e5-e8c2-adb6610d3e22"
      },
      "execution_count": 9,
      "outputs": [
        {
          "output_type": "execute_result",
          "data": {
            "text/plain": [
              "LogisticRegression(max_iter=500, random_state=16)"
            ]
          },
          "metadata": {},
          "execution_count": 9
        }
      ]
    },
    {
      "cell_type": "markdown",
      "source": [
        "# Evaluate the model."
      ],
      "metadata": {
        "id": "fNIKchXxxeyK"
      }
    },
    {
      "cell_type": "markdown",
      "source": [
        "### Import required python modules."
      ],
      "metadata": {
        "id": "h58d8Qruxq3a"
      }
    },
    {
      "cell_type": "code",
      "source": [
        "from sklearn import metrics\n",
        "from sklearn.metrics import classification_report"
      ],
      "metadata": {
        "id": "a8RYprVtxsKK"
      },
      "execution_count": 10,
      "outputs": []
    },
    {
      "cell_type": "markdown",
      "source": [
        "### Evaluate the model on the training dataset."
      ],
      "metadata": {
        "id": "JjU3Ba2ox7ta"
      }
    },
    {
      "cell_type": "code",
      "source": [
        "y_train_predict = model.predict(X_train)\n",
        "\n",
        "confusion_matrix = metrics.confusion_matrix(y_train, y_train_predict)\n",
        "confusion_matrix"
      ],
      "metadata": {
        "id": "2pgFVlEWxhKF",
        "colab": {
          "base_uri": "https://localhost:8080/"
        },
        "outputId": "ead723d6-40e5-4d9a-aa7c-5a827f6bd68e"
      },
      "execution_count": 11,
      "outputs": [
        {
          "output_type": "execute_result",
          "data": {
            "text/plain": [
              "array([[331,  48],\n",
              "       [ 50, 321]])"
            ]
          },
          "metadata": {},
          "execution_count": 11
        }
      ]
    },
    {
      "cell_type": "markdown",
      "source": [
        "### Evaluate the model on the test dataset."
      ],
      "metadata": {
        "id": "uBHm3N2Lxv-C"
      }
    },
    {
      "cell_type": "code",
      "source": [
        "y_test_predict = model.predict(X_test)\n",
        "\n",
        "confusion_matrix = metrics.confusion_matrix(y_test, y_test_predict)\n",
        "confusion_matrix"
      ],
      "metadata": {
        "id": "_siarfJ_xwTl",
        "colab": {
          "base_uri": "https://localhost:8080/"
        },
        "outputId": "85852452-de8a-4759-9407-bc94118d6a8e"
      },
      "execution_count": 12,
      "outputs": [
        {
          "output_type": "execute_result",
          "data": {
            "text/plain": [
              "array([[104,  18],\n",
              "       [ 18, 110]])"
            ]
          },
          "metadata": {},
          "execution_count": 12
        }
      ]
    },
    {
      "cell_type": "markdown",
      "source": [
        "### Show classification report."
      ],
      "metadata": {
        "id": "c-8Rb7HtKGNM"
      }
    },
    {
      "cell_type": "code",
      "source": [
        "target_names = ['Class-0', 'Class-1']\n",
        "print(classification_report(y_test, y_test_predict, target_names=target_names))"
      ],
      "metadata": {
        "colab": {
          "base_uri": "https://localhost:8080/"
        },
        "id": "UHh6fIgTKG2L",
        "outputId": "74234d14-8cd3-4ea6-8206-00e238b455ef"
      },
      "execution_count": 13,
      "outputs": [
        {
          "output_type": "stream",
          "name": "stdout",
          "text": [
            "              precision    recall  f1-score   support\n",
            "\n",
            "     Class-0       0.85      0.85      0.85       122\n",
            "     Class-1       0.86      0.86      0.86       128\n",
            "\n",
            "    accuracy                           0.86       250\n",
            "   macro avg       0.86      0.86      0.86       250\n",
            "weighted avg       0.86      0.86      0.86       250\n",
            "\n"
          ]
        }
      ]
    },
    {
      "cell_type": "markdown",
      "source": [
        "### Import required python modules."
      ],
      "metadata": {
        "id": "HCqVKc2xAtjG"
      }
    },
    {
      "cell_type": "code",
      "source": [
        "from sklearn.ensemble import BaggingClassifier"
      ],
      "metadata": {
        "id": "SsMrfbFjAt7E"
      },
      "execution_count": 14,
      "outputs": []
    },
    {
      "cell_type": "markdown",
      "source": [
        "### Create bagging classifier model."
      ],
      "metadata": {
        "id": "erJ6bVrzA6R-"
      }
    },
    {
      "cell_type": "code",
      "source": [
        "model = BaggingClassifier(random_state=seed)\n",
        "model.fit(X_train, y_train)"
      ],
      "metadata": {
        "colab": {
          "base_uri": "https://localhost:8080/"
        },
        "id": "afVKUY6HA6nT",
        "outputId": "601031d3-b3c5-49af-fb35-6d3d77c876d8"
      },
      "execution_count": 15,
      "outputs": [
        {
          "output_type": "execute_result",
          "data": {
            "text/plain": [
              "BaggingClassifier(random_state=7)"
            ]
          },
          "metadata": {},
          "execution_count": 15
        }
      ]
    },
    {
      "cell_type": "markdown",
      "source": [
        "# Evaluate the model."
      ],
      "metadata": {
        "id": "aSwWQqoKBaCM"
      }
    },
    {
      "cell_type": "markdown",
      "source": [
        "### Evaluate the model on the training dataset."
      ],
      "metadata": {
        "id": "S2BP5u2dBaCP"
      }
    },
    {
      "cell_type": "code",
      "source": [
        "y_train_predict = model.predict(X_train)\n",
        "\n",
        "confusion_matrix = metrics.confusion_matrix(y_train, y_train_predict)\n",
        "confusion_matrix"
      ],
      "metadata": {
        "colab": {
          "base_uri": "https://localhost:8080/"
        },
        "outputId": "9e428c62-a21d-4e10-8ce4-9e6873cca823",
        "id": "52vBNOiZBaCQ"
      },
      "execution_count": 16,
      "outputs": [
        {
          "output_type": "execute_result",
          "data": {
            "text/plain": [
              "array([[378,   1],\n",
              "       [  3, 368]])"
            ]
          },
          "metadata": {},
          "execution_count": 16
        }
      ]
    },
    {
      "cell_type": "markdown",
      "source": [
        "### Evaluate the model on the test dataset."
      ],
      "metadata": {
        "id": "eltUQhlFBaCS"
      }
    },
    {
      "cell_type": "code",
      "source": [
        "y_test_predict = model.predict(X_test)\n",
        "\n",
        "confusion_matrix = metrics.confusion_matrix(y_test, y_test_predict)\n",
        "confusion_matrix"
      ],
      "metadata": {
        "colab": {
          "base_uri": "https://localhost:8080/"
        },
        "outputId": "21ba2622-42e2-4dee-9722-6cfe7f4e523b",
        "id": "g_qWH5LwBaCT"
      },
      "execution_count": 17,
      "outputs": [
        {
          "output_type": "execute_result",
          "data": {
            "text/plain": [
              "array([[113,   9],\n",
              "       [ 19, 109]])"
            ]
          },
          "metadata": {},
          "execution_count": 17
        }
      ]
    },
    {
      "cell_type": "markdown",
      "source": [
        "### Show classification report."
      ],
      "metadata": {
        "id": "pmSauziABaCU"
      }
    },
    {
      "cell_type": "code",
      "source": [
        "target_names = ['Class-0', 'Class-1']\n",
        "print(classification_report(y_test, y_test_predict, target_names=target_names))"
      ],
      "metadata": {
        "colab": {
          "base_uri": "https://localhost:8080/"
        },
        "outputId": "10d778c3-03c7-4787-b71d-ebacb26300f5",
        "id": "RsghIcllBaCU"
      },
      "execution_count": 18,
      "outputs": [
        {
          "output_type": "stream",
          "name": "stdout",
          "text": [
            "              precision    recall  f1-score   support\n",
            "\n",
            "     Class-0       0.86      0.93      0.89       122\n",
            "     Class-1       0.92      0.85      0.89       128\n",
            "\n",
            "    accuracy                           0.89       250\n",
            "   macro avg       0.89      0.89      0.89       250\n",
            "weighted avg       0.89      0.89      0.89       250\n",
            "\n"
          ]
        }
      ]
    }
  ]
}