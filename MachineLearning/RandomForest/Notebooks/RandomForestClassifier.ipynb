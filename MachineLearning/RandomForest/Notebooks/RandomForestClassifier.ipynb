{
  "nbformat": 4,
  "nbformat_minor": 0,
  "metadata": {
    "colab": {
      "provenance": [],
      "authorship_tag": "ABX9TyP1JlKSvqs509aInTy8YloN",
      "include_colab_link": true
    },
    "kernelspec": {
      "name": "python3",
      "display_name": "Python 3"
    },
    "language_info": {
      "name": "python"
    },
    "gpuClass": "standard"
  },
  "cells": [
    {
      "cell_type": "markdown",
      "metadata": {
        "id": "view-in-github",
        "colab_type": "text"
      },
      "source": [
        "<a href=\"https://colab.research.google.com/github/look4pritam/ArtificialIntelligence/blob/master/MachineLearning/RandomForest/Notebooks/RandomForestClassifier.ipynb\" target=\"_parent\"><img src=\"https://colab.research.google.com/assets/colab-badge.svg\" alt=\"Open In Colab\"/></a>"
      ]
    },
    {
      "cell_type": "markdown",
      "source": [
        "# Random Forest Classifier\n",
        "\n",
        "In this example, we will learn to classify a dataset using a [Random Forest Classifier](https://en.wikipedia.org/wiki/Random_forest).\n",
        "\n",
        "We will use an iris dataset for classification.\n",
        "\n",
        "See [link](https://archive.ics.uci.edu/ml/datasets/iris) for more details."
      ],
      "metadata": {
        "id": "tb2329nxFBVT"
      }
    },
    {
      "cell_type": "markdown",
      "source": [
        "# Set the root directory for processing."
      ],
      "metadata": {
        "id": "q7_3hVePGFgf"
      }
    },
    {
      "cell_type": "code",
      "execution_count": 1,
      "metadata": {
        "colab": {
          "base_uri": "https://localhost:8080/"
        },
        "id": "1lHGpocQE42g",
        "outputId": "e773b998-5979-4830-9e36-be89cfccbe8b"
      },
      "outputs": [
        {
          "output_type": "stream",
          "name": "stdout",
          "text": [
            "total 16\n",
            "drwxr-xr-x 1 root root 4096 Feb  6 18:44 .\n",
            "drwxr-xr-x 1 root root 4096 Feb  8 09:04 ..\n",
            "drwxr-xr-x 4 root root 4096 Feb  6 18:43 .config\n",
            "drwxr-xr-x 1 root root 4096 Feb  6 18:44 sample_data\n"
          ]
        }
      ],
      "source": [
        "import os\n",
        "\n",
        "root_dir = '/content/'\n",
        "os.chdir(root_dir)\n",
        "\n",
        "!ls -al   "
      ]
    },
    {
      "cell_type": "markdown",
      "source": [
        "# Import required python modules."
      ],
      "metadata": {
        "id": "PaOoTfzKGQI1"
      }
    },
    {
      "cell_type": "code",
      "source": [
        "import numpy as np\n",
        "np.random.seed(7)"
      ],
      "metadata": {
        "id": "uXNwRmU_GYX1"
      },
      "execution_count": 2,
      "outputs": []
    },
    {
      "cell_type": "code",
      "source": [
        "import pandas as pd"
      ],
      "metadata": {
        "id": "E3Mx8g5gGRWO"
      },
      "execution_count": 3,
      "outputs": []
    },
    {
      "cell_type": "code",
      "source": [
        "from sklearn import datasets"
      ],
      "metadata": {
        "id": "iAZjduooGbQC"
      },
      "execution_count": 4,
      "outputs": []
    },
    {
      "cell_type": "markdown",
      "source": [
        "# Load an iris dataset."
      ],
      "metadata": {
        "id": "tYWcCLfHGjpm"
      }
    },
    {
      "cell_type": "markdown",
      "source": [
        "### Define feature names."
      ],
      "metadata": {
        "id": "uxFsiUtAGpsg"
      }
    },
    {
      "cell_type": "code",
      "source": [
        "feature_names = ['Sepal Length', 'Sepal Width', 'Petal Length', 'Petal Width']"
      ],
      "metadata": {
        "id": "dsm8MKP9GtXw"
      },
      "execution_count": 5,
      "outputs": []
    },
    {
      "cell_type": "markdown",
      "source": [
        "### Load an iris dataset from sklearn datasets."
      ],
      "metadata": {
        "id": "Cu962WSjG1Qf"
      }
    },
    {
      "cell_type": "code",
      "source": [
        "iris_dataset = datasets.load_iris()"
      ],
      "metadata": {
        "id": "B9dAsIZRGiMB"
      },
      "execution_count": 6,
      "outputs": []
    },
    {
      "cell_type": "markdown",
      "source": [
        "### Define input variables (X) and an output variable (y)."
      ],
      "metadata": {
        "id": "aVa1O25KHFPw"
      }
    },
    {
      "cell_type": "code",
      "source": [
        "features = pd.DataFrame(iris_dataset.data, columns = feature_names)\n",
        "labels = iris_dataset.target"
      ],
      "metadata": {
        "id": "fuPsnHnIG-xE"
      },
      "execution_count": 7,
      "outputs": []
    },
    {
      "cell_type": "markdown",
      "source": [
        "# Create training and testing datasets."
      ],
      "metadata": {
        "id": "wYLiatYwyXa3"
      }
    },
    {
      "cell_type": "code",
      "source": [
        "from sklearn.model_selection import train_test_split\n",
        "\n",
        "train_features, test_features, train_labels, test_labels = train_test_split(features, labels, test_size = 0.2, random_state = 7)"
      ],
      "metadata": {
        "id": "sBiyyZxbyX3P"
      },
      "execution_count": 8,
      "outputs": []
    },
    {
      "cell_type": "markdown",
      "source": [
        "# Import required python modules."
      ],
      "metadata": {
        "id": "w-8m2Lb41X_3"
      }
    },
    {
      "cell_type": "code",
      "source": [
        "from sklearn.ensemble import RandomForestClassifier"
      ],
      "metadata": {
        "id": "Rg-VPPpa1YV5"
      },
      "execution_count": 9,
      "outputs": []
    },
    {
      "cell_type": "markdown",
      "source": [
        "# Create a random forest based classfier."
      ],
      "metadata": {
        "id": "qTqsQ9-C1E3Y"
      }
    },
    {
      "cell_type": "code",
      "source": [
        "forest_model = RandomForestClassifier(n_estimators=300, max_features=None, max_depth=3, random_state=7)\n",
        "forest_model.fit(train_features,train_labels)"
      ],
      "metadata": {
        "colab": {
          "base_uri": "https://localhost:8080/"
        },
        "id": "AdQa6bJe1KKK",
        "outputId": "330fb717-586c-4857-e70a-a46c33af9fc6"
      },
      "execution_count": 10,
      "outputs": [
        {
          "output_type": "execute_result",
          "data": {
            "text/plain": [
              "RandomForestClassifier(max_depth=3, max_features=None, n_estimators=300,\n",
              "                       random_state=7)"
            ]
          },
          "metadata": {},
          "execution_count": 10
        }
      ]
    },
    {
      "cell_type": "markdown",
      "source": [
        "# Evaluate accuracy of the classfier."
      ],
      "metadata": {
        "id": "1Xf-IiuV1Ms4"
      }
    },
    {
      "cell_type": "code",
      "source": [
        "from sklearn import metrics\n",
        "\n",
        "predictions = forest_model.predict(test_features)\n",
        "print('Accuracy - ', metrics.accuracy_score(test_labels, predictions))"
      ],
      "metadata": {
        "colab": {
          "base_uri": "https://localhost:8080/"
        },
        "id": "_QXAd2zR1O_s",
        "outputId": "9087e96b-14b9-48c6-b320-7b8eaf74d895"
      },
      "execution_count": 11,
      "outputs": [
        {
          "output_type": "stream",
          "name": "stdout",
          "text": [
            "Accuracy -  0.9\n"
          ]
        }
      ]
    }
  ]
}