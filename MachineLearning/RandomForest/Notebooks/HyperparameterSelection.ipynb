{
  "nbformat": 4,
  "nbformat_minor": 0,
  "metadata": {
    "colab": {
      "provenance": [],
      "authorship_tag": "ABX9TyPmNogA0kSnbXOraBsneEXj",
      "include_colab_link": true
    },
    "kernelspec": {
      "name": "python3",
      "display_name": "Python 3"
    },
    "language_info": {
      "name": "python"
    },
    "gpuClass": "standard"
  },
  "cells": [
    {
      "cell_type": "markdown",
      "metadata": {
        "id": "view-in-github",
        "colab_type": "text"
      },
      "source": [
        "<a href=\"https://colab.research.google.com/github/look4pritam/ArtificialIntelligence/blob/master/MachineLearning/RandomForest/Notebooks/HyperparameterSelection.ipynb\" target=\"_parent\"><img src=\"https://colab.research.google.com/assets/colab-badge.svg\" alt=\"Open In Colab\"/></a>"
      ]
    },
    {
      "cell_type": "markdown",
      "source": [
        "# Random Forest Classifier\n",
        "\n",
        "In this example, we will learn to classify a dataset using a [Random Forest Classifier](https://en.wikipedia.org/wiki/Random_forest).\n",
        "\n",
        "We will use an iris dataset for classification.\n",
        "\n",
        "See [link](https://archive.ics.uci.edu/ml/datasets/iris) for more details."
      ],
      "metadata": {
        "id": "tb2329nxFBVT"
      }
    },
    {
      "cell_type": "markdown",
      "source": [
        "# Set the root directory for processing."
      ],
      "metadata": {
        "id": "q7_3hVePGFgf"
      }
    },
    {
      "cell_type": "code",
      "execution_count": 1,
      "metadata": {
        "colab": {
          "base_uri": "https://localhost:8080/"
        },
        "id": "1lHGpocQE42g",
        "outputId": "ac91ef8c-5328-4833-c7b5-1502b2c636cc"
      },
      "outputs": [
        {
          "output_type": "stream",
          "name": "stdout",
          "text": [
            "total 16\n",
            "drwxr-xr-x 1 root root 4096 Feb  6 18:44 .\n",
            "drwxr-xr-x 1 root root 4096 Feb  8 09:06 ..\n",
            "drwxr-xr-x 4 root root 4096 Feb  6 18:43 .config\n",
            "drwxr-xr-x 1 root root 4096 Feb  6 18:44 sample_data\n"
          ]
        }
      ],
      "source": [
        "import os\n",
        "\n",
        "root_dir = '/content/'\n",
        "os.chdir(root_dir)\n",
        "\n",
        "!ls -al   "
      ]
    },
    {
      "cell_type": "markdown",
      "source": [
        "# Import required python modules."
      ],
      "metadata": {
        "id": "PaOoTfzKGQI1"
      }
    },
    {
      "cell_type": "code",
      "source": [
        "import numpy as np\n",
        "np.random.seed(7)"
      ],
      "metadata": {
        "id": "uXNwRmU_GYX1"
      },
      "execution_count": 2,
      "outputs": []
    },
    {
      "cell_type": "code",
      "source": [
        "import pandas as pd"
      ],
      "metadata": {
        "id": "E3Mx8g5gGRWO"
      },
      "execution_count": 3,
      "outputs": []
    },
    {
      "cell_type": "code",
      "source": [
        "from sklearn import datasets"
      ],
      "metadata": {
        "id": "iAZjduooGbQC"
      },
      "execution_count": 4,
      "outputs": []
    },
    {
      "cell_type": "markdown",
      "source": [
        "# Load an iris dataset."
      ],
      "metadata": {
        "id": "tYWcCLfHGjpm"
      }
    },
    {
      "cell_type": "markdown",
      "source": [
        "### Define feature names."
      ],
      "metadata": {
        "id": "uxFsiUtAGpsg"
      }
    },
    {
      "cell_type": "code",
      "source": [
        "feature_names = ['Sepal Length', 'Sepal Width', 'Petal Length', 'Petal Width']"
      ],
      "metadata": {
        "id": "dsm8MKP9GtXw"
      },
      "execution_count": 5,
      "outputs": []
    },
    {
      "cell_type": "markdown",
      "source": [
        "### Load an iris dataset from sklearn datasets."
      ],
      "metadata": {
        "id": "Cu962WSjG1Qf"
      }
    },
    {
      "cell_type": "code",
      "source": [
        "iris_dataset = datasets.load_iris()"
      ],
      "metadata": {
        "id": "B9dAsIZRGiMB"
      },
      "execution_count": 6,
      "outputs": []
    },
    {
      "cell_type": "markdown",
      "source": [
        "### Define input variables (X) and an output variable (y)."
      ],
      "metadata": {
        "id": "aVa1O25KHFPw"
      }
    },
    {
      "cell_type": "code",
      "source": [
        "features = pd.DataFrame(iris_dataset.data, columns = feature_names)\n",
        "labels = iris_dataset.target"
      ],
      "metadata": {
        "id": "fuPsnHnIG-xE"
      },
      "execution_count": 7,
      "outputs": []
    },
    {
      "cell_type": "markdown",
      "source": [
        "# Create training and testing datasets."
      ],
      "metadata": {
        "id": "wYLiatYwyXa3"
      }
    },
    {
      "cell_type": "code",
      "source": [
        "from sklearn.model_selection import train_test_split\n",
        "\n",
        "train_features, test_features, train_labels, test_labels = train_test_split(features, labels, test_size = 0.2, random_state = 7)"
      ],
      "metadata": {
        "id": "sBiyyZxbyX3P"
      },
      "execution_count": 8,
      "outputs": []
    },
    {
      "cell_type": "markdown",
      "source": [
        "# Select hyper-parameters and their corrosponding range."
      ],
      "metadata": {
        "id": "c6AYlRAn6__Q"
      }
    },
    {
      "cell_type": "markdown",
      "source": [
        "### Number of trees in the random forest."
      ],
      "metadata": {
        "id": "HIajFQ0X7Tk4"
      }
    },
    {
      "cell_type": "code",
      "source": [
        "n_estimators = [5, 20, 50, 100] "
      ],
      "metadata": {
        "id": "S8IBk7wA7XRp"
      },
      "execution_count": 9,
      "outputs": []
    },
    {
      "cell_type": "markdown",
      "source": [
        "### Number of features considred at every split."
      ],
      "metadata": {
        "id": "U1h2tMqH7cPI"
      }
    },
    {
      "cell_type": "code",
      "source": [
        "max_features = ['auto', 'sqrt'] "
      ],
      "metadata": {
        "id": "YZePzUSw7ddb"
      },
      "execution_count": 10,
      "outputs": []
    },
    {
      "cell_type": "markdown",
      "source": [
        "### Maximum number of levels allowed in each decision tree."
      ],
      "metadata": {
        "id": "Y-YQKFd-9kWs"
      }
    },
    {
      "cell_type": "code",
      "source": [
        "max_depth = [int(x) for x in np.linspace(10, 120, num = 12)] "
      ],
      "metadata": {
        "id": "MuRyaD4O9krY"
      },
      "execution_count": 11,
      "outputs": []
    },
    {
      "cell_type": "markdown",
      "source": [
        "### Minimum sample number to split a node."
      ],
      "metadata": {
        "id": "1V1Dk3E29tjP"
      }
    },
    {
      "cell_type": "code",
      "source": [
        "min_samples_split = [2, 6, 10]"
      ],
      "metadata": {
        "id": "NNrfAc4t9t6n"
      },
      "execution_count": 12,
      "outputs": []
    },
    {
      "cell_type": "markdown",
      "source": [
        "### Minimum sample number that can be stored in a leaf node."
      ],
      "metadata": {
        "id": "E9m0c-of94Ze"
      }
    },
    {
      "cell_type": "code",
      "source": [
        "min_samples_leaf = [1, 3, 4] "
      ],
      "metadata": {
        "id": "wYUlIV-094vA"
      },
      "execution_count": 13,
      "outputs": []
    },
    {
      "cell_type": "markdown",
      "source": [
        "### Method used to sample data points."
      ],
      "metadata": {
        "id": "EJCKcDEN-AK4"
      }
    },
    {
      "cell_type": "code",
      "source": [
        "bootstrap = [True, False] "
      ],
      "metadata": {
        "id": "gvvbvsuX-Ag2"
      },
      "execution_count": 14,
      "outputs": []
    },
    {
      "cell_type": "code",
      "source": [
        "random_grid = {\n",
        "'n_estimators': n_estimators,\n",
        " 'max_features': max_features,\n",
        "'max_depth': max_depth,\n",
        "'min_samples_split': min_samples_split,\n",
        "'min_samples_leaf': min_samples_leaf,\n",
        "'bootstrap': bootstrap\n",
        " }"
      ],
      "metadata": {
        "id": "1x2Pbe7b61PY"
      },
      "execution_count": 15,
      "outputs": []
    },
    {
      "cell_type": "markdown",
      "source": [
        "# Import required python modules."
      ],
      "metadata": {
        "id": "w-8m2Lb41X_3"
      }
    },
    {
      "cell_type": "code",
      "source": [
        "from sklearn.ensemble import RandomForestClassifier"
      ],
      "metadata": {
        "id": "Rg-VPPpa1YV5"
      },
      "execution_count": 16,
      "outputs": []
    },
    {
      "cell_type": "markdown",
      "source": [
        "# Create a random forest based classfier."
      ],
      "metadata": {
        "id": "qTqsQ9-C1E3Y"
      }
    },
    {
      "cell_type": "code",
      "source": [
        "model = RandomForestClassifier(random_state=7)"
      ],
      "metadata": {
        "id": "AdQa6bJe1KKK"
      },
      "execution_count": 17,
      "outputs": []
    },
    {
      "cell_type": "markdown",
      "source": [
        "# Create a randomized search for the classifier."
      ],
      "metadata": {
        "id": "gQWp-Ui5-ic_"
      }
    },
    {
      "cell_type": "code",
      "source": [
        "from sklearn.model_selection import RandomizedSearchCV\n",
        "\n",
        "random_model = RandomizedSearchCV(estimator=model, \n",
        "                                  param_distributions=random_grid,\n",
        "                                  n_iter = 100, \n",
        "                                  cv=5, \n",
        "                                  verbose=2, \n",
        "                                  random_state=7, \n",
        "                                  n_jobs=-1)\n",
        "\n",
        "random_model.fit(train_features,train_labels)"
      ],
      "metadata": {
        "colab": {
          "base_uri": "https://localhost:8080/"
        },
        "id": "yXnp3S757vx4",
        "outputId": "357f6d6b-e50b-4115-f366-ff862291e701"
      },
      "execution_count": 18,
      "outputs": [
        {
          "output_type": "stream",
          "name": "stdout",
          "text": [
            "Fitting 5 folds for each of 100 candidates, totalling 500 fits\n"
          ]
        },
        {
          "output_type": "execute_result",
          "data": {
            "text/plain": [
              "RandomizedSearchCV(cv=5, estimator=RandomForestClassifier(random_state=7),\n",
              "                   n_iter=100, n_jobs=-1,\n",
              "                   param_distributions={'bootstrap': [True, False],\n",
              "                                        'max_depth': [10, 20, 30, 40, 50, 60,\n",
              "                                                      70, 80, 90, 100, 110,\n",
              "                                                      120],\n",
              "                                        'max_features': ['auto', 'sqrt'],\n",
              "                                        'min_samples_leaf': [1, 3, 4],\n",
              "                                        'min_samples_split': [2, 6, 10],\n",
              "                                        'n_estimators': [5, 20, 50, 100]},\n",
              "                   random_state=7, verbose=2)"
            ]
          },
          "metadata": {},
          "execution_count": 18
        }
      ]
    },
    {
      "cell_type": "markdown",
      "source": [
        "# Show best parameters for the classifier."
      ],
      "metadata": {
        "id": "J-RTu4zg-vHX"
      }
    },
    {
      "cell_type": "code",
      "source": [
        "print('Random grid - ', random_grid)\n",
        "print('Best parameters - ', random_model.best_params_)"
      ],
      "metadata": {
        "colab": {
          "base_uri": "https://localhost:8080/"
        },
        "id": "8tKT-ET18JpQ",
        "outputId": "cfc92bd8-1df2-404e-ef05-15d507bef920"
      },
      "execution_count": 19,
      "outputs": [
        {
          "output_type": "stream",
          "name": "stdout",
          "text": [
            "Random grid -  {'n_estimators': [5, 20, 50, 100], 'max_features': ['auto', 'sqrt'], 'max_depth': [10, 20, 30, 40, 50, 60, 70, 80, 90, 100, 110, 120], 'min_samples_split': [2, 6, 10], 'min_samples_leaf': [1, 3, 4], 'bootstrap': [True, False]}\n",
            "Best parameters -  {'n_estimators': 20, 'min_samples_split': 10, 'min_samples_leaf': 1, 'max_features': 'sqrt', 'max_depth': 90, 'bootstrap': True}\n"
          ]
        }
      ]
    },
    {
      "cell_type": "markdown",
      "source": [
        "# Create a random forest classifier using the best parameters."
      ],
      "metadata": {
        "id": "yxREGZPT-1-2"
      }
    },
    {
      "cell_type": "code",
      "source": [
        "model = RandomForestClassifier(n_estimators = 20, min_samples_split = 10, min_samples_leaf= 1, max_features = 'auto', max_depth= 80, bootstrap=True, random_state=7) \n",
        "model.fit(train_features,train_labels) "
      ],
      "metadata": {
        "colab": {
          "base_uri": "https://localhost:8080/"
        },
        "id": "jhOg8YSj8cr3",
        "outputId": "ad759d13-42f6-43d2-d9cf-43eb3790ff7a"
      },
      "execution_count": 20,
      "outputs": [
        {
          "output_type": "execute_result",
          "data": {
            "text/plain": [
              "RandomForestClassifier(max_depth=80, min_samples_split=10, n_estimators=20,\n",
              "                       random_state=7)"
            ]
          },
          "metadata": {},
          "execution_count": 20
        }
      ]
    },
    {
      "cell_type": "markdown",
      "source": [
        "# Evaluate accuracy of the classfier."
      ],
      "metadata": {
        "id": "1Xf-IiuV1Ms4"
      }
    },
    {
      "cell_type": "code",
      "source": [
        "from sklearn import metrics\n",
        "\n",
        "predictions = model.predict(test_features)\n",
        "print('Accuracy - ', metrics.accuracy_score(test_labels, predictions))"
      ],
      "metadata": {
        "colab": {
          "base_uri": "https://localhost:8080/"
        },
        "id": "_QXAd2zR1O_s",
        "outputId": "335b5822-720e-4305-b847-339cc9984345"
      },
      "execution_count": 21,
      "outputs": [
        {
          "output_type": "stream",
          "name": "stdout",
          "text": [
            "Accuracy -  0.9\n"
          ]
        }
      ]
    }
  ]
}