{
  "nbformat": 4,
  "nbformat_minor": 0,
  "metadata": {
    "colab": {
      "provenance": [],
      "authorship_tag": "ABX9TyNzKfu4xcPgYiQ8fFIFDXp3",
      "include_colab_link": true
    },
    "kernelspec": {
      "name": "python3",
      "display_name": "Python 3"
    },
    "language_info": {
      "name": "python"
    },
    "gpuClass": "standard"
  },
  "cells": [
    {
      "cell_type": "markdown",
      "metadata": {
        "id": "view-in-github",
        "colab_type": "text"
      },
      "source": [
        "<a href=\"https://colab.research.google.com/github/look4pritam/ArtificialIntelligence/blob/master/MachineLearning/LogisticRegression/Notebooks/LogisticRegression.ipynb\" target=\"_parent\"><img src=\"https://colab.research.google.com/assets/colab-badge.svg\" alt=\"Open In Colab\"/></a>"
      ]
    },
    {
      "cell_type": "markdown",
      "source": [
        "# Logistic Regression\n",
        "\n",
        "In this example, we will use logistic regression to predict diabetes. \n",
        "\n",
        "We will use Pima Indian Diabetes dataset for classification.\n",
        "\n",
        "See [link](https://www.kaggle.com/datasets/uciml/pima-indians-diabetes-database) for more details."
      ],
      "metadata": {
        "id": "tb2329nxFBVT"
      }
    },
    {
      "cell_type": "markdown",
      "source": [
        "# Set the root directory for processing."
      ],
      "metadata": {
        "id": "q7_3hVePGFgf"
      }
    },
    {
      "cell_type": "code",
      "execution_count": 1,
      "metadata": {
        "colab": {
          "base_uri": "https://localhost:8080/"
        },
        "id": "1lHGpocQE42g",
        "outputId": "bcd44d8a-8471-4e86-9b09-9eec3217736c"
      },
      "outputs": [
        {
          "output_type": "stream",
          "name": "stdout",
          "text": [
            "total 20\n",
            "drwxr-xr-x 1 root root 4096 Feb  3 07:32 .\n",
            "drwxr-xr-x 1 root root 4096 Feb  3 07:31 ..\n",
            "drwxr-xr-x 4 root root 4096 Feb  1 14:32 .config\n",
            "-rw-r--r-- 1 root root   67 Feb  3 07:32 kaggle.json\n",
            "drwxr-xr-x 1 root root 4096 Feb  1 14:33 sample_data\n"
          ]
        }
      ],
      "source": [
        "import os\n",
        "\n",
        "root_dir = '/content/'\n",
        "os.chdir(root_dir)\n",
        "\n",
        "!ls -al   "
      ]
    },
    {
      "cell_type": "markdown",
      "source": [
        "# Set kaggle API token."
      ],
      "metadata": {
        "id": "iHeJnKlJC4eY"
      }
    },
    {
      "cell_type": "markdown",
      "source": [
        "### Create Kaggle API token. Upload the token 'kaggle.json' at '/content/' directory."
      ],
      "metadata": {
        "id": "o5ditTGPL4Sa"
      }
    },
    {
      "cell_type": "code",
      "source": [
        "os.environ['KAGGLE_CONFIG_DIR'] = root_dir"
      ],
      "metadata": {
        "id": "qLSzLz3fDASY"
      },
      "execution_count": 2,
      "outputs": []
    },
    {
      "cell_type": "code",
      "source": [
        "!chmod 600 /content/kaggle.json"
      ],
      "metadata": {
        "id": "6kAK7E5FDCsP"
      },
      "execution_count": 3,
      "outputs": []
    },
    {
      "cell_type": "markdown",
      "source": [
        "# Download kaggle dataset for further processing."
      ],
      "metadata": {
        "id": "HTC2uRyZ-dVj"
      }
    },
    {
      "cell_type": "code",
      "source": [
        "!kaggle datasets download -d uciml/pima-indians-diabetes-database"
      ],
      "metadata": {
        "colab": {
          "base_uri": "https://localhost:8080/"
        },
        "id": "9S14PZdf-k5j",
        "outputId": "b7f2d705-7b65-4e66-bd55-2c3603a43887"
      },
      "execution_count": 4,
      "outputs": [
        {
          "output_type": "stream",
          "name": "stdout",
          "text": [
            "Downloading pima-indians-diabetes-database.zip to /content\n",
            "\r  0% 0.00/8.91k [00:00<?, ?B/s]\n",
            "\r100% 8.91k/8.91k [00:00<00:00, 6.97MB/s]\n"
          ]
        }
      ]
    },
    {
      "cell_type": "code",
      "source": [
        "!ls -al"
      ],
      "metadata": {
        "colab": {
          "base_uri": "https://localhost:8080/"
        },
        "id": "2TWQkH_9GpCu",
        "outputId": "8004bfe7-99d2-4e0a-a1e6-5c9d5a767be2"
      },
      "execution_count": 5,
      "outputs": [
        {
          "output_type": "stream",
          "name": "stdout",
          "text": [
            "total 32\n",
            "drwxr-xr-x 1 root root 4096 Feb  3 07:32 .\n",
            "drwxr-xr-x 1 root root 4096 Feb  3 07:31 ..\n",
            "drwxr-xr-x 4 root root 4096 Feb  1 14:32 .config\n",
            "-rw------- 1 root root   67 Feb  3 07:32 kaggle.json\n",
            "-rw-r--r-- 1 root root 9128 Feb  3 07:32 pima-indians-diabetes-database.zip\n",
            "drwxr-xr-x 1 root root 4096 Feb  1 14:33 sample_data\n"
          ]
        }
      ]
    },
    {
      "cell_type": "code",
      "source": [
        "!unzip pima-indians-diabetes-database.zip"
      ],
      "metadata": {
        "colab": {
          "base_uri": "https://localhost:8080/"
        },
        "id": "aVdGR2LgGsk9",
        "outputId": "8bffaede-f414-43d5-c94a-0ff685e5b24f"
      },
      "execution_count": 6,
      "outputs": [
        {
          "output_type": "stream",
          "name": "stdout",
          "text": [
            "Archive:  pima-indians-diabetes-database.zip\n",
            "  inflating: diabetes.csv            \n"
          ]
        }
      ]
    },
    {
      "cell_type": "code",
      "source": [
        "!ls -al"
      ],
      "metadata": {
        "colab": {
          "base_uri": "https://localhost:8080/"
        },
        "id": "9IRRd-UbAfXZ",
        "outputId": "8bab6f85-24a2-48a5-f53a-82847c7cf9c3"
      },
      "execution_count": 7,
      "outputs": [
        {
          "output_type": "stream",
          "name": "stdout",
          "text": [
            "total 56\n",
            "drwxr-xr-x 1 root root  4096 Feb  3 07:32 .\n",
            "drwxr-xr-x 1 root root  4096 Feb  3 07:31 ..\n",
            "drwxr-xr-x 4 root root  4096 Feb  1 14:32 .config\n",
            "-rw-r--r-- 1 root root 23873 Sep 19  2019 diabetes.csv\n",
            "-rw------- 1 root root    67 Feb  3 07:32 kaggle.json\n",
            "-rw-r--r-- 1 root root  9128 Feb  3 07:32 pima-indians-diabetes-database.zip\n",
            "drwxr-xr-x 1 root root  4096 Feb  1 14:33 sample_data\n"
          ]
        }
      ]
    },
    {
      "cell_type": "markdown",
      "source": [
        "# Load Pima Indian Diabetes dataset."
      ],
      "metadata": {
        "id": "tYWcCLfHGjpm"
      }
    },
    {
      "cell_type": "markdown",
      "source": [
        "### Import required python modules."
      ],
      "metadata": {
        "id": "PaOoTfzKGQI1"
      }
    },
    {
      "cell_type": "code",
      "source": [
        "import pandas as pd"
      ],
      "metadata": {
        "id": "iAZjduooGbQC"
      },
      "execution_count": 8,
      "outputs": []
    },
    {
      "cell_type": "code",
      "source": [
        "column_names = ['pregnant', 'glucose', 'bp', 'skin', 'insulin', 'bmi', 'pedigree', 'age', 'label']"
      ],
      "metadata": {
        "id": "zSvCSfWTsuvM"
      },
      "execution_count": 9,
      "outputs": []
    },
    {
      "cell_type": "code",
      "source": [
        "pima_dataset = pd.read_csv('diabetes.csv', header=None, names=column_names)\n",
        "pima_dataset = pima_dataset[1:]"
      ],
      "metadata": {
        "id": "V5iB_xp3K_Ti"
      },
      "execution_count": 10,
      "outputs": []
    },
    {
      "cell_type": "code",
      "source": [
        "pima_dataset.head()"
      ],
      "metadata": {
        "colab": {
          "base_uri": "https://localhost:8080/",
          "height": 206
        },
        "id": "bP-BqyLstacU",
        "outputId": "d6f0b1d3-95f2-4c20-e473-6049fe5ac103"
      },
      "execution_count": 11,
      "outputs": [
        {
          "output_type": "execute_result",
          "data": {
            "text/plain": [
              "  pregnant glucose  bp skin insulin   bmi pedigree age label\n",
              "1        6     148  72   35       0  33.6    0.627  50     1\n",
              "2        1      85  66   29       0  26.6    0.351  31     0\n",
              "3        8     183  64    0       0  23.3    0.672  32     1\n",
              "4        1      89  66   23      94  28.1    0.167  21     0\n",
              "5        0     137  40   35     168  43.1    2.288  33     1"
            ],
            "text/html": [
              "\n",
              "  <div id=\"df-19179fdf-790d-4e39-b2d8-3473b94d4d7b\">\n",
              "    <div class=\"colab-df-container\">\n",
              "      <div>\n",
              "<style scoped>\n",
              "    .dataframe tbody tr th:only-of-type {\n",
              "        vertical-align: middle;\n",
              "    }\n",
              "\n",
              "    .dataframe tbody tr th {\n",
              "        vertical-align: top;\n",
              "    }\n",
              "\n",
              "    .dataframe thead th {\n",
              "        text-align: right;\n",
              "    }\n",
              "</style>\n",
              "<table border=\"1\" class=\"dataframe\">\n",
              "  <thead>\n",
              "    <tr style=\"text-align: right;\">\n",
              "      <th></th>\n",
              "      <th>pregnant</th>\n",
              "      <th>glucose</th>\n",
              "      <th>bp</th>\n",
              "      <th>skin</th>\n",
              "      <th>insulin</th>\n",
              "      <th>bmi</th>\n",
              "      <th>pedigree</th>\n",
              "      <th>age</th>\n",
              "      <th>label</th>\n",
              "    </tr>\n",
              "  </thead>\n",
              "  <tbody>\n",
              "    <tr>\n",
              "      <th>1</th>\n",
              "      <td>6</td>\n",
              "      <td>148</td>\n",
              "      <td>72</td>\n",
              "      <td>35</td>\n",
              "      <td>0</td>\n",
              "      <td>33.6</td>\n",
              "      <td>0.627</td>\n",
              "      <td>50</td>\n",
              "      <td>1</td>\n",
              "    </tr>\n",
              "    <tr>\n",
              "      <th>2</th>\n",
              "      <td>1</td>\n",
              "      <td>85</td>\n",
              "      <td>66</td>\n",
              "      <td>29</td>\n",
              "      <td>0</td>\n",
              "      <td>26.6</td>\n",
              "      <td>0.351</td>\n",
              "      <td>31</td>\n",
              "      <td>0</td>\n",
              "    </tr>\n",
              "    <tr>\n",
              "      <th>3</th>\n",
              "      <td>8</td>\n",
              "      <td>183</td>\n",
              "      <td>64</td>\n",
              "      <td>0</td>\n",
              "      <td>0</td>\n",
              "      <td>23.3</td>\n",
              "      <td>0.672</td>\n",
              "      <td>32</td>\n",
              "      <td>1</td>\n",
              "    </tr>\n",
              "    <tr>\n",
              "      <th>4</th>\n",
              "      <td>1</td>\n",
              "      <td>89</td>\n",
              "      <td>66</td>\n",
              "      <td>23</td>\n",
              "      <td>94</td>\n",
              "      <td>28.1</td>\n",
              "      <td>0.167</td>\n",
              "      <td>21</td>\n",
              "      <td>0</td>\n",
              "    </tr>\n",
              "    <tr>\n",
              "      <th>5</th>\n",
              "      <td>0</td>\n",
              "      <td>137</td>\n",
              "      <td>40</td>\n",
              "      <td>35</td>\n",
              "      <td>168</td>\n",
              "      <td>43.1</td>\n",
              "      <td>2.288</td>\n",
              "      <td>33</td>\n",
              "      <td>1</td>\n",
              "    </tr>\n",
              "  </tbody>\n",
              "</table>\n",
              "</div>\n",
              "      <button class=\"colab-df-convert\" onclick=\"convertToInteractive('df-19179fdf-790d-4e39-b2d8-3473b94d4d7b')\"\n",
              "              title=\"Convert this dataframe to an interactive table.\"\n",
              "              style=\"display:none;\">\n",
              "        \n",
              "  <svg xmlns=\"http://www.w3.org/2000/svg\" height=\"24px\"viewBox=\"0 0 24 24\"\n",
              "       width=\"24px\">\n",
              "    <path d=\"M0 0h24v24H0V0z\" fill=\"none\"/>\n",
              "    <path d=\"M18.56 5.44l.94 2.06.94-2.06 2.06-.94-2.06-.94-.94-2.06-.94 2.06-2.06.94zm-11 1L8.5 8.5l.94-2.06 2.06-.94-2.06-.94L8.5 2.5l-.94 2.06-2.06.94zm10 10l.94 2.06.94-2.06 2.06-.94-2.06-.94-.94-2.06-.94 2.06-2.06.94z\"/><path d=\"M17.41 7.96l-1.37-1.37c-.4-.4-.92-.59-1.43-.59-.52 0-1.04.2-1.43.59L10.3 9.45l-7.72 7.72c-.78.78-.78 2.05 0 2.83L4 21.41c.39.39.9.59 1.41.59.51 0 1.02-.2 1.41-.59l7.78-7.78 2.81-2.81c.8-.78.8-2.07 0-2.86zM5.41 20L4 18.59l7.72-7.72 1.47 1.35L5.41 20z\"/>\n",
              "  </svg>\n",
              "      </button>\n",
              "      \n",
              "  <style>\n",
              "    .colab-df-container {\n",
              "      display:flex;\n",
              "      flex-wrap:wrap;\n",
              "      gap: 12px;\n",
              "    }\n",
              "\n",
              "    .colab-df-convert {\n",
              "      background-color: #E8F0FE;\n",
              "      border: none;\n",
              "      border-radius: 50%;\n",
              "      cursor: pointer;\n",
              "      display: none;\n",
              "      fill: #1967D2;\n",
              "      height: 32px;\n",
              "      padding: 0 0 0 0;\n",
              "      width: 32px;\n",
              "    }\n",
              "\n",
              "    .colab-df-convert:hover {\n",
              "      background-color: #E2EBFA;\n",
              "      box-shadow: 0px 1px 2px rgba(60, 64, 67, 0.3), 0px 1px 3px 1px rgba(60, 64, 67, 0.15);\n",
              "      fill: #174EA6;\n",
              "    }\n",
              "\n",
              "    [theme=dark] .colab-df-convert {\n",
              "      background-color: #3B4455;\n",
              "      fill: #D2E3FC;\n",
              "    }\n",
              "\n",
              "    [theme=dark] .colab-df-convert:hover {\n",
              "      background-color: #434B5C;\n",
              "      box-shadow: 0px 1px 3px 1px rgba(0, 0, 0, 0.15);\n",
              "      filter: drop-shadow(0px 1px 2px rgba(0, 0, 0, 0.3));\n",
              "      fill: #FFFFFF;\n",
              "    }\n",
              "  </style>\n",
              "\n",
              "      <script>\n",
              "        const buttonEl =\n",
              "          document.querySelector('#df-19179fdf-790d-4e39-b2d8-3473b94d4d7b button.colab-df-convert');\n",
              "        buttonEl.style.display =\n",
              "          google.colab.kernel.accessAllowed ? 'block' : 'none';\n",
              "\n",
              "        async function convertToInteractive(key) {\n",
              "          const element = document.querySelector('#df-19179fdf-790d-4e39-b2d8-3473b94d4d7b');\n",
              "          const dataTable =\n",
              "            await google.colab.kernel.invokeFunction('convertToInteractive',\n",
              "                                                     [key], {});\n",
              "          if (!dataTable) return;\n",
              "\n",
              "          const docLinkHtml = 'Like what you see? Visit the ' +\n",
              "            '<a target=\"_blank\" href=https://colab.research.google.com/notebooks/data_table.ipynb>data table notebook</a>'\n",
              "            + ' to learn more about interactive tables.';\n",
              "          element.innerHTML = '';\n",
              "          dataTable['output_type'] = 'display_data';\n",
              "          await google.colab.output.renderOutput(dataTable, element);\n",
              "          const docLink = document.createElement('div');\n",
              "          docLink.innerHTML = docLinkHtml;\n",
              "          element.appendChild(docLink);\n",
              "        }\n",
              "      </script>\n",
              "    </div>\n",
              "  </div>\n",
              "  "
            ]
          },
          "metadata": {},
          "execution_count": 11
        }
      ]
    },
    {
      "cell_type": "markdown",
      "source": [
        "### Show dataset schema."
      ],
      "metadata": {
        "id": "qD04P33XvsSp"
      }
    },
    {
      "cell_type": "code",
      "source": [
        "pima_dataset.info()"
      ],
      "metadata": {
        "colab": {
          "base_uri": "https://localhost:8080/"
        },
        "id": "ucoj6nwevYp9",
        "outputId": "02e5558e-7293-4e3c-f708-ad0843bf7662"
      },
      "execution_count": 12,
      "outputs": [
        {
          "output_type": "stream",
          "name": "stdout",
          "text": [
            "<class 'pandas.core.frame.DataFrame'>\n",
            "RangeIndex: 768 entries, 1 to 768\n",
            "Data columns (total 9 columns):\n",
            " #   Column    Non-Null Count  Dtype \n",
            "---  ------    --------------  ----- \n",
            " 0   pregnant  768 non-null    object\n",
            " 1   glucose   768 non-null    object\n",
            " 2   bp        768 non-null    object\n",
            " 3   skin      768 non-null    object\n",
            " 4   insulin   768 non-null    object\n",
            " 5   bmi       768 non-null    object\n",
            " 6   pedigree  768 non-null    object\n",
            " 7   age       768 non-null    object\n",
            " 8   label     768 non-null    object\n",
            "dtypes: object(9)\n",
            "memory usage: 54.1+ KB\n"
          ]
        }
      ]
    },
    {
      "cell_type": "markdown",
      "source": [
        "# Preprocess dataset."
      ],
      "metadata": {
        "id": "nyhJl3YquREk"
      }
    },
    {
      "cell_type": "markdown",
      "source": [
        "### Check for missing values in the dataset."
      ],
      "metadata": {
        "id": "myXa3RCJudSk"
      }
    },
    {
      "cell_type": "code",
      "source": [
        "pima_dataset.isnull().sum()"
      ],
      "metadata": {
        "colab": {
          "base_uri": "https://localhost:8080/"
        },
        "id": "p07EVHoHuVqz",
        "outputId": "f6a0968c-9604-4dec-841e-249ab97c290a"
      },
      "execution_count": 13,
      "outputs": [
        {
          "output_type": "execute_result",
          "data": {
            "text/plain": [
              "pregnant    0\n",
              "glucose     0\n",
              "bp          0\n",
              "skin        0\n",
              "insulin     0\n",
              "bmi         0\n",
              "pedigree    0\n",
              "age         0\n",
              "label       0\n",
              "dtype: int64"
            ]
          },
          "metadata": {},
          "execution_count": 13
        }
      ]
    },
    {
      "cell_type": "markdown",
      "source": [
        "### Define input variables (X) and an output variable (y)."
      ],
      "metadata": {
        "id": "fCD2AZ1Cv1iM"
      }
    },
    {
      "cell_type": "code",
      "source": [
        "feature_columns = ['pregnant', 'insulin', 'bmi', 'age','glucose','bp','pedigree']"
      ],
      "metadata": {
        "id": "nBM5YhcBv137"
      },
      "execution_count": 14,
      "outputs": []
    },
    {
      "cell_type": "code",
      "source": [
        "X = pima_dataset[feature_columns]\n",
        "y = pima_dataset.label"
      ],
      "metadata": {
        "id": "mFOIwCaFLE6K"
      },
      "execution_count": 15,
      "outputs": []
    },
    {
      "cell_type": "code",
      "source": [
        "print(X.shape)\n",
        "print(y.shape)"
      ],
      "metadata": {
        "colab": {
          "base_uri": "https://localhost:8080/"
        },
        "id": "QBiJDfGkv3OC",
        "outputId": "96e17e99-ca18-47c4-fd36-7d347a6c3f2e"
      },
      "execution_count": 16,
      "outputs": [
        {
          "output_type": "stream",
          "name": "stdout",
          "text": [
            "(768, 7)\n",
            "(768,)\n"
          ]
        }
      ]
    },
    {
      "cell_type": "markdown",
      "source": [
        "### Import required python modules."
      ],
      "metadata": {
        "id": "HDp3awf5wpKc"
      }
    },
    {
      "cell_type": "code",
      "source": [
        "from sklearn.model_selection import train_test_split"
      ],
      "metadata": {
        "id": "YshAOhstwzsK"
      },
      "execution_count": 17,
      "outputs": []
    },
    {
      "cell_type": "code",
      "source": [
        "seed = 9\n",
        "test_size = 0.25"
      ],
      "metadata": {
        "id": "B1u4q3nMw4Kf"
      },
      "execution_count": 18,
      "outputs": []
    },
    {
      "cell_type": "code",
      "source": [
        "X_train, X_test, y_train, y_test = train_test_split(X, y, test_size = test_size, random_state = seed)\n",
        "\n",
        "print(X_train.shape)\n",
        "print(X_test.shape)\n",
        "print(y_train.shape)\n",
        "print(y_test.shape)"
      ],
      "metadata": {
        "colab": {
          "base_uri": "https://localhost:8080/"
        },
        "id": "SIZsl-s-wpiU",
        "outputId": "225e6ee0-c5fe-44b9-c565-a1e0594663ad"
      },
      "execution_count": 19,
      "outputs": [
        {
          "output_type": "stream",
          "name": "stdout",
          "text": [
            "(576, 7)\n",
            "(192, 7)\n",
            "(576,)\n",
            "(192,)\n"
          ]
        }
      ]
    },
    {
      "cell_type": "markdown",
      "source": [
        "# Create logistic regression model."
      ],
      "metadata": {
        "id": "m7ho3E0gzrXB"
      }
    },
    {
      "cell_type": "markdown",
      "source": [
        "### Import required python modules.\n",
        "\n",
        "See [link](https://scikit-learn.org/stable/modules/generated/sklearn.linear_model.LogisticRegression.html) for more details. "
      ],
      "metadata": {
        "id": "w0-gpYAlHSA6"
      }
    },
    {
      "cell_type": "code",
      "source": [
        "from sklearn.linear_model import LogisticRegression"
      ],
      "metadata": {
        "id": "gU3lF6WAHVLR"
      },
      "execution_count": 20,
      "outputs": []
    },
    {
      "cell_type": "markdown",
      "source": [
        "### Create logistic regression model."
      ],
      "metadata": {
        "id": "mTgWkdFLHX3u"
      }
    },
    {
      "cell_type": "code",
      "source": [
        "model = LogisticRegression(max_iter=500, random_state=16)\n",
        "model.fit(X_train, y_train)"
      ],
      "metadata": {
        "colab": {
          "base_uri": "https://localhost:8080/"
        },
        "id": "4sNgPJuJHiOb",
        "outputId": "aacc1d4b-c26c-4e24-86f8-508f6b37b1b1"
      },
      "execution_count": 21,
      "outputs": [
        {
          "output_type": "execute_result",
          "data": {
            "text/plain": [
              "LogisticRegression(max_iter=500, random_state=16)"
            ]
          },
          "metadata": {},
          "execution_count": 21
        }
      ]
    },
    {
      "cell_type": "markdown",
      "source": [
        "# Evaluate the model."
      ],
      "metadata": {
        "id": "fNIKchXxxeyK"
      }
    },
    {
      "cell_type": "markdown",
      "source": [
        "### Import required python modules."
      ],
      "metadata": {
        "id": "h58d8Qruxq3a"
      }
    },
    {
      "cell_type": "code",
      "source": [
        "from sklearn import metrics\n",
        "from sklearn.metrics import classification_report"
      ],
      "metadata": {
        "id": "a8RYprVtxsKK"
      },
      "execution_count": 22,
      "outputs": []
    },
    {
      "cell_type": "markdown",
      "source": [
        "### Evaluate the model on the training dataset."
      ],
      "metadata": {
        "id": "JjU3Ba2ox7ta"
      }
    },
    {
      "cell_type": "code",
      "source": [
        "y_train_predict = model.predict(X_train)\n",
        "\n",
        "confusion_matrix = metrics.confusion_matrix(y_train, y_train_predict)\n",
        "confusion_matrix"
      ],
      "metadata": {
        "id": "2pgFVlEWxhKF",
        "colab": {
          "base_uri": "https://localhost:8080/"
        },
        "outputId": "7b28d15e-891f-479d-bd35-8a9e95503eb2"
      },
      "execution_count": 23,
      "outputs": [
        {
          "output_type": "execute_result",
          "data": {
            "text/plain": [
              "array([[342,  35],\n",
              "       [ 83, 116]])"
            ]
          },
          "metadata": {},
          "execution_count": 23
        }
      ]
    },
    {
      "cell_type": "markdown",
      "source": [
        "### Evaluate the model on the test dataset."
      ],
      "metadata": {
        "id": "uBHm3N2Lxv-C"
      }
    },
    {
      "cell_type": "code",
      "source": [
        "y_test_predict = model.predict(X_test)\n",
        "\n",
        "confusion_matrix = metrics.confusion_matrix(y_test, y_test_predict)\n",
        "confusion_matrix"
      ],
      "metadata": {
        "id": "_siarfJ_xwTl",
        "colab": {
          "base_uri": "https://localhost:8080/"
        },
        "outputId": "029ebec2-998b-4a28-e990-7c829ad014b2"
      },
      "execution_count": 24,
      "outputs": [
        {
          "output_type": "execute_result",
          "data": {
            "text/plain": [
              "array([[102,  21],\n",
              "       [ 27,  42]])"
            ]
          },
          "metadata": {},
          "execution_count": 24
        }
      ]
    },
    {
      "cell_type": "markdown",
      "source": [
        "### Show classification report."
      ],
      "metadata": {
        "id": "c-8Rb7HtKGNM"
      }
    },
    {
      "cell_type": "code",
      "source": [
        "target_names = ['without diabetes', 'with diabetes']\n",
        "print(classification_report(y_test, y_test_predict, target_names=target_names))"
      ],
      "metadata": {
        "colab": {
          "base_uri": "https://localhost:8080/"
        },
        "id": "UHh6fIgTKG2L",
        "outputId": "b5a6a183-af05-4f7e-c318-32571e22ab04"
      },
      "execution_count": 25,
      "outputs": [
        {
          "output_type": "stream",
          "name": "stdout",
          "text": [
            "                  precision    recall  f1-score   support\n",
            "\n",
            "without diabetes       0.79      0.83      0.81       123\n",
            "   with diabetes       0.67      0.61      0.64        69\n",
            "\n",
            "        accuracy                           0.75       192\n",
            "       macro avg       0.73      0.72      0.72       192\n",
            "    weighted avg       0.75      0.75      0.75       192\n",
            "\n"
          ]
        }
      ]
    }
  ]
}