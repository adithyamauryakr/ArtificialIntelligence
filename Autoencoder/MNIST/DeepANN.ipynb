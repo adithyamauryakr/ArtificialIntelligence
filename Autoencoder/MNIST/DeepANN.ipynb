{
  "nbformat": 4,
  "nbformat_minor": 0,
  "metadata": {
    "colab": {
      "name": "DeepANN.ipynb",
      "provenance": [],
      "private_outputs": true,
      "collapsed_sections": []
    },
    "kernelspec": {
      "name": "python3",
      "display_name": "Python 3"
    },
    "accelerator": "GPU"
  },
  "cells": [
    {
      "cell_type": "code",
      "metadata": {
        "id": "uXeZpY5gv2hn",
        "colab_type": "code",
        "colab": {}
      },
      "source": [
        "import tensorflow as tf\n",
        "from tensorflow import keras\n",
        "\n",
        "print(tf.__version__)"
      ],
      "execution_count": 0,
      "outputs": []
    },
    {
      "cell_type": "code",
      "metadata": {
        "id": "KQGkBi5d_MDt",
        "colab_type": "code",
        "colab": {}
      },
      "source": [
        "import numpy as np\n",
        "np.random.seed(7)"
      ],
      "execution_count": 0,
      "outputs": []
    },
    {
      "cell_type": "code",
      "metadata": {
        "id": "sUxYg5EiAVNK",
        "colab_type": "code",
        "colab": {}
      },
      "source": [
        "from keras.datasets import mnist\n",
        "\n",
        "(X_train, y_train), (X_test, y_test) = mnist.load_data()"
      ],
      "execution_count": 0,
      "outputs": []
    },
    {
      "cell_type": "code",
      "metadata": {
        "id": "qyFBjiKyAq-F",
        "colab_type": "code",
        "colab": {}
      },
      "source": [
        "image_shape = (X_train.shape[1], X_train.shape[2])\n",
        "input_size = image_shape[0] * image_shape[1]\n",
        "print('input size -',input_size)"
      ],
      "execution_count": 0,
      "outputs": []
    },
    {
      "cell_type": "code",
      "metadata": {
        "id": "9haISXdT_Ors",
        "colab_type": "code",
        "colab": {}
      },
      "source": [
        "X_train = X_train.astype('float32') / 255.\n",
        "X_test = X_test.astype('float32') / 255."
      ],
      "execution_count": 0,
      "outputs": []
    },
    {
      "cell_type": "code",
      "metadata": {
        "id": "AaRhBSmDBogU",
        "colab_type": "code",
        "colab": {}
      },
      "source": [
        "X_train = X_train.reshape((len(X_train), input_size))\n",
        "X_test = X_test.reshape((len(X_test), input_size))"
      ],
      "execution_count": 0,
      "outputs": []
    },
    {
      "cell_type": "code",
      "metadata": {
        "id": "GkYb7EiI-SKc",
        "colab_type": "code",
        "colab": {}
      },
      "source": [
        "from keras.layers import Input, Dense\n",
        "from keras.models import Sequential, Model"
      ],
      "execution_count": 0,
      "outputs": []
    },
    {
      "cell_type": "code",
      "metadata": {
        "id": "4RcrmvNTyY__",
        "colab_type": "code",
        "colab": {}
      },
      "source": [
        "embedding_size = 32"
      ],
      "execution_count": 0,
      "outputs": []
    },
    {
      "cell_type": "code",
      "metadata": {
        "id": "rr9MbomFx7f0",
        "colab_type": "code",
        "colab": {}
      },
      "source": [
        "encoder = Sequential(name='encoder')\n",
        "\n",
        "encoder.add(Dense(128, activation='relu', input_shape=(input_size,), name='encoder_layer1'))\n",
        "encoder.add(Dense(64, activation='relu', name='encoder_layer2'))\n",
        "encoder.add(Dense(embedding_size, activation='relu', name='encoder_layer3'))\n",
        "\n",
        "encoder.summary()"
      ],
      "execution_count": 0,
      "outputs": []
    },
    {
      "cell_type": "code",
      "metadata": {
        "id": "NV-ScvXJyi_L",
        "colab_type": "code",
        "colab": {}
      },
      "source": [
        "decoder = Sequential(name='decoder')\n",
        "\n",
        "decoder.add(Dense(64, activation='relu', input_shape=(embedding_size,), name='decoder_layer1'))\n",
        "decoder.add(Dense(128, activation='relu', name='decoder_layer2'))\n",
        "decoder.add(Dense(input_size, activation='sigmoid', name='decoder_layer3'))\n",
        "\n",
        "decoder.summary()"
      ],
      "execution_count": 0,
      "outputs": []
    },
    {
      "cell_type": "code",
      "metadata": {
        "id": "M0QAle3iy_zP",
        "colab_type": "code",
        "colab": {}
      },
      "source": [
        "autoencoder = Sequential(name='autoencoder')\n",
        "autoencoder.add(encoder)\n",
        "autoencoder.add(decoder)\n",
        "autoencoder.summary()"
      ],
      "execution_count": 0,
      "outputs": []
    },
    {
      "cell_type": "code",
      "metadata": {
        "id": "IMikLOd2F7Sb",
        "colab_type": "code",
        "colab": {}
      },
      "source": [
        "autoencoder.compile(optimizer='adadelta', loss='binary_crossentropy')"
      ],
      "execution_count": 0,
      "outputs": []
    },
    {
      "cell_type": "code",
      "metadata": {
        "id": "s-MiPnKrzGbL",
        "colab_type": "code",
        "colab": {}
      },
      "source": [
        "epochs = 100\n",
        "batch_size = 256"
      ],
      "execution_count": 0,
      "outputs": []
    },
    {
      "cell_type": "code",
      "metadata": {
        "id": "OJO4I6u7_REB",
        "colab_type": "code",
        "colab": {}
      },
      "source": [
        "history = autoencoder.fit(X_train, X_train,\n",
        "                          epochs=epochs,\n",
        "                          batch_size=batch_size,\n",
        "                          shuffle=True,\n",
        "                          validation_data=(X_test, X_test))"
      ],
      "execution_count": 0,
      "outputs": []
    },
    {
      "cell_type": "code",
      "metadata": {
        "id": "9m02QLP5_TpR",
        "colab_type": "code",
        "colab": {}
      },
      "source": [
        "decoded_images = autoencoder.predict(X_test)"
      ],
      "execution_count": 0,
      "outputs": []
    },
    {
      "cell_type": "code",
      "metadata": {
        "id": "G1B3sEvW_YK2",
        "colab_type": "code",
        "colab": {}
      },
      "source": [
        "import matplotlib.pyplot as plot\n",
        "\n",
        "def show_images(input_images, processed_images, image_shape, number_of_samples=10): \n",
        "  if(processed_images is None):\n",
        "    number_of_rows = 1 \n",
        "  else:\n",
        "    number_of_rows = 2\n",
        "\n",
        "  plot.figure(figsize=(number_of_samples*number_of_rows, 4))\n",
        "\n",
        "  for sample_index in range(number_of_samples):\n",
        "    plot_index = sample_index + 1\n",
        "    ax = plot.subplot(number_of_rows, number_of_samples, plot_index)\n",
        "    plot.imshow(input_images[sample_index].reshape(image_shape))\n",
        "    plot.gray()\n",
        "    ax.get_xaxis().set_visible(False)\n",
        "    ax.get_yaxis().set_visible(False)\n",
        "\n",
        "    if(processed_images is None):\n",
        "      continue\n",
        "\n",
        "    plot_index = sample_index + 1 + number_of_samples\n",
        "    ax = plot.subplot(number_of_rows, number_of_samples, plot_index)\n",
        "    plot.imshow(processed_images[sample_index].reshape(image_shape))\n",
        "    plot.gray()\n",
        "    ax.get_xaxis().set_visible(False)\n",
        "    ax.get_yaxis().set_visible(False)\n",
        "  plot.show()"
      ],
      "execution_count": 0,
      "outputs": []
    },
    {
      "cell_type": "code",
      "metadata": {
        "id": "BJg8EcL3zYAK",
        "colab_type": "code",
        "colab": {}
      },
      "source": [
        "show_images(X_test, decoded_images, image_shape)"
      ],
      "execution_count": 0,
      "outputs": []
    }
  ]
}